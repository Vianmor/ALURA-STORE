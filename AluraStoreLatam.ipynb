{
  "nbformat": 4,
  "nbformat_minor": 0,
  "metadata": {
    "colab": {
      "provenance": [],
      "include_colab_link": true
    },
    "kernelspec": {
      "name": "python3",
      "display_name": "Python 3"
    },
    "language_info": {
      "name": "python"
    }
  },
  "cells": [
    {
      "cell_type": "markdown",
      "metadata": {
        "id": "view-in-github",
        "colab_type": "text"
      },
      "source": [
        "<a href=\"https://colab.research.google.com/github/Vianmor/ALURA-STORE/blob/main/AluraStoreLatam.ipynb\" target=\"_parent\"><img src=\"https://colab.research.google.com/assets/colab-badge.svg\" alt=\"Open In Colab\"/></a>"
      ]
    },
    {
      "cell_type": "markdown",
      "source": [
        "### Importación de datos\n",
        "\n"
      ],
      "metadata": {
        "id": "RhEdWd9YUR6H"
      }
    },
    {
      "cell_type": "code",
      "source": [
        "import pandas as pd\n",
        "\n",
        "url = \"https://raw.githubusercontent.com/alura-es-cursos/challenge1-data-science-latam/refs/heads/main/base-de-datos-challenge1-latam/tienda_1%20.csv\"\n",
        "url2 = \"https://raw.githubusercontent.com/alura-es-cursos/challenge1-data-science-latam/refs/heads/main/base-de-datos-challenge1-latam/tienda_2.csv\"\n",
        "url3 = \"https://raw.githubusercontent.com/alura-es-cursos/challenge1-data-science-latam/refs/heads/main/base-de-datos-challenge1-latam/tienda_3.csv\"\n",
        "url4 = \"https://raw.githubusercontent.com/alura-es-cursos/challenge1-data-science-latam/refs/heads/main/base-de-datos-challenge1-latam/tienda_4.csv\"\n",
        "\n",
        "tienda = pd.read_csv(url)\n",
        "tienda2 = pd.read_csv(url2)\n",
        "tienda3 = pd.read_csv(url3)\n",
        "tienda4 = pd.read_csv(url4)\n",
        "\n",
        "tienda.head()"
      ],
      "metadata": {
        "colab": {
          "base_uri": "https://localhost:8080/",
          "height": 206
        },
        "id": "eweNxstmAqUw",
        "outputId": "59629484-45dd-471f-a4bb-ec6a76a7a27e"
      },
      "execution_count": 224,
      "outputs": [
        {
          "output_type": "execute_result",
          "data": {
            "text/plain": [
              "            Producto Categoría del Producto    Precio  Costo de envío  \\\n",
              "0  Asistente virtual           Electrónicos  164300.0          6900.0   \n",
              "1    Mesa de comedor                Muebles  192300.0          8400.0   \n",
              "2      Juego de mesa               Juguetes  209600.0         15900.0   \n",
              "3         Microondas      Electrodomésticos  757500.0         41000.0   \n",
              "4   Silla de oficina                Muebles  335200.0         20200.0   \n",
              "\n",
              "  Fecha de Compra         Vendedor Lugar de Compra  Calificación  \\\n",
              "0      16/01/2021      Pedro Gomez          Bogotá             4   \n",
              "1      18/05/2022  Beatriz Morales        Medellín             1   \n",
              "2      15/03/2021   Juan Fernandez       Cartagena             1   \n",
              "3      03/05/2022   Juan Fernandez            Cali             4   \n",
              "4      07/11/2020    Maria Alfonso        Medellín             5   \n",
              "\n",
              "       Método de pago  Cantidad de cuotas       lat       lon  \n",
              "0  Tarjeta de crédito                   8   4.60971 -74.08175  \n",
              "1  Tarjeta de crédito                   4   6.25184 -75.56359  \n",
              "2  Tarjeta de crédito                   1  10.39972 -75.51444  \n",
              "3               Nequi                   1   3.43722 -76.52250  \n",
              "4               Nequi                   1   6.25184 -75.56359  "
            ],
            "text/html": [
              "\n",
              "  <div id=\"df-c3cde0a4-8984-4a58-b532-3065041c79b8\" class=\"colab-df-container\">\n",
              "    <div>\n",
              "<style scoped>\n",
              "    .dataframe tbody tr th:only-of-type {\n",
              "        vertical-align: middle;\n",
              "    }\n",
              "\n",
              "    .dataframe tbody tr th {\n",
              "        vertical-align: top;\n",
              "    }\n",
              "\n",
              "    .dataframe thead th {\n",
              "        text-align: right;\n",
              "    }\n",
              "</style>\n",
              "<table border=\"1\" class=\"dataframe\">\n",
              "  <thead>\n",
              "    <tr style=\"text-align: right;\">\n",
              "      <th></th>\n",
              "      <th>Producto</th>\n",
              "      <th>Categoría del Producto</th>\n",
              "      <th>Precio</th>\n",
              "      <th>Costo de envío</th>\n",
              "      <th>Fecha de Compra</th>\n",
              "      <th>Vendedor</th>\n",
              "      <th>Lugar de Compra</th>\n",
              "      <th>Calificación</th>\n",
              "      <th>Método de pago</th>\n",
              "      <th>Cantidad de cuotas</th>\n",
              "      <th>lat</th>\n",
              "      <th>lon</th>\n",
              "    </tr>\n",
              "  </thead>\n",
              "  <tbody>\n",
              "    <tr>\n",
              "      <th>0</th>\n",
              "      <td>Asistente virtual</td>\n",
              "      <td>Electrónicos</td>\n",
              "      <td>164300.0</td>\n",
              "      <td>6900.0</td>\n",
              "      <td>16/01/2021</td>\n",
              "      <td>Pedro Gomez</td>\n",
              "      <td>Bogotá</td>\n",
              "      <td>4</td>\n",
              "      <td>Tarjeta de crédito</td>\n",
              "      <td>8</td>\n",
              "      <td>4.60971</td>\n",
              "      <td>-74.08175</td>\n",
              "    </tr>\n",
              "    <tr>\n",
              "      <th>1</th>\n",
              "      <td>Mesa de comedor</td>\n",
              "      <td>Muebles</td>\n",
              "      <td>192300.0</td>\n",
              "      <td>8400.0</td>\n",
              "      <td>18/05/2022</td>\n",
              "      <td>Beatriz Morales</td>\n",
              "      <td>Medellín</td>\n",
              "      <td>1</td>\n",
              "      <td>Tarjeta de crédito</td>\n",
              "      <td>4</td>\n",
              "      <td>6.25184</td>\n",
              "      <td>-75.56359</td>\n",
              "    </tr>\n",
              "    <tr>\n",
              "      <th>2</th>\n",
              "      <td>Juego de mesa</td>\n",
              "      <td>Juguetes</td>\n",
              "      <td>209600.0</td>\n",
              "      <td>15900.0</td>\n",
              "      <td>15/03/2021</td>\n",
              "      <td>Juan Fernandez</td>\n",
              "      <td>Cartagena</td>\n",
              "      <td>1</td>\n",
              "      <td>Tarjeta de crédito</td>\n",
              "      <td>1</td>\n",
              "      <td>10.39972</td>\n",
              "      <td>-75.51444</td>\n",
              "    </tr>\n",
              "    <tr>\n",
              "      <th>3</th>\n",
              "      <td>Microondas</td>\n",
              "      <td>Electrodomésticos</td>\n",
              "      <td>757500.0</td>\n",
              "      <td>41000.0</td>\n",
              "      <td>03/05/2022</td>\n",
              "      <td>Juan Fernandez</td>\n",
              "      <td>Cali</td>\n",
              "      <td>4</td>\n",
              "      <td>Nequi</td>\n",
              "      <td>1</td>\n",
              "      <td>3.43722</td>\n",
              "      <td>-76.52250</td>\n",
              "    </tr>\n",
              "    <tr>\n",
              "      <th>4</th>\n",
              "      <td>Silla de oficina</td>\n",
              "      <td>Muebles</td>\n",
              "      <td>335200.0</td>\n",
              "      <td>20200.0</td>\n",
              "      <td>07/11/2020</td>\n",
              "      <td>Maria Alfonso</td>\n",
              "      <td>Medellín</td>\n",
              "      <td>5</td>\n",
              "      <td>Nequi</td>\n",
              "      <td>1</td>\n",
              "      <td>6.25184</td>\n",
              "      <td>-75.56359</td>\n",
              "    </tr>\n",
              "  </tbody>\n",
              "</table>\n",
              "</div>\n",
              "    <div class=\"colab-df-buttons\">\n",
              "\n",
              "  <div class=\"colab-df-container\">\n",
              "    <button class=\"colab-df-convert\" onclick=\"convertToInteractive('df-c3cde0a4-8984-4a58-b532-3065041c79b8')\"\n",
              "            title=\"Convert this dataframe to an interactive table.\"\n",
              "            style=\"display:none;\">\n",
              "\n",
              "  <svg xmlns=\"http://www.w3.org/2000/svg\" height=\"24px\" viewBox=\"0 -960 960 960\">\n",
              "    <path d=\"M120-120v-720h720v720H120Zm60-500h600v-160H180v160Zm220 220h160v-160H400v160Zm0 220h160v-160H400v160ZM180-400h160v-160H180v160Zm440 0h160v-160H620v160ZM180-180h160v-160H180v160Zm440 0h160v-160H620v160Z\"/>\n",
              "  </svg>\n",
              "    </button>\n",
              "\n",
              "  <style>\n",
              "    .colab-df-container {\n",
              "      display:flex;\n",
              "      gap: 12px;\n",
              "    }\n",
              "\n",
              "    .colab-df-convert {\n",
              "      background-color: #E8F0FE;\n",
              "      border: none;\n",
              "      border-radius: 50%;\n",
              "      cursor: pointer;\n",
              "      display: none;\n",
              "      fill: #1967D2;\n",
              "      height: 32px;\n",
              "      padding: 0 0 0 0;\n",
              "      width: 32px;\n",
              "    }\n",
              "\n",
              "    .colab-df-convert:hover {\n",
              "      background-color: #E2EBFA;\n",
              "      box-shadow: 0px 1px 2px rgba(60, 64, 67, 0.3), 0px 1px 3px 1px rgba(60, 64, 67, 0.15);\n",
              "      fill: #174EA6;\n",
              "    }\n",
              "\n",
              "    .colab-df-buttons div {\n",
              "      margin-bottom: 4px;\n",
              "    }\n",
              "\n",
              "    [theme=dark] .colab-df-convert {\n",
              "      background-color: #3B4455;\n",
              "      fill: #D2E3FC;\n",
              "    }\n",
              "\n",
              "    [theme=dark] .colab-df-convert:hover {\n",
              "      background-color: #434B5C;\n",
              "      box-shadow: 0px 1px 3px 1px rgba(0, 0, 0, 0.15);\n",
              "      filter: drop-shadow(0px 1px 2px rgba(0, 0, 0, 0.3));\n",
              "      fill: #FFFFFF;\n",
              "    }\n",
              "  </style>\n",
              "\n",
              "    <script>\n",
              "      const buttonEl =\n",
              "        document.querySelector('#df-c3cde0a4-8984-4a58-b532-3065041c79b8 button.colab-df-convert');\n",
              "      buttonEl.style.display =\n",
              "        google.colab.kernel.accessAllowed ? 'block' : 'none';\n",
              "\n",
              "      async function convertToInteractive(key) {\n",
              "        const element = document.querySelector('#df-c3cde0a4-8984-4a58-b532-3065041c79b8');\n",
              "        const dataTable =\n",
              "          await google.colab.kernel.invokeFunction('convertToInteractive',\n",
              "                                                    [key], {});\n",
              "        if (!dataTable) return;\n",
              "\n",
              "        const docLinkHtml = 'Like what you see? Visit the ' +\n",
              "          '<a target=\"_blank\" href=https://colab.research.google.com/notebooks/data_table.ipynb>data table notebook</a>'\n",
              "          + ' to learn more about interactive tables.';\n",
              "        element.innerHTML = '';\n",
              "        dataTable['output_type'] = 'display_data';\n",
              "        await google.colab.output.renderOutput(dataTable, element);\n",
              "        const docLink = document.createElement('div');\n",
              "        docLink.innerHTML = docLinkHtml;\n",
              "        element.appendChild(docLink);\n",
              "      }\n",
              "    </script>\n",
              "  </div>\n",
              "\n",
              "\n",
              "<div id=\"df-7800a499-7cb6-4698-9de2-068979457a08\">\n",
              "  <button class=\"colab-df-quickchart\" onclick=\"quickchart('df-7800a499-7cb6-4698-9de2-068979457a08')\"\n",
              "            title=\"Suggest charts\"\n",
              "            style=\"display:none;\">\n",
              "\n",
              "<svg xmlns=\"http://www.w3.org/2000/svg\" height=\"24px\"viewBox=\"0 0 24 24\"\n",
              "     width=\"24px\">\n",
              "    <g>\n",
              "        <path d=\"M19 3H5c-1.1 0-2 .9-2 2v14c0 1.1.9 2 2 2h14c1.1 0 2-.9 2-2V5c0-1.1-.9-2-2-2zM9 17H7v-7h2v7zm4 0h-2V7h2v10zm4 0h-2v-4h2v4z\"/>\n",
              "    </g>\n",
              "</svg>\n",
              "  </button>\n",
              "\n",
              "<style>\n",
              "  .colab-df-quickchart {\n",
              "      --bg-color: #E8F0FE;\n",
              "      --fill-color: #1967D2;\n",
              "      --hover-bg-color: #E2EBFA;\n",
              "      --hover-fill-color: #174EA6;\n",
              "      --disabled-fill-color: #AAA;\n",
              "      --disabled-bg-color: #DDD;\n",
              "  }\n",
              "\n",
              "  [theme=dark] .colab-df-quickchart {\n",
              "      --bg-color: #3B4455;\n",
              "      --fill-color: #D2E3FC;\n",
              "      --hover-bg-color: #434B5C;\n",
              "      --hover-fill-color: #FFFFFF;\n",
              "      --disabled-bg-color: #3B4455;\n",
              "      --disabled-fill-color: #666;\n",
              "  }\n",
              "\n",
              "  .colab-df-quickchart {\n",
              "    background-color: var(--bg-color);\n",
              "    border: none;\n",
              "    border-radius: 50%;\n",
              "    cursor: pointer;\n",
              "    display: none;\n",
              "    fill: var(--fill-color);\n",
              "    height: 32px;\n",
              "    padding: 0;\n",
              "    width: 32px;\n",
              "  }\n",
              "\n",
              "  .colab-df-quickchart:hover {\n",
              "    background-color: var(--hover-bg-color);\n",
              "    box-shadow: 0 1px 2px rgba(60, 64, 67, 0.3), 0 1px 3px 1px rgba(60, 64, 67, 0.15);\n",
              "    fill: var(--button-hover-fill-color);\n",
              "  }\n",
              "\n",
              "  .colab-df-quickchart-complete:disabled,\n",
              "  .colab-df-quickchart-complete:disabled:hover {\n",
              "    background-color: var(--disabled-bg-color);\n",
              "    fill: var(--disabled-fill-color);\n",
              "    box-shadow: none;\n",
              "  }\n",
              "\n",
              "  .colab-df-spinner {\n",
              "    border: 2px solid var(--fill-color);\n",
              "    border-color: transparent;\n",
              "    border-bottom-color: var(--fill-color);\n",
              "    animation:\n",
              "      spin 1s steps(1) infinite;\n",
              "  }\n",
              "\n",
              "  @keyframes spin {\n",
              "    0% {\n",
              "      border-color: transparent;\n",
              "      border-bottom-color: var(--fill-color);\n",
              "      border-left-color: var(--fill-color);\n",
              "    }\n",
              "    20% {\n",
              "      border-color: transparent;\n",
              "      border-left-color: var(--fill-color);\n",
              "      border-top-color: var(--fill-color);\n",
              "    }\n",
              "    30% {\n",
              "      border-color: transparent;\n",
              "      border-left-color: var(--fill-color);\n",
              "      border-top-color: var(--fill-color);\n",
              "      border-right-color: var(--fill-color);\n",
              "    }\n",
              "    40% {\n",
              "      border-color: transparent;\n",
              "      border-right-color: var(--fill-color);\n",
              "      border-top-color: var(--fill-color);\n",
              "    }\n",
              "    60% {\n",
              "      border-color: transparent;\n",
              "      border-right-color: var(--fill-color);\n",
              "    }\n",
              "    80% {\n",
              "      border-color: transparent;\n",
              "      border-right-color: var(--fill-color);\n",
              "      border-bottom-color: var(--fill-color);\n",
              "    }\n",
              "    90% {\n",
              "      border-color: transparent;\n",
              "      border-bottom-color: var(--fill-color);\n",
              "    }\n",
              "  }\n",
              "</style>\n",
              "\n",
              "  <script>\n",
              "    async function quickchart(key) {\n",
              "      const quickchartButtonEl =\n",
              "        document.querySelector('#' + key + ' button');\n",
              "      quickchartButtonEl.disabled = true;  // To prevent multiple clicks.\n",
              "      quickchartButtonEl.classList.add('colab-df-spinner');\n",
              "      try {\n",
              "        const charts = await google.colab.kernel.invokeFunction(\n",
              "            'suggestCharts', [key], {});\n",
              "      } catch (error) {\n",
              "        console.error('Error during call to suggestCharts:', error);\n",
              "      }\n",
              "      quickchartButtonEl.classList.remove('colab-df-spinner');\n",
              "      quickchartButtonEl.classList.add('colab-df-quickchart-complete');\n",
              "    }\n",
              "    (() => {\n",
              "      let quickchartButtonEl =\n",
              "        document.querySelector('#df-7800a499-7cb6-4698-9de2-068979457a08 button');\n",
              "      quickchartButtonEl.style.display =\n",
              "        google.colab.kernel.accessAllowed ? 'block' : 'none';\n",
              "    })();\n",
              "  </script>\n",
              "</div>\n",
              "\n",
              "    </div>\n",
              "  </div>\n"
            ],
            "application/vnd.google.colaboratory.intrinsic+json": {
              "type": "dataframe",
              "variable_name": "tienda",
              "summary": "{\n  \"name\": \"tienda\",\n  \"rows\": 2359,\n  \"fields\": [\n    {\n      \"column\": \"Producto\",\n      \"properties\": {\n        \"dtype\": \"category\",\n        \"num_unique_values\": 51,\n        \"samples\": [\n          \"Guitarra ac\\u00fastica\",\n          \"Bal\\u00f3n de baloncesto\",\n          \"Smartwatch\"\n        ],\n        \"semantic_type\": \"\",\n        \"description\": \"\"\n      }\n    },\n    {\n      \"column\": \"Categor\\u00eda del Producto\",\n      \"properties\": {\n        \"dtype\": \"category\",\n        \"num_unique_values\": 8,\n        \"samples\": [\n          \"Muebles\",\n          \"Deportes y diversi\\u00f3n\",\n          \"Electr\\u00f3nicos\"\n        ],\n        \"semantic_type\": \"\",\n        \"description\": \"\"\n      }\n    },\n    {\n      \"column\": \"Precio\",\n      \"properties\": {\n        \"dtype\": \"number\",\n        \"std\": 614686.7653873172,\n        \"min\": 7600.0,\n        \"max\": 2977000.0,\n        \"num_unique_values\": 1937,\n        \"samples\": [\n          2499400.0,\n          14800.0,\n          80500.0\n        ],\n        \"semantic_type\": \"\",\n        \"description\": \"\"\n      }\n    },\n    {\n      \"column\": \"Costo de env\\u00edo\",\n      \"properties\": {\n        \"dtype\": \"number\",\n        \"std\": 32860.0017825605,\n        \"min\": 0.0,\n        \"max\": 160800.0,\n        \"num_unique_values\": 753,\n        \"samples\": [\n          117800.0,\n          54700.0,\n          45600.0\n        ],\n        \"semantic_type\": \"\",\n        \"description\": \"\"\n      }\n    },\n    {\n      \"column\": \"Fecha de Compra\",\n      \"properties\": {\n        \"dtype\": \"object\",\n        \"num_unique_values\": 1018,\n        \"samples\": [\n          \"15/09/2022\",\n          \"03/06/2020\",\n          \"06/11/2021\"\n        ],\n        \"semantic_type\": \"\",\n        \"description\": \"\"\n      }\n    },\n    {\n      \"column\": \"Vendedor\",\n      \"properties\": {\n        \"dtype\": \"category\",\n        \"num_unique_values\": 14,\n        \"samples\": [\n          \"Juliana Costa\",\n          \"Mariana Herrera\",\n          \"Pedro Gomez\"\n        ],\n        \"semantic_type\": \"\",\n        \"description\": \"\"\n      }\n    },\n    {\n      \"column\": \"Lugar de Compra\",\n      \"properties\": {\n        \"dtype\": \"category\",\n        \"num_unique_values\": 19,\n        \"samples\": [\n          \"Bogot\\u00e1\",\n          \"Pereira\",\n          \"Neiva\"\n        ],\n        \"semantic_type\": \"\",\n        \"description\": \"\"\n      }\n    },\n    {\n      \"column\": \"Calificaci\\u00f3n\",\n      \"properties\": {\n        \"dtype\": \"number\",\n        \"std\": 1,\n        \"min\": 1,\n        \"max\": 5,\n        \"num_unique_values\": 5,\n        \"samples\": [\n          1,\n          2,\n          5\n        ],\n        \"semantic_type\": \"\",\n        \"description\": \"\"\n      }\n    },\n    {\n      \"column\": \"M\\u00e9todo de pago\",\n      \"properties\": {\n        \"dtype\": \"category\",\n        \"num_unique_values\": 4,\n        \"samples\": [\n          \"Nequi\",\n          \"Tarjeta de d\\u00e9bito\",\n          \"Tarjeta de cr\\u00e9dito\"\n        ],\n        \"semantic_type\": \"\",\n        \"description\": \"\"\n      }\n    },\n    {\n      \"column\": \"Cantidad de cuotas\",\n      \"properties\": {\n        \"dtype\": \"number\",\n        \"std\": 2,\n        \"min\": 1,\n        \"max\": 24,\n        \"num_unique_values\": 15,\n        \"samples\": [\n          7,\n          14,\n          8\n        ],\n        \"semantic_type\": \"\",\n        \"description\": \"\"\n      }\n    },\n    {\n      \"column\": \"lat\",\n      \"properties\": {\n        \"dtype\": \"number\",\n        \"std\": 2.2874452492678627,\n        \"min\": -4.21528,\n        \"max\": 11.54444,\n        \"num_unique_values\": 19,\n        \"samples\": [\n          4.60971,\n          4.81333,\n          2.9273\n        ],\n        \"semantic_type\": \"\",\n        \"description\": \"\"\n      }\n    },\n    {\n      \"column\": \"lon\",\n      \"properties\": {\n        \"dtype\": \"number\",\n        \"std\": 1.2178272727088486,\n        \"min\": -77.28111,\n        \"max\": -67.9239,\n        \"num_unique_values\": 19,\n        \"samples\": [\n          -74.08175,\n          -75.69611,\n          -75.28189\n        ],\n        \"semantic_type\": \"\",\n        \"description\": \"\"\n      }\n    }\n  ]\n}"
            }
          },
          "metadata": {},
          "execution_count": 224
        }
      ]
    },
    {
      "cell_type": "markdown",
      "source": [
        "#1. Análisis de facturación\n",
        "\n"
      ],
      "metadata": {
        "id": "X62IW3KFUIYm"
      }
    },
    {
      "cell_type": "code",
      "source": [
        "import pandas as pd # import pandas library and alias it as 'pd'\n",
        "tienda = pd.read_csv(\"https://raw.githubusercontent.com/alura-es-cursos/challenge1-data-science-latam/refs/heads/main/base-de-datos-challenge1-latam/tienda_1%20.csv\")\n",
        "cantidad_tienda = len(tienda['Precio']) # Assuming 'precio' should be a column in 'tienda' DataFrame\n",
        "print(cantidad_tienda)"
      ],
      "metadata": {
        "colab": {
          "base_uri": "https://localhost:8080/"
        },
        "id": "wJ5FluSvRVOs",
        "outputId": "3a3d4d07-4e37-417e-be86-9977adddbc44"
      },
      "execution_count": 176,
      "outputs": [
        {
          "output_type": "stream",
          "name": "stdout",
          "text": [
            "2359\n"
          ]
        }
      ]
    },
    {
      "cell_type": "code",
      "source": [
        "import pandas as pd # import pandas library and alias it as 'pd'\n",
        "tienda2 = pd.read_csv(\"https://raw.githubusercontent.com/alura-es-cursos/challenge1-data-science-latam/refs/heads/main/base-de-datos-challenge1-latam/tienda_2.csv\")\n",
        "cantidad_tienda2 = len(tienda2['Precio']) # Assuming 'precio' should be a column in 'tienda' DataFrame\n",
        "print(cantidad_tienda2)"
      ],
      "metadata": {
        "colab": {
          "base_uri": "https://localhost:8080/"
        },
        "id": "b6_I1Uj5SPwO",
        "outputId": "e5d1475b-efc3-4cd0-d363-2f8a4055fde6"
      },
      "execution_count": 177,
      "outputs": [
        {
          "output_type": "stream",
          "name": "stdout",
          "text": [
            "2359\n"
          ]
        }
      ]
    },
    {
      "cell_type": "code",
      "source": [
        "import pandas as pd # import pandas library and alias it as 'pd'\n",
        "tienda3 = pd.read_csv(\"https://raw.githubusercontent.com/alura-es-cursos/challenge1-data-science-latam/refs/heads/main/base-de-datos-challenge1-latam/tienda_3.csv\")\n",
        "cantidad_tienda3 = len(tienda3['Precio']) # Assuming 'precio' should be a column in 'tienda' DataFrame\n",
        "print(cantidad_tienda3)"
      ],
      "metadata": {
        "colab": {
          "base_uri": "https://localhost:8080/"
        },
        "id": "YjN8biIBSQTa",
        "outputId": "359db176-a716-4de0-b570-4d9029991ea9"
      },
      "execution_count": 178,
      "outputs": [
        {
          "output_type": "stream",
          "name": "stdout",
          "text": [
            "2359\n"
          ]
        }
      ]
    },
    {
      "cell_type": "code",
      "source": [
        "import pandas as pd # import pandas library and alias it as 'pd'\n",
        "tienda4 = pd.read_csv(\"https://raw.githubusercontent.com/alura-es-cursos/challenge1-data-science-latam/refs/heads/main/base-de-datos-challenge1-latam/tienda_4.csv\"\n",
        ")\n",
        "cantidad_tienda4 = len(tienda4['Precio']) # Assuming 'precio' should be a column in 'tienda' DataFrame\n",
        "print(cantidad_tienda4)"
      ],
      "metadata": {
        "colab": {
          "base_uri": "https://localhost:8080/"
        },
        "id": "MfYYPzCYSQgE",
        "outputId": "d6a32d0f-c75a-4418-fc49-8315942bc4f1"
      },
      "execution_count": 179,
      "outputs": [
        {
          "output_type": "stream",
          "name": "stdout",
          "text": [
            "2358\n"
          ]
        }
      ]
    },
    {
      "cell_type": "code",
      "source": [
        "suma_precio_tienda1=tienda['Precio'].sum()\n",
        "print('El ingreso total en la tienda 1 es de: ',suma_precio_tienda1)\n",
        "suma_precio_tienda2=tienda2['Precio'].sum()\n",
        "print('El ingreso total en la tienda 2 es de: ',suma_precio_tienda2)\n",
        "suma_precio_tienda3=tienda3['Precio'].sum()\n",
        "print('El ingreso total en la tienda 3 es de: ',suma_precio_tienda3)\n",
        "suma_precio_tienda4=tienda4['Precio'].sum()\n",
        "print('El ingreso total en la tienda 4 es de: ',suma_precio_tienda4)\n",
        "\n"
      ],
      "metadata": {
        "colab": {
          "base_uri": "https://localhost:8080/"
        },
        "id": "sKG2QOarTee3",
        "outputId": "7f4e71b7-82e1-4643-8004-4b6e097b639c"
      },
      "execution_count": 180,
      "outputs": [
        {
          "output_type": "stream",
          "name": "stdout",
          "text": [
            "El ingreso total en la tienda 1 es de:  1150880400.0\n",
            "El ingreso total en la tienda 2 es de:  1116343500.0\n",
            "El ingreso total en la tienda 3 es de:  1098019600.0\n",
            "El ingreso total en la tienda 4 es de:  1038375700.0\n"
          ]
        }
      ]
    },
    {
      "cell_type": "code",
      "source": [
        "lista_ingresos = [suma_precio_tienda1, suma_precio_tienda2, suma_precio_tienda3,suma_precio_tienda4]\n",
        "lista_tiendas= ['Tienda 1', 'Tienda 2', 'Tienda 3', 'Tienda 4']\n",
        "print(lista_ingresos, lista_tiendas)\n"
      ],
      "metadata": {
        "colab": {
          "base_uri": "https://localhost:8080/"
        },
        "id": "JlTWoaTj-dgO",
        "outputId": "643b4cf8-bd65-4872-9e0c-532924724167"
      },
      "execution_count": 181,
      "outputs": [
        {
          "output_type": "stream",
          "name": "stdout",
          "text": [
            "[np.float64(1150880400.0), np.float64(1116343500.0), np.float64(1098019600.0), np.float64(1038375700.0)] ['Tienda 1', 'Tienda 2', 'Tienda 3', 'Tienda 4']\n"
          ]
        }
      ]
    },
    {
      "cell_type": "code",
      "source": [
        "import matplotlib.pyplot as plt\n",
        "import matplotlib.ticker as ticker"
      ],
      "metadata": {
        "id": "4CoVvJbIB7rb"
      },
      "execution_count": 182,
      "outputs": []
    },
    {
      "cell_type": "code",
      "source": [
        "plt.bar(lista_tiendas, lista_ingresos, color=['skyblue', 'magenta', 'lime', 'pink'])\n",
        "plt.xlabel('Tiendas')\n",
        "plt.ylabel('Ingreso Total')\n",
        "plt.title('Ingresos Totales por Tienda')\n",
        "plt.gca().yaxis.set_major_formatter(ticker.StrMethodFormatter('{x:,.0f}'))"
      ],
      "metadata": {
        "colab": {
          "base_uri": "https://localhost:8080/",
          "height": 472
        },
        "id": "ZSWP1HTq6hfc",
        "outputId": "ed4218f6-7639-485f-fd75-4b69bfc954f6"
      },
      "execution_count": 183,
      "outputs": [
        {
          "output_type": "display_data",
          "data": {
            "text/plain": [
              "<Figure size 640x480 with 1 Axes>"
            ],
            "image/png": "[encoded data removed]"
          },
          "metadata": {}
        }
      ]
    },
    {
      "cell_type": "code",
      "source": [
        "facturacion_total = suma_precio_tienda1 + suma_precio_tienda2 + suma_precio_tienda3 + suma_precio_tienda4\n",
        "print(facturacion_total)"
      ],
      "metadata": {
        "colab": {
          "base_uri": "https://localhost:8080/"
        },
        "id": "3oqzbMpaTenp",
        "outputId": "2e9f2c3b-17b8-42fc-a069-39d4c5981bbc"
      },
      "execution_count": 184,
      "outputs": [
        {
          "output_type": "stream",
          "name": "stdout",
          "text": [
            "4403619200.0\n"
          ]
        }
      ]
    },
    {
      "cell_type": "code",
      "source": [
        "plt.pie(lista_ingresos, labels=lista_tiendas, autopct='%1.1f%%', startangle=140)\n",
        "plt.axis('equal')\n",
        "plt.title('Porcentaje de ingresos que aporta cada Tienda')\n",
        "plt.show()\n"
      ],
      "metadata": {
        "colab": {
          "base_uri": "https://localhost:8080/",
          "height": 433
        },
        "id": "B48qDZnuTew6",
        "outputId": "14e8a05d-c2f4-44f6-9687-79224df34dc6"
      },
      "execution_count": 185,
      "outputs": [
        {
          "output_type": "display_data",
          "data": {
            "text/plain": [
              "<Figure size 640x480 with 1 Axes>"
            ],
            "image/png": "[encoded data removed]"
          },
          "metadata": {}
        }
      ]
    },
    {
      "cell_type": "markdown",
      "source": [
        "# 2. Ventas por categoría"
      ],
      "metadata": {
        "id": "2V_vcAPzWZmR"
      }
    },
    {
      "cell_type": "code",
      "source": [
        "temp = tienda.columns\n",
        "print(temp)\n",
        "temp2 = tienda2.columns\n",
        "print(temp2)\n",
        "temp3 = tienda3.columns\n",
        "print(temp3)\n",
        "temp4 = tienda4.columns\n",
        "print(temp4)\n",
        "\n"
      ],
      "metadata": {
        "colab": {
          "base_uri": "https://localhost:8080/"
        },
        "id": "vXURi9Bcc9uH",
        "outputId": "f7be894d-e687-4852-a017-69c1557d389e"
      },
      "execution_count": 186,
      "outputs": [
        {
          "output_type": "stream",
          "name": "stdout",
          "text": [
            "Index(['Producto', 'Categoría del Producto', 'Precio', 'Costo de envío',\n",
            "       'Fecha de Compra', 'Vendedor', 'Lugar de Compra', 'Calificación',\n",
            "       'Método de pago', 'Cantidad de cuotas', 'lat', 'lon'],\n",
            "      dtype='object')\n",
            "Index(['Producto', 'Categoría del Producto', 'Precio', 'Costo de envío',\n",
            "       'Fecha de Compra', 'Vendedor', 'Lugar de Compra', 'Calificación',\n",
            "       'Método de pago', 'Cantidad de cuotas', 'lat', 'lon'],\n",
            "      dtype='object')\n",
            "Index(['Producto', 'Categoría del Producto', 'Precio', 'Costo de envío',\n",
            "       'Fecha de Compra', 'Vendedor', 'Lugar de Compra', 'Calificación',\n",
            "       'Método de pago', 'Cantidad de cuotas', 'lat', 'lon'],\n",
            "      dtype='object')\n",
            "Index(['Producto', 'Categoría del Producto', 'Precio', 'Costo de envío',\n",
            "       'Fecha de Compra', 'Vendedor', 'Lugar de Compra', 'Calificación',\n",
            "       'Método de pago', 'Cantidad de cuotas', 'lat', 'lon'],\n",
            "      dtype='object')\n"
          ]
        }
      ]
    },
    {
      "cell_type": "code",
      "source": [
        "categorizacion = tienda[['Categoría del Producto']]\n",
        "print(categorizacion)"
      ],
      "metadata": {
        "colab": {
          "base_uri": "https://localhost:8080/"
        },
        "id": "w-znCXp3_4Dn",
        "outputId": "4cc3727a-57cf-4d77-860f-ce1459d7411b"
      },
      "execution_count": 187,
      "outputs": [
        {
          "output_type": "stream",
          "name": "stdout",
          "text": [
            "     Categoría del Producto\n",
            "0              Electrónicos\n",
            "1                   Muebles\n",
            "2                  Juguetes\n",
            "3         Electrodomésticos\n",
            "4                   Muebles\n",
            "...                     ...\n",
            "2354           Electrónicos\n",
            "2355           Electrónicos\n",
            "2356               Juguetes\n",
            "2357                Muebles\n",
            "2358           Electrónicos\n",
            "\n",
            "[2359 rows x 1 columns]\n"
          ]
        }
      ]
    },
    {
      "cell_type": "code",
      "source": [
        "categorizacion=tienda['Categoría del Producto'].unique()\n",
        "print(categorizacion)"
      ],
      "metadata": {
        "colab": {
          "base_uri": "https://localhost:8080/"
        },
        "id": "qaQ07CfYCQO0",
        "outputId": "c9129957-6c90-4801-c40e-7a4fc85601d1"
      },
      "execution_count": 188,
      "outputs": [
        {
          "output_type": "stream",
          "name": "stdout",
          "text": [
            "['Electrónicos' 'Muebles' 'Juguetes' 'Electrodomésticos'\n",
            " 'Artículos para el hogar' 'Deportes y diversión' 'Libros'\n",
            " 'Instrumentos musicales']\n"
          ]
        }
      ]
    },
    {
      "cell_type": "code",
      "source": [
        "#Tienda 1\n",
        "conteo_electronicos = tienda['Categoría del Producto'].value_counts()['Electrónicos']\n",
        "conteo_muebles = tienda['Categoría del Producto'].value_counts()['Muebles']\n",
        "conteo_juguetes = tienda['Categoría del Producto'].value_counts()['Juguetes']\n",
        "conteo_electrodomesticos = tienda['Categoría del Producto'].value_counts()['Electrodomésticos']\n",
        "conteo_hogar = tienda['Categoría del Producto'].value_counts()['Artículos para el hogar']\n",
        "conteo_deportes = tienda['Categoría del Producto'].value_counts()['Deportes y diversión']\n",
        "conteo_libros = tienda['Categoría del Producto'].value_counts()['Libros']\n",
        "conteo_instrumentos = tienda['Categoría del Producto'].value_counts()['Instrumentos musicales']\n",
        "print(conteo_electronicos,conteo_muebles,conteo_juguetes,conteo_electrodomesticos,conteo_hogar,conteo_deportes,conteo_libros,conteo_instrumentos)\n",
        "#Tienda 2\n",
        "conteo_electronicos2 = tienda2['Categoría del Producto'].value_counts()['Electrónicos']\n",
        "conteo_muebles2 = tienda2['Categoría del Producto'].value_counts()['Muebles']\n",
        "conteo_juguetes2 = tienda2['Categoría del Producto'].value_counts()['Juguetes']\n",
        "conteo_electrodomesticos2 = tienda2['Categoría del Producto'].value_counts()['Electrodomésticos']\n",
        "conteo_hogar2 = tienda2['Categoría del Producto'].value_counts()['Artículos para el hogar']\n",
        "conteo_deportes2 = tienda2['Categoría del Producto'].value_counts()['Deportes y diversión']\n",
        "conteo_libros2 = tienda2['Categoría del Producto'].value_counts()['Libros']\n",
        "conteo_instrumentos2 = tienda2['Categoría del Producto'].value_counts()['Instrumentos musicales']\n",
        "print(conteo_electronicos2,conteo_muebles2,conteo_juguetes2,conteo_electrodomesticos2,conteo_hogar2,conteo_deportes2,conteo_libros2,conteo_instrumentos2)\n",
        "#Tienda 3\n",
        "conteo_electronicos3 = tienda3['Categoría del Producto'].value_counts()['Electrónicos']\n",
        "conteo_muebles3 = tienda3['Categoría del Producto'].value_counts()['Muebles']\n",
        "conteo_juguetes3 = tienda3['Categoría del Producto'].value_counts()['Juguetes']\n",
        "conteo_electrodomesticos3 = tienda3['Categoría del Producto'].value_counts()['Electrodomésticos']\n",
        "conteo_hogar3 = tienda3['Categoría del Producto'].value_counts()['Artículos para el hogar']\n",
        "conteo_deportes3 = tienda3['Categoría del Producto'].value_counts()['Deportes y diversión']\n",
        "conteo_libros3 = tienda3['Categoría del Producto'].value_counts()['Libros']\n",
        "conteo_instrumentos3 = tienda3['Categoría del Producto'].value_counts()['Instrumentos musicales']\n",
        "print(conteo_electronicos3,conteo_muebles3,conteo_juguetes3,conteo_electrodomesticos3,conteo_hogar3,conteo_deportes3,conteo_libros3,conteo_instrumentos3)\n",
        "#Tienda 4\n",
        "conteo_electronicos4 = tienda4['Categoría del Producto'].value_counts()['Electrónicos']\n",
        "conteo_muebles4 = tienda4['Categoría del Producto'].value_counts()['Muebles']\n",
        "conteo_juguetes4 = tienda4['Categoría del Producto'].value_counts()['Juguetes']\n",
        "conteo_electrodomesticos4 = tienda4['Categoría del Producto'].value_counts()['Electrodomésticos']\n",
        "conteo_hogar4 = tienda4['Categoría del Producto'].value_counts()['Artículos para el hogar']\n",
        "conteo_deportes4 = tienda4['Categoría del Producto'].value_counts()['Deportes y diversión']\n",
        "conteo_libros4 = tienda4['Categoría del Producto'].value_counts()['Libros']\n",
        "conteo_instrumentos4 = tienda4['Categoría del Producto'].value_counts()['Instrumentos musicales']\n",
        "print(conteo_electronicos4,conteo_muebles4,conteo_juguetes4,conteo_electrodomesticos4,conteo_hogar4,conteo_deportes4,conteo_libros4,conteo_instrumentos4)\n",
        "\n"
      ],
      "metadata": {
        "colab": {
          "base_uri": "https://localhost:8080/"
        },
        "id": "8tY9vu3OO5Y-",
        "outputId": "8ab1f0fe-bff5-4062-93e3-e143e9c40886"
      },
      "execution_count": 189,
      "outputs": [
        {
          "output_type": "stream",
          "name": "stdout",
          "text": [
            "448 465 324 312 171 284 173 182\n",
            "422 442 313 305 181 275 197 224\n",
            "451 499 315 278 177 277 185 177\n",
            "451 480 338 254 201 277 187 170\n"
          ]
        }
      ]
    },
    {
      "cell_type": "code",
      "source": [
        "\n",
        "resultados_tienda1 = {'Electronicos': int(conteo_electronicos)\n",
        "                       ,'Muebles': int(conteo_muebles)\n",
        "                       ,'Juguetes': int(conteo_juguetes)\n",
        "                       ,'Electrodomesticos': int(conteo_electrodomesticos)\n",
        "                       ,'Articulos para el hogar': int(conteo_hogar)\n",
        "                       ,'Deportes y diversión': int(conteo_deportes)\n",
        "                       ,'Libros': int(conteo_libros)\n",
        "                       ,'Instrumentos musicales': int(conteo_instrumentos)\n",
        "\n",
        "                      }\n",
        "\n",
        "print(resultados_tienda1)\n",
        "\n",
        "#diccionario Tienda 2\n",
        "resultados_tienda2 = {'Electronicos': int(conteo_electronicos2)\n",
        "                       ,'Muebles': int(conteo_muebles2)\n",
        "                       ,'Juguetes': int(conteo_juguetes2)\n",
        "                       ,'Electrodomesticos': int(conteo_electrodomesticos2)\n",
        "                       ,'Articulos para el hogar': int(conteo_hogar2)\n",
        "                       ,'Deportes y diversión': int(conteo_deportes2)\n",
        "                       ,'Libros': int(conteo_libros2)\n",
        "                       ,'Instrumentos musicales': int(conteo_instrumentos2)\n",
        "\n",
        "                      }\n",
        "\n",
        "print(resultados_tienda2)\n",
        "\n",
        "#diccionario Tienda 3\n",
        "resultados_tienda3 = {'Electronicos': int(conteo_electronicos3)\n",
        "                       ,'Muebles': int(conteo_muebles3)\n",
        "                       ,'Juguetes': int(conteo_juguetes3)\n",
        "                       ,'Electrodomesticos': int(conteo_electrodomesticos3)\n",
        "                       ,'Articulos para el hogar': int(conteo_hogar3)\n",
        "                       ,'Deportes y diversión': int(conteo_deportes3)\n",
        "                       ,'Libros': int(conteo_libros3)\n",
        "                       ,'Instrumentos musicales': int(conteo_instrumentos3)\n",
        "\n",
        "                      }\n",
        "\n",
        "print(resultados_tienda3)\n",
        "\n",
        "#diccionario Tienda 4\n",
        "resultados_tienda4 = {'Electronicos': int(conteo_electronicos4)\n",
        "                       ,'Muebles': int(conteo_muebles4)\n",
        "                       ,'Juguetes': int(conteo_juguetes4)\n",
        "                       ,'Electrodomesticos': int(conteo_electrodomesticos4)\n",
        "                       ,'Articulos para el hogar': int(conteo_hogar4)\n",
        "                       ,'Deportes y diversión': int(conteo_deportes4)\n",
        "                       ,'Libros': int(conteo_libros4)\n",
        "                       ,'Instrumentos musicales': int(conteo_instrumentos4)\n",
        "\n",
        "                      }\n",
        "\n",
        "print(resultados_tienda4)\n",
        ""
      ],
      "metadata": {
        "colab": {
          "base_uri": "https://localhost:8080/"
        },
        "id": "5zDgExNuR5YV",
        "outputId": "14b4ee31-1944-4998-b0ff-d079a76801dd"
      },
      "execution_count": 190,
      "outputs": [
        {
          "output_type": "stream",
          "name": "stdout",
          "text": [
            "{'Electronicos': 448, 'Muebles': 465, 'Juguetes': 324, 'Electrodomesticos': 312, 'Articulos para el hogar': 171, 'Deportes y diversión': 284, 'Libros': 173, 'Instrumentos musicales': 182}\n",
            "{'Electronicos': 422, 'Muebles': 442, 'Juguetes': 313, 'Electrodomesticos': 305, 'Articulos para el hogar': 181, 'Deportes y diversión': 275, 'Libros': 197, 'Instrumentos musicales': 224}\n",
            "{'Electronicos': 451, 'Muebles': 499, 'Juguetes': 315, 'Electrodomesticos': 278, 'Articulos para el hogar': 177, 'Deportes y diversión': 277, 'Libros': 185, 'Instrumentos musicales': 177}\n",
            "{'Electronicos': 451, 'Muebles': 480, 'Juguetes': 338, 'Electrodomesticos': 254, 'Articulos para el hogar': 201, 'Deportes y diversión': 277, 'Libros': 187, 'Instrumentos musicales': 170}\n"
          ]
        }
      ]
    },
    {
      "cell_type": "code",
      "source": [
        "\n",
        "producto_vendido1 = max(resultados_tienda1.values())\n",
        "producto_vendido2 = max(resultados_tienda2.values())\n",
        "producto_vendido3 = max(resultados_tienda3.values())\n",
        "producto_vendido4 = max(resultados_tienda4.values())\n",
        "\n",
        "# Encuentra el nombre del artículo correspondiente al valor máximo\n",
        "articulo_maximo = [articulo for articulo, conteo in resultados_tienda1.items() if conteo == producto_vendido1]\n",
        "articulo_maximo2 = [articulo for articulo, conteo in resultados_tienda2.items() if conteo == producto_vendido2]\n",
        "articulo_maximo3 = [articulo for articulo, conteo in resultados_tienda3.items() if conteo == producto_vendido3]\n",
        "articulo_maximo4 = [articulo for articulo, conteo in resultados_tienda4.items() if conteo == producto_vendido4]\n",
        "\n",
        "# Imprime el resultado\n",
        "resultado = f\"El artículo más vendido de la Tienda 1 es: {articulo_maximo[0]} con {producto_vendido1} unidades.\"\n",
        "print(resultado)\n",
        "resultado2 = f\"El artículo más vendido de la Tienda 2 es: {articulo_maximo2[0]} con {producto_vendido2} unidades.\"\n",
        "print(resultado2)\n",
        "resultado3 = f\"El artículo más vendido de la Tienda 3 es: {articulo_maximo3[0]} con {producto_vendido3} unidades.\"\n",
        "print(resultado3)\n",
        "resultado4 = f\"El artículo más vendido de la Tienda 4 es: {articulo_maximo4[0]} con {producto_vendido4} unidades.\"\n",
        "print(resultado4)"
      ],
      "metadata": {
        "colab": {
          "base_uri": "https://localhost:8080/"
        },
        "id": "fzk26obtcxlP",
        "outputId": "3f4fc80b-9b8a-487f-ee05-af27e8f942a3"
      },
      "execution_count": 191,
      "outputs": [
        {
          "output_type": "stream",
          "name": "stdout",
          "text": [
            "El artículo más vendido de la Tienda 1 es: Muebles con 465 unidades.\n",
            "El artículo más vendido de la Tienda 2 es: Muebles con 442 unidades.\n",
            "El artículo más vendido de la Tienda 3 es: Muebles con 499 unidades.\n",
            "El artículo más vendido de la Tienda 4 es: Muebles con 480 unidades.\n"
          ]
        }
      ]
    },
    {
      "cell_type": "markdown",
      "source": [
        "# 3. Calificación promedio de la tienda\n"
      ],
      "metadata": {
        "id": "Rq6tU_xSY3jk"
      }
    },
    {
      "cell_type": "code",
      "source": [
        "rating = tienda[['Calificación']]\n",
        "print(rating)"
      ],
      "metadata": {
        "id": "bh3jjjJwY5MU",
        "colab": {
          "base_uri": "https://localhost:8080/"
        },
        "outputId": "149e8c73-faa9-4f80-e7a0-cee10a9387ea"
      },
      "execution_count": 192,
      "outputs": [
        {
          "output_type": "stream",
          "name": "stdout",
          "text": [
            "      Calificación\n",
            "0                4\n",
            "1                1\n",
            "2                1\n",
            "3                4\n",
            "4                5\n",
            "...            ...\n",
            "2354             1\n",
            "2355             5\n",
            "2356             5\n",
            "2357             1\n",
            "2358             4\n",
            "\n",
            "[2359 rows x 1 columns]\n"
          ]
        }
      ]
    },
    {
      "cell_type": "code",
      "source": [
        "sumatoria_calificacion = len(tienda['Calificación'])\n",
        "print(sumatoria_calificacion)\n"
      ],
      "metadata": {
        "id": "I0KkjPoTY88F",
        "colab": {
          "base_uri": "https://localhost:8080/"
        },
        "outputId": "ce74ca51-62d6-4017-cc3a-19bd7fa769c2"
      },
      "execution_count": 193,
      "outputs": [
        {
          "output_type": "stream",
          "name": "stdout",
          "text": [
            "2359\n"
          ]
        }
      ]
    },
    {
      "cell_type": "code",
      "source": [
        "#Tienda 1\n",
        "calific_tienda1 = tienda['Calificación'].sum()\n",
        "print(calific_tienda1)\n",
        "\n",
        "#Tienda 2\n",
        "calific_tienda2 = tienda2['Calificación'].sum()\n",
        "print(calific_tienda2)\n",
        "\n",
        "#Tienda 3\n",
        "calific_tienda3 = tienda3['Calificación'].sum()\n",
        "print(calific_tienda3)\n",
        "\n",
        "#Tienda 4\n",
        "calific_tienda4 = tienda4['Calificación'].sum()\n",
        "print(calific_tienda4)"
      ],
      "metadata": {
        "colab": {
          "base_uri": "https://localhost:8080/"
        },
        "id": "pLPo-5nkpQyX",
        "outputId": "4c17f859-5c1a-44ef-ff4b-9cb68d09b3ef"
      },
      "execution_count": 194,
      "outputs": [
        {
          "output_type": "stream",
          "name": "stdout",
          "text": [
            "9381\n",
            "9524\n",
            "9550\n",
            "9422\n"
          ]
        }
      ]
    },
    {
      "cell_type": "code",
      "source": [
        "#promedio de los clientes Tienda 1\n",
        "promedio_tienda1=(calific_tienda1/len(tienda['Calificación']))\n",
        "print('La calificacion promedio en la Tienda 1 es de: ', promedio_tienda1)\n",
        "print(\"\"\" \"\"\")\n",
        "\n",
        "#promedio de los clientes Tienda 2\n",
        "promedio_tienda2=(calific_tienda2/len(tienda2['Calificación']))\n",
        "print('La calificacion promedio en la Tienda 2 es de: ', promedio_tienda2)\n",
        "print(\"\"\" \"\"\")\n",
        "\n",
        "#promedio de los clientes Tienda 3\n",
        "promedio_tienda3=(calific_tienda3/len(tienda3['Calificación']))\n",
        "print('La calificacion promedio en la Tienda 3 es de: ', promedio_tienda3)\n",
        "print(\"\"\" \"\"\")\n",
        "\n",
        "#promedio de los clientes Tienda 4\n",
        "promedio_tienda4=(calific_tienda4/len(tienda4['Calificación']))\n",
        "print('La calificacion promedio en la Tienda 4 es de: ', promedio_tienda4)"
      ],
      "metadata": {
        "colab": {
          "base_uri": "https://localhost:8080/"
        },
        "id": "IyhJcClEpQ1y",
        "outputId": "11273a69-948c-4785-cb5c-a231f141cc5b"
      },
      "execution_count": 195,
      "outputs": [
        {
          "output_type": "stream",
          "name": "stdout",
          "text": [
            "La calificacion promedio en la Tienda 1 es de:  3.976685036032217\n",
            " \n",
            "La calificacion promedio en la Tienda 2 es de:  4.037303942348453\n",
            " \n",
            "La calificacion promedio en la Tienda 3 es de:  4.048325561678677\n",
            " \n",
            "La calificacion promedio en la Tienda 4 es de:  3.9957591178965224\n"
          ]
        }
      ]
    },
    {
      "cell_type": "markdown",
      "source": [
        "# 4. Productos más y menos vendidos"
      ],
      "metadata": {
        "id": "DmNp1KPBZCm-"
      }
    },
    {
      "cell_type": "code",
      "source": [
        "productos_populares = tienda[['Producto']]\n",
        "print(productos_populares)"
      ],
      "metadata": {
        "colab": {
          "base_uri": "https://localhost:8080/"
        },
        "id": "gQsh2cRJEDwM",
        "outputId": "6280aa32-56a5-404b-e0b3-79f7902a3e80"
      },
      "execution_count": 196,
      "outputs": [
        {
          "output_type": "stream",
          "name": "stdout",
          "text": [
            "               Producto\n",
            "0     Asistente virtual\n",
            "1       Mesa de comedor\n",
            "2         Juego de mesa\n",
            "3            Microondas\n",
            "4      Silla de oficina\n",
            "...                 ...\n",
            "2354          Iphone 15\n",
            "2355          Impresora\n",
            "2356      Juego de mesa\n",
            "2357           Cama box\n",
            "2358         Smartwatch\n",
            "\n",
            "[2359 rows x 1 columns]\n"
          ]
        }
      ]
    },
    {
      "cell_type": "code",
      "source": [
        "productos_tienda=tienda['Producto'].unique()\n",
        "print(productos_tienda)"
      ],
      "metadata": {
        "colab": {
          "base_uri": "https://localhost:8080/"
        },
        "id": "rbdG57EvED8h",
        "outputId": "25f0f7e2-1621-4e09-bf9b-ab7a2b99217f"
      },
      "execution_count": 197,
      "outputs": [
        {
          "output_type": "stream",
          "name": "stdout",
          "text": [
            "['Asistente virtual' 'Mesa de comedor' 'Juego de mesa' 'Microondas'\n",
            " 'Silla de oficina' 'Bloques de construcción' 'Muñeca bebé' 'Lavavajillas'\n",
            " 'Lavadora de ropa' 'Carrito de control remoto' 'Refrigerador'\n",
            " 'Auriculares' 'Olla de presión' 'Bicicleta' 'Ciencia de datos con Python'\n",
            " 'Balón de voleibol' 'Ajedrez de madera' 'TV LED UHD 4K' 'Vaso térmico'\n",
            " 'Kit de bancas' 'Dashboards con Power BI' 'Cubertería' 'Set de ollas'\n",
            " 'Batería' 'Cuerda para saltar' 'Estufa' 'Cama box' 'Impresora'\n",
            " 'Mesa de noche' 'Armario' 'Dinosaurio Rex' 'Guitarra eléctrica'\n",
            " 'Secadora de ropa' 'Sofá reclinable' 'Tablet ABXY' 'Cubo mágico 8x8'\n",
            " 'Set de vasos' 'Modelado predictivo' 'Iphone 15' 'Mochila'\n",
            " 'Balón de baloncesto' 'Auriculares con micrófono' 'Sillón'\n",
            " 'Guitarra acústica' 'Iniciando en programación' 'Celular ABXY'\n",
            " 'Smartwatch' 'Mesa de centro' 'Cama king' 'Smart TV' 'Pandereta']\n"
          ]
        }
      ]
    },
    {
      "cell_type": "code",
      "source": [
        "#Obtener el producto más vendido en Tienda 1\n",
        "conteo_productos=tienda['Producto'].value_counts()\n",
        "lista_max = []\n",
        "if conteo_productos.max() > 1:\n",
        "\n",
        "    for producto, conteo in conteo_productos.items():\n",
        "        if conteo == conteo_productos.max():\n",
        "            lista_max.append(producto)\n",
        "    print('El producto más vendido es: ', lista_max, 'con ' , conteo_productos.max(), 'unidades.')\n"
      ],
      "metadata": {
        "colab": {
          "base_uri": "https://localhost:8080/"
        },
        "id": "sC45HDAfEEBo",
        "outputId": "5c162eb3-73d8-4dc8-f5f4-40bf7614683d"
      },
      "execution_count": 198,
      "outputs": [
        {
          "output_type": "stream",
          "name": "stdout",
          "text": [
            "El producto más vendido es:  ['Microondas', 'TV LED UHD 4K', 'Armario'] con  60 unidades.\n"
          ]
        }
      ]
    },
    {
      "cell_type": "code",
      "source": [
        "#obtener el producto menos vendido en Tienda 1\n",
        "conteo_productos=tienda['Producto'].value_counts()\n",
        "lista_min = []\n",
        "if conteo_productos.min() > 1:\n",
        "\n",
        "       for producto, conteo in conteo_productos.items():\n",
        "           if conteo == conteo_productos.min():\n",
        "              lista_min.append(producto)\n",
        "print('El producto menos vendido es: ', lista_min, 'con ' , conteo_productos.min(), 'unidades.')"
      ],
      "metadata": {
        "colab": {
          "base_uri": "https://localhost:8080/"
        },
        "id": "bMxHoPV25sJx",
        "outputId": "40e8c102-4059-4e23-c761-59c0c603a395"
      },
      "execution_count": 199,
      "outputs": [
        {
          "output_type": "stream",
          "name": "stdout",
          "text": [
            "El producto menos vendido es:  ['Auriculares con micrófono', 'Celular ABXY'] con  33 unidades.\n"
          ]
        }
      ]
    },
    {
      "cell_type": "code",
      "source": [
        "conteo_productos2 = tienda2['Producto'].value_counts()\n",
        "lista_conteo_productos2 = list(conteo_productos2)\n",
        "lista_nombres_conteo2 = list(conteo_productos2.index)\n",
        "for x in range(len(lista_nombres_conteo2)):\n",
        "    print(lista_nombres_conteo2[x], lista_conteo_productos2[x])"
      ],
      "metadata": {
        "colab": {
          "base_uri": "https://localhost:8080/"
        },
        "id": "n8Lc_JqKlB2q",
        "outputId": "81eb8669-bd4d-4143-c882-0e7c71a4435e"
      },
      "execution_count": 200,
      "outputs": [
        {
          "output_type": "stream",
          "name": "stdout",
          "text": [
            "Iniciando en programación 65\n",
            "Microondas 62\n",
            "Batería 61\n",
            "Guitarra acústica 58\n",
            "Pandereta 58\n",
            "Secadora de ropa 57\n",
            "Iphone 15 55\n",
            "Bloques de construcción 54\n",
            "Armario 54\n",
            "Set de ollas 52\n",
            "Cuerda para saltar 50\n",
            "Lavadora de ropa 49\n",
            "Silla de oficina 49\n",
            "Refrigerador 49\n",
            "Muñeca bebé 48\n",
            "Carrito de control remoto 47\n",
            "Guitarra eléctrica 47\n",
            "Cama box 47\n",
            "Vaso térmico 47\n",
            "Modelado predictivo 46\n",
            "Balón de voleibol 46\n",
            "Set de vasos 46\n",
            "Lavavajillas 46\n",
            "Kit de bancas 45\n",
            "Cama king 45\n",
            "Bicicleta 45\n",
            "Mochila 45\n",
            "Cubo mágico 8x8 45\n",
            "Ajedrez de madera 45\n",
            "Mesa de centro 45\n",
            "TV LED UHD 4K 45\n",
            "Tablet ABXY 44\n",
            "Smartwatch 44\n",
            "Mesa de noche 44\n",
            "Olla de presión 44\n",
            "Auriculares con micrófono 44\n",
            "Sofá reclinable 44\n",
            "Dashboards con Power BI 43\n",
            "Ciencia de datos con Python 43\n",
            "Balón de baloncesto 42\n",
            "Estufa 42\n",
            "Dinosaurio Rex 42\n",
            "Celular ABXY 41\n",
            "Smart TV 40\n",
            "Cubertería 39\n",
            "Asistente virtual 38\n",
            "Auriculares 37\n",
            "Sillón 35\n",
            "Mesa de comedor 34\n",
            "Impresora 34\n",
            "Juego de mesa 32\n"
          ]
        }
      ]
    },
    {
      "cell_type": "code",
      "source": [
        "#Obtener el producto más vendido en Tienda 2\n",
        "conteo_productos2 = tienda2['Producto'].value_counts()\n",
        "lista_max2 = []\n",
        "if conteo_productos2.max() > 1:\n",
        "\n",
        "    for producto, conteo in conteo_productos2.items():\n",
        "        if conteo == conteo_productos2.max():\n",
        "            lista_max2.append(producto)\n",
        "    print('El producto más vendido es: ', lista_max2, 'con ' , conteo_productos2.max(), 'unidades.')\n"
      ],
      "metadata": {
        "colab": {
          "base_uri": "https://localhost:8080/"
        },
        "id": "PBnjKJLd6-AH",
        "outputId": "6806d8f5-48f7-4792-c122-69035c6db92b"
      },
      "execution_count": 201,
      "outputs": [
        {
          "output_type": "stream",
          "name": "stdout",
          "text": [
            "El producto más vendido es:  ['Iniciando en programación'] con  65 unidades.\n"
          ]
        }
      ]
    },
    {
      "cell_type": "code",
      "source": [
        "#obtener el producto menos vendido en Tienda 2\n",
        "conteo_productos2=tienda2['Producto'].value_counts()\n",
        "lista_min2 = []\n",
        "if conteo_productos2.min() > 1:\n",
        "\n",
        "       for producto, conteo in conteo_productos2.items():\n",
        "           if conteo == conteo_productos2.min():\n",
        "              lista_min2.append(producto)\n",
        "print('El producto menos vendido es: ', lista_min2, 'con ' , conteo_productos2.min(), 'unidades.')"
      ],
      "metadata": {
        "colab": {
          "base_uri": "https://localhost:8080/"
        },
        "id": "HTIeN8I97TT1",
        "outputId": "be23ec29-920c-4734-9e1d-8d7f2f4a06ca"
      },
      "execution_count": 202,
      "outputs": [
        {
          "output_type": "stream",
          "name": "stdout",
          "text": [
            "El producto menos vendido es:  ['Juego de mesa'] con  32 unidades.\n"
          ]
        }
      ]
    },
    {
      "cell_type": "code",
      "source": [
        "conteo_productos3 = tienda3['Producto'].value_counts()\n",
        "lista_conteo_productos3 = list(conteo_productos3)\n",
        "lista_nombres_conteo3 = list(conteo_productos3.index)\n",
        "for x in range(len(lista_nombres_conteo3)):\n",
        "    print(lista_nombres_conteo3[x], lista_conteo_productos3[x])"
      ],
      "metadata": {
        "colab": {
          "base_uri": "https://localhost:8080/"
        },
        "id": "3gSDmn5glW-E",
        "outputId": "d54414fd-1606-48d1-f9cc-510aaa3d9c12"
      },
      "execution_count": 203,
      "outputs": [
        {
          "output_type": "stream",
          "name": "stdout",
          "text": [
            "Kit de bancas 57\n",
            "Mesa de comedor 56\n",
            "Cama king 56\n",
            "Set de ollas 55\n",
            "Mesa de noche 55\n",
            "Smart TV 54\n",
            "Estufa 53\n",
            "Cuerda para saltar 53\n",
            "Modelado predictivo 53\n",
            "Carrito de control remoto 52\n",
            "Lavavajillas 52\n",
            "Bicicleta 52\n",
            "Juego de mesa 52\n",
            "Pandereta 51\n",
            "Impresora 50\n",
            "Refrigerador 50\n",
            "Balón de baloncesto 50\n",
            "Armario 49\n",
            "Balón de voleibol 48\n",
            "Tablet ABXY 48\n",
            "Sillón 47\n",
            "Guitarra acústica 47\n",
            "Olla de presión 47\n",
            "Ajedrez de madera 47\n",
            "Ciencia de datos con Python 46\n",
            "Iphone 15 46\n",
            "Dinosaurio Rex 46\n",
            "Silla de oficina 46\n",
            "Smartwatch 46\n",
            "Cama box 46\n",
            "Iniciando en programación 46\n",
            "Secadora de ropa 45\n",
            "Sofá reclinable 45\n",
            "Celular ABXY 44\n",
            "Cubo mágico 8x8 44\n",
            "Auriculares 43\n",
            "TV LED UHD 4K 42\n",
            "Mesa de centro 42\n",
            "Lavadora de ropa 42\n",
            "Batería 41\n",
            "Dashboards con Power BI 40\n",
            "Cubertería 39\n",
            "Muñeca bebé 39\n",
            "Auriculares con micrófono 39\n",
            "Asistente virtual 39\n",
            "Vaso térmico 38\n",
            "Guitarra eléctrica 38\n",
            "Set de vasos 36\n",
            "Mochila 36\n",
            "Microondas 36\n",
            "Bloques de construcción 35\n"
          ]
        }
      ]
    },
    {
      "cell_type": "code",
      "source": [
        "#Obtener el producto más vendido en Tienda 3\n",
        "conteo_productos3 = tienda3['Producto'].value_counts()\n",
        "lista_max3 = []\n",
        "if conteo_productos3.max() > 1:\n",
        "\n",
        "    for producto, conteo in conteo_productos3.items():\n",
        "        if conteo == conteo_productos3.max():\n",
        "            lista_max3.append(producto)\n",
        "    print('El producto más vendido es: ', lista_max3, 'con ' , conteo_productos3.max(), 'unidades.')"
      ],
      "metadata": {
        "colab": {
          "base_uri": "https://localhost:8080/"
        },
        "id": "ViRnapRX7qmX",
        "outputId": "1e6804fb-ee76-4ec0-83ed-6036e27c9b60"
      },
      "execution_count": 204,
      "outputs": [
        {
          "output_type": "stream",
          "name": "stdout",
          "text": [
            "El producto más vendido es:  ['Kit de bancas'] con  57 unidades.\n"
          ]
        }
      ]
    },
    {
      "cell_type": "code",
      "source": [
        "#obtener el producto menos vendido en Tienda 3\n",
        "conteo_productos3 =tienda3['Producto'].value_counts()\n",
        "lista_min3 = []\n",
        "if conteo_productos3.min() > 1:\n",
        "\n",
        "       for producto, conteo in conteo_productos3.items():\n",
        "           if conteo == conteo_productos3.min():\n",
        "              lista_min3.append(producto)\n",
        "print('El producto menos vendido es: ', lista_min3, 'con ' , conteo_productos3.min(), 'unidades.')"
      ],
      "metadata": {
        "colab": {
          "base_uri": "https://localhost:8080/"
        },
        "id": "jqWKb9S37rVA",
        "outputId": "e846126c-5ea9-4544-f237-7cfe640bd102"
      },
      "execution_count": 205,
      "outputs": [
        {
          "output_type": "stream",
          "name": "stdout",
          "text": [
            "El producto menos vendido es:  ['Bloques de construcción'] con  35 unidades.\n"
          ]
        }
      ]
    },
    {
      "cell_type": "code",
      "source": [
        "conteo_productos4 = tienda4['Producto'].value_counts()\n",
        "lista_conteo_productos4 = list(conteo_productos4)\n",
        "lista_nombres_conteo4 = list(conteo_productos4.index)\n",
        "for x in range(len(lista_nombres_conteo4)):\n",
        "    print(lista_nombres_conteo4[x], lista_conteo_productos4[x])"
      ],
      "metadata": {
        "colab": {
          "base_uri": "https://localhost:8080/"
        },
        "id": "jMrdIrPJlgdG",
        "outputId": "8d513d89-47f3-45b4-e3e0-b2c7c4b83e60"
      },
      "execution_count": 206,
      "outputs": [
        {
          "output_type": "stream",
          "name": "stdout",
          "text": [
            "Cama box 62\n",
            "Cubertería 59\n",
            "Dashboards con Power BI 56\n",
            "Cama king 56\n",
            "Carrito de control remoto 55\n",
            "Mesa de comedor 55\n",
            "Mesa de noche 55\n",
            "Smart TV 54\n",
            "Bloques de construcción 54\n",
            "Pandereta 52\n",
            "Impresora 50\n",
            "Modelado predictivo 50\n",
            "Asistente virtual 50\n",
            "Set de ollas 50\n",
            "Balón de baloncesto 50\n",
            "Vaso térmico 48\n",
            "Iphone 15 48\n",
            "Muñeca bebé 48\n",
            "Batería 48\n",
            "Balón de voleibol 48\n",
            "Juego de mesa 48\n",
            "Microondas 48\n",
            "Estufa 47\n",
            "Cubo mágico 8x8 47\n",
            "Sofá reclinable 47\n",
            "Dinosaurio Rex 47\n",
            "Olla de presión 46\n",
            "Set de vasos 46\n",
            "Tablet ABXY 45\n",
            "Sillón 45\n",
            "Bicicleta 45\n",
            "Mesa de centro 44\n",
            "Auriculares 44\n",
            "Lavavajillas 43\n",
            "Cuerda para saltar 43\n",
            "Iniciando en programación 43\n",
            "Mochila 43\n",
            "Auriculares con micrófono 42\n",
            "Kit de bancas 42\n",
            "TV LED UHD 4K 40\n",
            "Secadora de ropa 40\n",
            "Silla de oficina 40\n",
            "Celular ABXY 39\n",
            "Ajedrez de madera 39\n",
            "Smartwatch 39\n",
            "Lavadora de ropa 38\n",
            "Refrigerador 38\n",
            "Ciencia de datos con Python 38\n",
            "Guitarra acústica 37\n",
            "Armario 34\n",
            "Guitarra eléctrica 33\n"
          ]
        }
      ]
    },
    {
      "cell_type": "code",
      "source": [
        "#Obtener el producto más vendido en Tienda 4\n",
        "conteo_productos4 = tienda4['Producto'].value_counts()\n",
        "lista_max4 = []\n",
        "if conteo_productos4.max() > 1:\n",
        "\n",
        "    for producto, conteo in conteo_productos4.items():\n",
        "        if conteo == conteo_productos4.max():\n",
        "            lista_max4.append(producto)\n",
        "    print('El producto más vendido es: ', lista_max4, 'con ' , conteo_productos4.max(), 'unidades.')"
      ],
      "metadata": {
        "colab": {
          "base_uri": "https://localhost:8080/"
        },
        "id": "xz4l1-DS8TTl",
        "outputId": "eff87ab3-6d9d-4dc6-8262-20b61f7cfc1b"
      },
      "execution_count": 207,
      "outputs": [
        {
          "output_type": "stream",
          "name": "stdout",
          "text": [
            "El producto más vendido es:  ['Cama box'] con  62 unidades.\n"
          ]
        }
      ]
    },
    {
      "cell_type": "code",
      "source": [
        "#obtener el producto menos vendido en Tienda 4\n",
        "conteo_productos4 =tienda4['Producto'].value_counts()\n",
        "lista_min4 = []\n",
        "if conteo_productos4.min() > 1:\n",
        "\n",
        "       for producto, conteo in conteo_productos4.items():\n",
        "           if conteo == conteo_productos4.min():\n",
        "              lista_min4.append(producto)\n",
        "print('El producto menos vendido es: ', lista_min4, 'con ' , conteo_productos4.min(), 'unidades.')"
      ],
      "metadata": {
        "colab": {
          "base_uri": "https://localhost:8080/"
        },
        "id": "r0ohr3FI8irL",
        "outputId": "6e76df45-4d1a-4184-cbe0-c857bc95143d"
      },
      "execution_count": 208,
      "outputs": [
        {
          "output_type": "stream",
          "name": "stdout",
          "text": [
            "El producto menos vendido es:  ['Guitarra eléctrica'] con  33 unidades.\n"
          ]
        }
      ]
    },
    {
      "cell_type": "code",
      "source": [
        "#Tienda 1\n",
        "print('Resultados del analisis en Tienda 1: ')\n",
        "for articulo, conteo in resultados_tienda1.items():\n",
        "    print(f\"{articulo}: {conteo} unidades\")\n",
        "print(\"\"\" \"\"\")\n",
        "\n",
        "#Tienda 2\n",
        "print('Resultados del analisis en Tienda 2: ')\n",
        "for articulo, conteo in resultados_tienda2.items():\n",
        "    print(f\"{articulo}: {conteo} unidades\")\n",
        "print(\"\"\" \"\"\")\n",
        "\n",
        "#Tienda 3\n",
        "print('Resultados del analisis en Tienda 3: ')\n",
        "for articulo, conteo in resultados_tienda3.items():\n",
        "    print(f\"{articulo}: {conteo} unidades\")\n",
        "print(\"\"\" \"\"\")\n",
        "\n",
        "#Tienda 4\n",
        "print('Resultados del analisis en Tienda 4: ')\n",
        "for articulo, conteo in resultados_tienda4.items():\n",
        "    print(f\"{articulo}: {conteo} unidades\")\n",
        "print(\"\"\" \"\"\")"
      ],
      "metadata": {
        "colab": {
          "base_uri": "https://localhost:8080/"
        },
        "id": "Wo8yKd64t9wR",
        "outputId": "dd982239-e798-45e8-9a7b-6e55775c8885"
      },
      "execution_count": 209,
      "outputs": [
        {
          "output_type": "stream",
          "name": "stdout",
          "text": [
            "Resultados del analisis en Tienda 1: \n",
            "Electronicos: 448 unidades\n",
            "Muebles: 465 unidades\n",
            "Juguetes: 324 unidades\n",
            "Electrodomesticos: 312 unidades\n",
            "Articulos para el hogar: 171 unidades\n",
            "Deportes y diversión: 284 unidades\n",
            "Libros: 173 unidades\n",
            "Instrumentos musicales: 182 unidades\n",
            " \n",
            "Resultados del analisis en Tienda 2: \n",
            "Electronicos: 422 unidades\n",
            "Muebles: 442 unidades\n",
            "Juguetes: 313 unidades\n",
            "Electrodomesticos: 305 unidades\n",
            "Articulos para el hogar: 181 unidades\n",
            "Deportes y diversión: 275 unidades\n",
            "Libros: 197 unidades\n",
            "Instrumentos musicales: 224 unidades\n",
            " \n",
            "Resultados del analisis en Tienda 3: \n",
            "Electronicos: 451 unidades\n",
            "Muebles: 499 unidades\n",
            "Juguetes: 315 unidades\n",
            "Electrodomesticos: 278 unidades\n",
            "Articulos para el hogar: 177 unidades\n",
            "Deportes y diversión: 277 unidades\n",
            "Libros: 185 unidades\n",
            "Instrumentos musicales: 177 unidades\n",
            " \n",
            "Resultados del analisis en Tienda 4: \n",
            "Electronicos: 451 unidades\n",
            "Muebles: 480 unidades\n",
            "Juguetes: 338 unidades\n",
            "Electrodomesticos: 254 unidades\n",
            "Articulos para el hogar: 201 unidades\n",
            "Deportes y diversión: 277 unidades\n",
            "Libros: 187 unidades\n",
            "Instrumentos musicales: 170 unidades\n",
            " \n"
          ]
        }
      ]
    },
    {
      "cell_type": "code",
      "source": [
        "import matplotlib.pyplot as plt"
      ],
      "metadata": {
        "id": "MLrYKIfe2mmI"
      },
      "execution_count": 210,
      "outputs": []
    },
    {
      "cell_type": "code",
      "source": [
        "#graficar los valores de las categorias tienda 1\n",
        "plt.bar(resultados_tienda1.keys(), resultados_tienda1.values(), color='skyblue')\n",
        "plt.xlabel('Categoria', fontsize=10)\n",
        "plt.ylabel('Cantidad Vendida')\n",
        "plt.title('Articulos más Vendidos en la Tienda 1')\n",
        "plt.setp(plt.gca().get_xticklabels(), rotation=90)\n",
        "plt.savefig('grafico_tienda1.png')\n",
        "plt.show()\n"
      ],
      "metadata": {
        "colab": {
          "base_uri": "https://localhost:8080/",
          "height": 623
        },
        "id": "UAKC7ahD2mzM",
        "outputId": "045824ee-d746-4407-b59d-f4ce5f87ab17"
      },
      "execution_count": 211,
      "outputs": [
        {
          "output_type": "display_data",
          "data": {
            "text/plain": [
              "<Figure size 640x480 with 1 Axes>"
            ],
            "image/png": "[encoded data removed]"
          },
          "metadata": {}
        }
      ]
    },
    {
      "cell_type": "code",
      "source": [
        "from google.colab import files\n",
        "files.download('grafico_tienda1.png')"
      ],
      "metadata": {
        "colab": {
          "base_uri": "https://localhost:8080/",
          "height": 17
        },
        "id": "zKh3TQJT2rDI",
        "outputId": "b8fd015d-6ab2-4c13-bb1c-67e020ba4ae0"
      },
      "execution_count": 212,
      "outputs": [
        {
          "output_type": "display_data",
          "data": {
            "text/plain": [
              "<IPython.core.display.Javascript object>"
            ],
            "application/javascript": [
              "\n",
              "    async function download(id, filename, size) {\n",
              "      if (!google.colab.kernel.accessAllowed) {\n",
              "        return;\n",
              "      }\n",
              "      const div = document.createElement('div');\n",
              "      const label = document.createElement('label');\n",
              "      label.textContent = `Downloading \"${filename}\": `;\n",
              "      div.appendChild(label);\n",
              "      const progress = document.createElement('progress');\n",
              "      progress.max = size;\n",
              "      div.appendChild(progress);\n",
              "      document.body.appendChild(div);\n",
              "\n",
              "      const buffers = [];\n",
              "      let downloaded = 0;\n",
              "\n",
              "      const channel = await google.colab.kernel.comms.open(id);\n",
              "      // Send a message to notify the kernel that we're ready.\n",
              "      channel.send({})\n",
              "\n",
              "      for await (const message of channel.messages) {\n",
              "        // Send a message to notify the kernel that we're ready.\n",
              "        channel.send({})\n",
              "        if (message.buffers) {\n",
              "          for (const buffer of message.buffers) {\n",
              "            buffers.push(buffer);\n",
              "            downloaded += buffer.byteLength;\n",
              "            progress.value = downloaded;\n",
              "          }\n",
              "        }\n",
              "      }\n",
              "      const blob = new Blob(buffers, {type: 'application/binary'});\n",
              "      const a = document.createElement('a');\n",
              "      a.href = window.URL.createObjectURL(blob);\n",
              "      a.download = filename;\n",
              "      div.appendChild(a);\n",
              "      a.click();\n",
              "      div.remove();\n",
              "    }\n",
              "  "
            ]
          },
          "metadata": {}
        },
        {
          "output_type": "display_data",
          "data": {
            "text/plain": [
              "<IPython.core.display.Javascript object>"
            ],
            "application/javascript": [
              "download(\"download_c15e884c-8aa2-4722-9ae0-3478d40b208e\", \"grafico_tienda1.png\", 21355)"
            ]
          },
          "metadata": {}
        }
      ]
    },
    {
      "cell_type": "code",
      "source": [
        "#graficar los valores de las categorias tienda 2\n",
        "plt.bar(resultados_tienda2.keys(), resultados_tienda2.values(), color='magenta')\n",
        "plt.xlabel('Categoria', fontsize=10)\n",
        "plt.ylabel('Cantidad Vendida')\n",
        "plt.title('Artículos más Vendidos en la Tienda 2')\n",
        "plt.setp(plt.gca().get_xticklabels(), rotation=90)\n",
        "plt.savefig('grafico_tienda2.png')\n",
        "plt.show()"
      ],
      "metadata": {
        "colab": {
          "base_uri": "https://localhost:8080/",
          "height": 623
        },
        "id": "NsjUNv4L3nPI",
        "outputId": "e5c91bf6-bbcb-4fde-c5cf-114bdbf931a9"
      },
      "execution_count": 213,
      "outputs": [
        {
          "output_type": "display_data",
          "data": {
            "text/plain": [
              "<Figure size 640x480 with 1 Axes>"
            ],
            "image/png": "[encoded data removed]"
          },
          "metadata": {}
        }
      ]
    },
    {
      "cell_type": "code",
      "source": [
        "from google.colab import files\n",
        "files.download('grafico_tienda2.png')"
      ],
      "metadata": {
        "colab": {
          "base_uri": "https://localhost:8080/",
          "height": 17
        },
        "id": "LUBkXkA33qYF",
        "outputId": "35b5f53b-6f53-464f-899e-d12d3e48408b"
      },
      "execution_count": 214,
      "outputs": [
        {
          "output_type": "display_data",
          "data": {
            "text/plain": [
              "<IPython.core.display.Javascript object>"
            ],
            "application/javascript": [
              "\n",
              "    async function download(id, filename, size) {\n",
              "      if (!google.colab.kernel.accessAllowed) {\n",
              "        return;\n",
              "      }\n",
              "      const div = document.createElement('div');\n",
              "      const label = document.createElement('label');\n",
              "      label.textContent = `Downloading \"${filename}\": `;\n",
              "      div.appendChild(label);\n",
              "      const progress = document.createElement('progress');\n",
              "      progress.max = size;\n",
              "      div.appendChild(progress);\n",
              "      document.body.appendChild(div);\n",
              "\n",
              "      const buffers = [];\n",
              "      let downloaded = 0;\n",
              "\n",
              "      const channel = await google.colab.kernel.comms.open(id);\n",
              "      // Send a message to notify the kernel that we're ready.\n",
              "      channel.send({})\n",
              "\n",
              "      for await (const message of channel.messages) {\n",
              "        // Send a message to notify the kernel that we're ready.\n",
              "        channel.send({})\n",
              "        if (message.buffers) {\n",
              "          for (const buffer of message.buffers) {\n",
              "            buffers.push(buffer);\n",
              "            downloaded += buffer.byteLength;\n",
              "            progress.value = downloaded;\n",
              "          }\n",
              "        }\n",
              "      }\n",
              "      const blob = new Blob(buffers, {type: 'application/binary'});\n",
              "      const a = document.createElement('a');\n",
              "      a.href = window.URL.createObjectURL(blob);\n",
              "      a.download = filename;\n",
              "      div.appendChild(a);\n",
              "      a.click();\n",
              "      div.remove();\n",
              "    }\n",
              "  "
            ]
          },
          "metadata": {}
        },
        {
          "output_type": "display_data",
          "data": {
            "text/plain": [
              "<IPython.core.display.Javascript object>"
            ],
            "application/javascript": [
              "download(\"download_2aef3c27-2f1a-44fe-90e5-4e3cc38ff4a9\", \"grafico_tienda2.png\", 21868)"
            ]
          },
          "metadata": {}
        }
      ]
    },
    {
      "cell_type": "code",
      "source": [
        "\n",
        "#graficar los valores de las categorias tienda 3\n",
        "plt.bar(resultados_tienda3.keys(), resultados_tienda3.values(), color='lime')\n",
        "plt.xlabel('Categoria', fontsize=10)\n",
        "plt.ylabel('Cantidad Vendida')\n",
        "plt.title('Artículos más Vendidos en la Tienda 3')\n",
        "plt.setp(plt.gca().get_xticklabels(), rotation=90)\n",
        "plt.savefig('grafico_tienda3.png')\n",
        "plt.show()"
      ],
      "metadata": {
        "colab": {
          "base_uri": "https://localhost:8080/",
          "height": 623
        },
        "id": "o4hnpi6Y3q2F",
        "outputId": "a8249ab3-7767-4291-fe3c-e351cae3da69"
      },
      "execution_count": 215,
      "outputs": [
        {
          "output_type": "display_data",
          "data": {
            "text/plain": [
              "<Figure size 640x480 with 1 Axes>"
            ],
            "image/png": "[encoded data removed]"
          },
          "metadata": {}
        }
      ]
    },
    {
      "cell_type": "code",
      "source": [
        "from google.colab import files\n",
        "files.download('grafico_tienda3.png')"
      ],
      "metadata": {
        "colab": {
          "base_uri": "https://localhost:8080/",
          "height": 17
        },
        "id": "Dn0s2Jho3q-n",
        "outputId": "c53fed64-7954-42bc-dde7-e8738ec1b061"
      },
      "execution_count": 216,
      "outputs": [
        {
          "output_type": "display_data",
          "data": {
            "text/plain": [
              "<IPython.core.display.Javascript object>"
            ],
            "application/javascript": [
              "\n",
              "    async function download(id, filename, size) {\n",
              "      if (!google.colab.kernel.accessAllowed) {\n",
              "        return;\n",
              "      }\n",
              "      const div = document.createElement('div');\n",
              "      const label = document.createElement('label');\n",
              "      label.textContent = `Downloading \"${filename}\": `;\n",
              "      div.appendChild(label);\n",
              "      const progress = document.createElement('progress');\n",
              "      progress.max = size;\n",
              "      div.appendChild(progress);\n",
              "      document.body.appendChild(div);\n",
              "\n",
              "      const buffers = [];\n",
              "      let downloaded = 0;\n",
              "\n",
              "      const channel = await google.colab.kernel.comms.open(id);\n",
              "      // Send a message to notify the kernel that we're ready.\n",
              "      channel.send({})\n",
              "\n",
              "      for await (const message of channel.messages) {\n",
              "        // Send a message to notify the kernel that we're ready.\n",
              "        channel.send({})\n",
              "        if (message.buffers) {\n",
              "          for (const buffer of message.buffers) {\n",
              "            buffers.push(buffer);\n",
              "            downloaded += buffer.byteLength;\n",
              "            progress.value = downloaded;\n",
              "          }\n",
              "        }\n",
              "      }\n",
              "      const blob = new Blob(buffers, {type: 'application/binary'});\n",
              "      const a = document.createElement('a');\n",
              "      a.href = window.URL.createObjectURL(blob);\n",
              "      a.download = filename;\n",
              "      div.appendChild(a);\n",
              "      a.click();\n",
              "      div.remove();\n",
              "    }\n",
              "  "
            ]
          },
          "metadata": {}
        },
        {
          "output_type": "display_data",
          "data": {
            "text/plain": [
              "<IPython.core.display.Javascript object>"
            ],
            "application/javascript": [
              "download(\"download_6fa7bd15-ad78-4834-b116-6e392a179418\", \"grafico_tienda3.png\", 22536)"
            ]
          },
          "metadata": {}
        }
      ]
    },
    {
      "cell_type": "code",
      "source": [
        "\n",
        "#graficar los valores de las categorias tienda 4\n",
        "plt.bar(resultados_tienda4.keys(), resultados_tienda4.values(), color='pink')\n",
        "plt.xlabel('Categoria', fontsize=10)\n",
        "plt.ylabel('Cantidad Vendida')\n",
        "plt.title('Artículos más Vendidos en la Tienda 4')\n",
        "plt.setp(plt.gca().get_xticklabels(), rotation=90)\n",
        "plt.savefig('grafico_tienda4.png')\n",
        "plt.show()"
      ],
      "metadata": {
        "colab": {
          "base_uri": "https://localhost:8080/",
          "height": 623
        },
        "id": "chN4t6FX35ci",
        "outputId": "ae5359c3-c4bb-46ed-c372-c7c3f42d981a"
      },
      "execution_count": 217,
      "outputs": [
        {
          "output_type": "display_data",
          "data": {
            "text/plain": [
              "<Figure size 640x480 with 1 Axes>"
            ],
            "image/png": "[encoded data removed]"
          },
          "metadata": {}
        }
      ]
    },
    {
      "cell_type": "code",
      "source": [
        "from google.colab import files\n",
        "files.download('grafico_tienda4.png')"
      ],
      "metadata": {
        "colab": {
          "base_uri": "https://localhost:8080/",
          "height": 17
        },
        "id": "97nrzPzr4NLL",
        "outputId": "4e4d632f-776e-4024-847a-ed1b86580cb9"
      },
      "execution_count": 218,
      "outputs": [
        {
          "output_type": "display_data",
          "data": {
            "text/plain": [
              "<IPython.core.display.Javascript object>"
            ],
            "application/javascript": [
              "\n",
              "    async function download(id, filename, size) {\n",
              "      if (!google.colab.kernel.accessAllowed) {\n",
              "        return;\n",
              "      }\n",
              "      const div = document.createElement('div');\n",
              "      const label = document.createElement('label');\n",
              "      label.textContent = `Downloading \"${filename}\": `;\n",
              "      div.appendChild(label);\n",
              "      const progress = document.createElement('progress');\n",
              "      progress.max = size;\n",
              "      div.appendChild(progress);\n",
              "      document.body.appendChild(div);\n",
              "\n",
              "      const buffers = [];\n",
              "      let downloaded = 0;\n",
              "\n",
              "      const channel = await google.colab.kernel.comms.open(id);\n",
              "      // Send a message to notify the kernel that we're ready.\n",
              "      channel.send({})\n",
              "\n",
              "      for await (const message of channel.messages) {\n",
              "        // Send a message to notify the kernel that we're ready.\n",
              "        channel.send({})\n",
              "        if (message.buffers) {\n",
              "          for (const buffer of message.buffers) {\n",
              "            buffers.push(buffer);\n",
              "            downloaded += buffer.byteLength;\n",
              "            progress.value = downloaded;\n",
              "          }\n",
              "        }\n",
              "      }\n",
              "      const blob = new Blob(buffers, {type: 'application/binary'});\n",
              "      const a = document.createElement('a');\n",
              "      a.href = window.URL.createObjectURL(blob);\n",
              "      a.download = filename;\n",
              "      div.appendChild(a);\n",
              "      a.click();\n",
              "      div.remove();\n",
              "    }\n",
              "  "
            ]
          },
          "metadata": {}
        },
        {
          "output_type": "display_data",
          "data": {
            "text/plain": [
              "<IPython.core.display.Javascript object>"
            ],
            "application/javascript": [
              "download(\"download_f7a52088-cd25-432f-a0db-f9b23b83cb95\", \"grafico_tienda4.png\", 22216)"
            ]
          },
          "metadata": {}
        }
      ]
    },
    {
      "cell_type": "code",
      "source": [
        "#articulos mas vendidos y menos vendidos en la tienda 1\n",
        "producto_vendido = max(resultados_tienda1.values())\n",
        "articulo_maximo = [articulo for articulo, conteo in resultados_tienda1.items() if conteo == producto_vendido]\n",
        "resultado = f\"El artículo más vendido en la Tienda 1 es: {articulo_maximo[0]} con {producto_vendido} unidades.\"\n",
        "print(resultado)\n",
        "producto_menos_vendio= min(resultados_tienda1.values())\n",
        "articulo_minimo = [articulo for articulo, conteo in resultados_tienda1.items() if conteo == producto_menos_vendio]\n",
        "resultado_minimo = f\"El artículo menos vendido de la Tienda 1 es: {articulo_minimo[0]} con {producto_menos_vendio} unidades.\"\n",
        "\n",
        "if len(articulo_minimo) > 1:\n",
        "    articulos = \", \".join(articulo_minimo)\n",
        "    print(f\"Los artículos menos vendidos en la Tienda 1 con: {producto_menos_vendio} unidades son: {articulos}.\")\n",
        "else:\n",
        "    print(f\"El artículo menos vendido en la Tienda 1 es: {articulo_minimo[0]} con {producto_menos_vendio} unidades.\")\n",
        "print(\"\"\" \"\"\")\n",
        "\n",
        "#articulo mas vendido y menos vendido en la tienda 2\n",
        "producto_vendido2 = max(resultados_tienda2.values())\n",
        "articulo_maximo2 = [articulo for articulo, conteo in resultados_tienda2.items() if conteo == producto_vendido2]\n",
        "resultado2 = f\"El artículo más vendido de la Tienda 2 es: {articulo_maximo2[0]} con {producto_vendido2} unidades.\"\n",
        "print(resultado2)\n",
        "producto_menos_vendio2= min(resultados_tienda2.values())\n",
        "articulo_minimo2 = [articulo for articulo, conteo in resultados_tienda2.items() if conteo == producto_menos_vendio2]\n",
        "resultado_minimo2 = f\"El artículo menos vendido de la Tienda 2 es: {articulo_minimo2[0]} con {producto_menos_vendio2} unidades.\"\n",
        "\n",
        "if len(articulo_minimo2) > 1:\n",
        "    articulos2 = \", \".join(articulo_minimo2)\n",
        "    print(f\"Los artículos menos vendidos en la Tienda 2 con: {producto_menos_vendio2} unidades son: {articulos2}.\")\n",
        "else:\n",
        "    print(f\"El artículo menos vendido en la Tienda 2 es: {articulo_minimo2[0]} con {producto_menos_vendio2} unidades.\")\n",
        "print(\"\"\" \"\"\")\n",
        "\n",
        "\n",
        "#articulo mas vendido y menos vendido en la tienda 3\n",
        "producto_vendido3 = max(resultados_tienda3.values())\n",
        "articulo_maximo3 = [articulo for articulo, conteo in resultados_tienda3.items() if conteo == producto_vendido3]\n",
        "resultado3 = f\"El artículo más vendido de la Tienda 3 es: {articulo_maximo3[0]} con {producto_vendido3} unidades.\"\n",
        "print(resultado3)\n",
        "producto_menos_vendio3= min(resultados_tienda3.values())\n",
        "articulo_minimo3 = [articulo for articulo, conteo in resultados_tienda3.items() if conteo == producto_menos_vendio3]\n",
        "resultado_minimo3 = f\"El artículo menos vendido de la Tienda 3 es: {articulo_minimo3[0]} con {producto_menos_vendio3} unidades.\"\n",
        "\n",
        "if len(articulo_minimo3) > 1:\n",
        "    articulos3 = \", \".join(articulo_minimo3)\n",
        "    print(f\"Los artículos menos vendidos en la Tienda 3 con: {producto_menos_vendio3} unidades son: {articulos3}.\")\n",
        "else:\n",
        "    print(f\"El artículo menos vendido en la Tienda 3 es: {articulo_minimo3[0]} con {producto_menos_vendio3} unidades.\")\n",
        "print(\"\"\" \"\"\")\n",
        "\n",
        "\n",
        "#articulo mas vendido y menos vendido en la tienda 4\n",
        "producto_vendido4 = max(resultados_tienda4.values())\n",
        "articulo_maximo4 = [articulo for articulo, conteo in resultados_tienda4.items() if conteo == producto_vendido4]\n",
        "resultado4 = f\"El artículo más vendido de la Tienda 4 es: {articulo_maximo4[0]} con {producto_vendido4} unidades.\"\n",
        "print(resultado4)\n",
        "producto_menos_vendio4= min(resultados_tienda4.values())\n",
        "articulo_minimo4 = [articulo for articulo, conteo in resultados_tienda4.items() if conteo == producto_menos_vendio4]\n",
        "resultado_minimo4 = f\"El artículo menos vendido de la Tienda 4 es: {articulo_minimo4[0]} con {producto_menos_vendio4} unidades.\"\n",
        "\n",
        "if len(articulo_minimo4) > 1:\n",
        "    articulos4 = \", \".join(articulo_minimo4)\n",
        "    print(f\"Los artículos menos vendidos en la Tienda 4 con: {producto_menos_vendio4} unidades son: {articulos4}.\")\n",
        "else:\n",
        "    print(f\"El artículo menos vendido en la Tienda 4 es: {articulo_minimo4[0]} con {producto_menos_vendio4} unidades.\")\n",
        "print(\"\"\" \"\"\")\n",
        "\n"
      ],
      "metadata": {
        "id": "0Sw3sd4IZIGW",
        "colab": {
          "base_uri": "https://localhost:8080/"
        },
        "outputId": "bd0cf582-4300-40f5-d9fa-20184f3177c7"
      },
      "execution_count": 219,
      "outputs": [
        {
          "output_type": "stream",
          "name": "stdout",
          "text": [
            "El artículo más vendido en la Tienda 1 es: Muebles con 465 unidades.\n",
            "El artículo menos vendido en la Tienda 1 es: Articulos para el hogar con 171 unidades.\n",
            " \n",
            "El artículo más vendido de la Tienda 2 es: Muebles con 442 unidades.\n",
            "El artículo menos vendido en la Tienda 2 es: Articulos para el hogar con 181 unidades.\n",
            " \n",
            "El artículo más vendido de la Tienda 3 es: Muebles con 499 unidades.\n",
            "Los artículos menos vendidos en la Tienda 3 con: 177 unidades son: Articulos para el hogar, Instrumentos musicales.\n",
            " \n",
            "El artículo más vendido de la Tienda 4 es: Muebles con 480 unidades.\n",
            "El artículo menos vendido en la Tienda 4 es: Instrumentos musicales con 170 unidades.\n",
            " \n"
          ]
        }
      ]
    },
    {
      "cell_type": "markdown",
      "source": [
        "# 5. Envío promedio por tienda"
      ],
      "metadata": {
        "id": "Fl0cGi3bZKqU"
      }
    },
    {
      "cell_type": "code",
      "source": [
        "temp = tienda.columns\n",
        "print(temp)"
      ],
      "metadata": {
        "id": "0tSdCie9ZQlt",
        "colab": {
          "base_uri": "https://localhost:8080/"
        },
        "outputId": "3605836a-aafc-493b-dc32-c784508aa41e"
      },
      "execution_count": 220,
      "outputs": [
        {
          "output_type": "stream",
          "name": "stdout",
          "text": [
            "Index(['Producto', 'Categoría del Producto', 'Precio', 'Costo de envío',\n",
            "       'Fecha de Compra', 'Vendedor', 'Lugar de Compra', 'Calificación',\n",
            "       'Método de pago', 'Cantidad de cuotas', 'lat', 'lon'],\n",
            "      dtype='object')\n"
          ]
        }
      ]
    },
    {
      "cell_type": "code",
      "source": [
        "#suma total de los envios en T1\n",
        "total_envio_tienda1 = tienda['Costo de envío'].sum()\n",
        "print('La suma total del Costo de envío en la tienda 1 es de: ', total_envio_tienda1)\n",
        "\n",
        "#suma total de los envios en T2\n",
        "total_envio_tienda2 = tienda2['Costo de envío'].sum()\n",
        "print('La suma total del Costo de envío en la tienda 2 es de: ', total_envio_tienda2)\n",
        "\n",
        "#suma total de los envios en T3\n",
        "total_envio_tienda3 = tienda3['Costo de envío'].sum()\n",
        "print('La suma total del Costo de envío en la tienda 3 es de: ',total_envio_tienda3)\n",
        "\n",
        "#suma total de los envios en T4\n",
        "total_envio_tienda4 = tienda4['Costo de envío'].sum()\n",
        "print('La suma total del Costo de envío en la tienda 4 es de: ',total_envio_tienda4)"
      ],
      "metadata": {
        "colab": {
          "base_uri": "https://localhost:8080/"
        },
        "id": "ae-vrZbjYtD8",
        "outputId": "05515b1c-c616-4413-91df-f2775b4e1e86"
      },
      "execution_count": 221,
      "outputs": [
        {
          "output_type": "stream",
          "name": "stdout",
          "text": [
            "La suma total del Costo de envío en la tienda 1 es de:  61377900.0\n",
            "La suma total del Costo de envío en la tienda 2 es de:  59485100.0\n",
            "La suma total del Costo de envío en la tienda 3 es de:  58516600.0\n",
            "La suma total del Costo de envío en la tienda 4 es de:  55317400.0\n"
          ]
        }
      ]
    },
    {
      "cell_type": "code",
      "source": [
        "#Valor promedio de Costo de envío en la tienda 1\n",
        "promedio_envio_tienda1=(total_envio_tienda1/len(tienda['Costo de envío']))\n",
        "print('El promedio del Costo de envío en la tienda 1 es de: ', promedio_envio_tienda1)\n",
        "print(\"\"\" \"\"\")\n",
        "\n",
        "#Valor promedio de Costo de envío en la tienda 2\n",
        "promedio_envio_tienda2=(total_envio_tienda2/len(tienda2['Costo de envío']))\n",
        "print('El promedio del Costo de envío en la tienda 2 es de: ', promedio_envio_tienda2)\n",
        "print(\"\"\" \"\"\")\n",
        "\n",
        "#Valor promedio de Costo de envío en la tienda 3\n",
        "promedio_envio_tienda3=(total_envio_tienda3/len(tienda3['Costo de envío']))\n",
        "print('El promedio del Costo de envío en la tienda 3 es de: ', promedio_envio_tienda3)\n",
        "print(\"\"\" \"\"\")\n",
        "\n",
        "#Valor promedio de Costo de envío en la tienda 3\n",
        "promedio_envio_tienda3=(total_envio_tienda3/len(tienda3['Costo de envío']))\n",
        "\n",
        "#Valor promedio de Costo de envío en la tienda 4\n",
        "promedio_envio_tienda4=(total_envio_tienda4/len(tienda4['Costo de envío']))\n",
        "print('El promedio del Costo de envío en la tienda 4 es de: ', promedio_envio_tienda4)\n",
        "print(\"\"\" \"\"\")\n"
      ],
      "metadata": {
        "colab": {
          "base_uri": "https://localhost:8080/"
        },
        "id": "o0QofK2eZ_1v",
        "outputId": "dcd18c98-8874-4d47-b9ca-4cc0187e910c"
      },
      "execution_count": 222,
      "outputs": [
        {
          "output_type": "stream",
          "name": "stdout",
          "text": [
            "El promedio del Costo de envío en la tienda 1 es de:  26018.60958033065\n",
            " \n",
            "El promedio del Costo de envío en la tienda 2 es de:  25216.235693090293\n",
            " \n",
            "El promedio del Costo de envío en la tienda 3 es de:  24805.680373039424\n",
            " \n",
            "El promedio del Costo de envío en la tienda 4 es de:  23459.457167090754\n",
            " \n"
          ]
        }
      ]
    },
    {
      "cell_type": "code",
      "source": [
        "lista_promedio_envios = [promedio_envio_tienda1, promedio_envio_tienda2, promedio_envio_tienda3, promedio_envio_tienda4]\n",
        "lista_tiendas = ['Tienda 1', 'Tienda 2', 'Tienda 3', 'Tienda 4']\n",
        "\n",
        "# Crear un gráfico de barras\n",
        "plt.bar(lista_tiendas, lista_promedio_envios, color=['blue', 'orange', 'green', 'red'])\n",
        "\n",
        "# Añadir título y etiquetas\n",
        "plt.title('Valor promedio de envios por Tienda')\n",
        "plt.xlabel('Tiendas')\n",
        "plt.ylabel('valor promedio de envios')\n",
        "\n",
        "# Formatear el eje Y para que no use notación científica\n",
        "plt.gca().yaxis.set_major_formatter(ticker.StrMethodFormatter('{x:,.0f}'))\n",
        "\n",
        "# Mostrar el gráfico\n",
        "plt.show()"
      ],
      "metadata": {
        "colab": {
          "base_uri": "https://localhost:8080/",
          "height": 472
        },
        "id": "0B71AqZeKPr9",
        "outputId": "2d24088d-5875-4e07-d501-107771cc8d32"
      },
      "execution_count": 223,
      "outputs": [
        {
          "output_type": "display_data",
          "data": {
            "text/plain": [
              "<Figure size 640x480 with 1 Axes>"
            ],
            "image/png": "[encoded data removed]"
          },
          "metadata": {}
        }
      ]
    },
    {
      "cell_type": "markdown",
      "source": [
        "#Objetivo: Evaluar el desempeño de cada tienda, obteniendo los resultados a través del análisis y visualización de datos.\n",
        "\n",
        "Se tomaron en cuenta los siguientes aspectos:\n",
        "\n",
        "*   El ingreso total en cada tienda.\n",
        "*   Las categorías de productos más populares.\n",
        "\n",
        "*   El nivel de satisfacción de los clientes promediando las calificaciones por tienda.\n",
        "*   Los productos con más y menos ventas.\n",
        "\n",
        "*   El coste de envío promedio para cada tienda.\n",
        "\n",
        "\n",
        "\n",
        "\n",
        "La tienda 1 representa el 26.1% de los ingresos totales, esta sucursal tiene como debilidad la atención al cliente, razón importante para corregirlo, considerando que es la tienda que aporta más rendimiento.\n",
        "\n",
        "Con respecto a las sucursales Tienda 2 y Tienda 3 son la mejor opción para mantenerlas en circulación y continuar las operaciones, el nivel de satisfacción de los clientes indican una gran fortaleza.\n",
        "\n",
        "La tienda 4 muestra un menor numero de ventas, menor rendimiento y baja satisfacción del cliente, por lo que se sugiere que esta sea la tienda que se venda.\n",
        "\n",
        "\n",
        "\n",
        "\n"
      ],
      "metadata": {
        "id": "_VqeXY2LZ94v"
      }
    }
  ]
}