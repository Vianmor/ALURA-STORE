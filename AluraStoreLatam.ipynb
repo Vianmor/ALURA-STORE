{
  "nbformat": 4,
  "nbformat_minor": 0,
  "metadata": {
    "colab": {
      "provenance": [],
      "include_colab_link": true
    },
    "kernelspec": {
      "name": "python3",
      "display_name": "Python 3"
    },
    "language_info": {
      "name": "python"
    }
  },
  "cells": [
    {
      "cell_type": "markdown",
      "metadata": {
        "id": "view-in-github",
        "colab_type": "text"
      },
      "source": [
        "<a href=\"https://colab.research.google.com/github/Vianmor/ALURA-STORE/blob/main/AluraStoreLatam.ipynb\" target=\"_parent\"><img src=\"https://colab.research.google.com/assets/colab-badge.svg\" alt=\"Open In Colab\"/></a>"
      ]
    },
    {
      "cell_type": "markdown",
      "source": [
        "### Importación de datos\n",
        "\n"
      ],
      "metadata": {
        "id": "RhEdWd9YUR6H"
      }
    },
    {
      "cell_type": "code",
      "execution_count": 29,
      "metadata": {
        "colab": {
          "base_uri": "https://localhost:8080/",
          "height": 206
        },
        "id": "T3EvaeQ_INIL",
        "outputId": "151d85f3-9470-4886-db08-acfc97d9ebd6"
      },
      "outputs": [
        {
          "output_type": "execute_result",
          "data": {
            "text/plain": [
              "            Producto Categoría del Producto    Precio  Costo de envío  \\\n",
              "0  Asistente virtual           Electrónicos  164300.0          6900.0   \n",
              "1    Mesa de comedor                Muebles  192300.0          8400.0   \n",
              "2      Juego de mesa               Juguetes  209600.0         15900.0   \n",
              "3         Microondas      Electrodomésticos  757500.0         41000.0   \n",
              "4   Silla de oficina                Muebles  335200.0         20200.0   \n",
              "\n",
              "  Fecha de Compra         Vendedor Lugar de Compra  Calificación  \\\n",
              "0      16/01/2021      Pedro Gomez          Bogotá             4   \n",
              "1      18/05/2022  Beatriz Morales        Medellín             1   \n",
              "2      15/03/2021   Juan Fernandez       Cartagena             1   \n",
              "3      03/05/2022   Juan Fernandez            Cali             4   \n",
              "4      07/11/2020    Maria Alfonso        Medellín             5   \n",
              "\n",
              "       Método de pago  Cantidad de cuotas       lat       lon  \n",
              "0  Tarjeta de crédito                   8   4.60971 -74.08175  \n",
              "1  Tarjeta de crédito                   4   6.25184 -75.56359  \n",
              "2  Tarjeta de crédito                   1  10.39972 -75.51444  \n",
              "3               Nequi                   1   3.43722 -76.52250  \n",
              "4               Nequi                   1   6.25184 -75.56359  "
            ],
            "text/html": [
              "\n",
              "  <div id=\"df-b5a4da51-3c2c-42ce-9704-3c5fed5a8f7c\" class=\"colab-df-container\">\n",
              "    <div>\n",
              "<style scoped>\n",
              "    .dataframe tbody tr th:only-of-type {\n",
              "        vertical-align: middle;\n",
              "    }\n",
              "\n",
              "    .dataframe tbody tr th {\n",
              "        vertical-align: top;\n",
              "    }\n",
              "\n",
              "    .dataframe thead th {\n",
              "        text-align: right;\n",
              "    }\n",
              "</style>\n",
              "<table border=\"1\" class=\"dataframe\">\n",
              "  <thead>\n",
              "    <tr style=\"text-align: right;\">\n",
              "      <th></th>\n",
              "      <th>Producto</th>\n",
              "      <th>Categoría del Producto</th>\n",
              "      <th>Precio</th>\n",
              "      <th>Costo de envío</th>\n",
              "      <th>Fecha de Compra</th>\n",
              "      <th>Vendedor</th>\n",
              "      <th>Lugar de Compra</th>\n",
              "      <th>Calificación</th>\n",
              "      <th>Método de pago</th>\n",
              "      <th>Cantidad de cuotas</th>\n",
              "      <th>lat</th>\n",
              "      <th>lon</th>\n",
              "    </tr>\n",
              "  </thead>\n",
              "  <tbody>\n",
              "    <tr>\n",
              "      <th>0</th>\n",
              "      <td>Asistente virtual</td>\n",
              "      <td>Electrónicos</td>\n",
              "      <td>164300.0</td>\n",
              "      <td>6900.0</td>\n",
              "      <td>16/01/2021</td>\n",
              "      <td>Pedro Gomez</td>\n",
              "      <td>Bogotá</td>\n",
              "      <td>4</td>\n",
              "      <td>Tarjeta de crédito</td>\n",
              "      <td>8</td>\n",
              "      <td>4.60971</td>\n",
              "      <td>-74.08175</td>\n",
              "    </tr>\n",
              "    <tr>\n",
              "      <th>1</th>\n",
              "      <td>Mesa de comedor</td>\n",
              "      <td>Muebles</td>\n",
              "      <td>192300.0</td>\n",
              "      <td>8400.0</td>\n",
              "      <td>18/05/2022</td>\n",
              "      <td>Beatriz Morales</td>\n",
              "      <td>Medellín</td>\n",
              "      <td>1</td>\n",
              "      <td>Tarjeta de crédito</td>\n",
              "      <td>4</td>\n",
              "      <td>6.25184</td>\n",
              "      <td>-75.56359</td>\n",
              "    </tr>\n",
              "    <tr>\n",
              "      <th>2</th>\n",
              "      <td>Juego de mesa</td>\n",
              "      <td>Juguetes</td>\n",
              "      <td>209600.0</td>\n",
              "      <td>15900.0</td>\n",
              "      <td>15/03/2021</td>\n",
              "      <td>Juan Fernandez</td>\n",
              "      <td>Cartagena</td>\n",
              "      <td>1</td>\n",
              "      <td>Tarjeta de crédito</td>\n",
              "      <td>1</td>\n",
              "      <td>10.39972</td>\n",
              "      <td>-75.51444</td>\n",
              "    </tr>\n",
              "    <tr>\n",
              "      <th>3</th>\n",
              "      <td>Microondas</td>\n",
              "      <td>Electrodomésticos</td>\n",
              "      <td>757500.0</td>\n",
              "      <td>41000.0</td>\n",
              "      <td>03/05/2022</td>\n",
              "      <td>Juan Fernandez</td>\n",
              "      <td>Cali</td>\n",
              "      <td>4</td>\n",
              "      <td>Nequi</td>\n",
              "      <td>1</td>\n",
              "      <td>3.43722</td>\n",
              "      <td>-76.52250</td>\n",
              "    </tr>\n",
              "    <tr>\n",
              "      <th>4</th>\n",
              "      <td>Silla de oficina</td>\n",
              "      <td>Muebles</td>\n",
              "      <td>335200.0</td>\n",
              "      <td>20200.0</td>\n",
              "      <td>07/11/2020</td>\n",
              "      <td>Maria Alfonso</td>\n",
              "      <td>Medellín</td>\n",
              "      <td>5</td>\n",
              "      <td>Nequi</td>\n",
              "      <td>1</td>\n",
              "      <td>6.25184</td>\n",
              "      <td>-75.56359</td>\n",
              "    </tr>\n",
              "  </tbody>\n",
              "</table>\n",
              "</div>\n",
              "    <div class=\"colab-df-buttons\">\n",
              "\n",
              "  <div class=\"colab-df-container\">\n",
              "    <button class=\"colab-df-convert\" onclick=\"convertToInteractive('df-b5a4da51-3c2c-42ce-9704-3c5fed5a8f7c')\"\n",
              "            title=\"Convert this dataframe to an interactive table.\"\n",
              "            style=\"display:none;\">\n",
              "\n",
              "  <svg xmlns=\"http://www.w3.org/2000/svg\" height=\"24px\" viewBox=\"0 -960 960 960\">\n",
              "    <path d=\"M120-120v-720h720v720H120Zm60-500h600v-160H180v160Zm220 220h160v-160H400v160Zm0 220h160v-160H400v160ZM180-400h160v-160H180v160Zm440 0h160v-160H620v160ZM180-180h160v-160H180v160Zm440 0h160v-160H620v160Z\"/>\n",
              "  </svg>\n",
              "    </button>\n",
              "\n",
              "  <style>\n",
              "    .colab-df-container {\n",
              "      display:flex;\n",
              "      gap: 12px;\n",
              "    }\n",
              "\n",
              "    .colab-df-convert {\n",
              "      background-color: #E8F0FE;\n",
              "      border: none;\n",
              "      border-radius: 50%;\n",
              "      cursor: pointer;\n",
              "      display: none;\n",
              "      fill: #1967D2;\n",
              "      height: 32px;\n",
              "      padding: 0 0 0 0;\n",
              "      width: 32px;\n",
              "    }\n",
              "\n",
              "    .colab-df-convert:hover {\n",
              "      background-color: #E2EBFA;\n",
              "      box-shadow: 0px 1px 2px rgba(60, 64, 67, 0.3), 0px 1px 3px 1px rgba(60, 64, 67, 0.15);\n",
              "      fill: #174EA6;\n",
              "    }\n",
              "\n",
              "    .colab-df-buttons div {\n",
              "      margin-bottom: 4px;\n",
              "    }\n",
              "\n",
              "    [theme=dark] .colab-df-convert {\n",
              "      background-color: #3B4455;\n",
              "      fill: #D2E3FC;\n",
              "    }\n",
              "\n",
              "    [theme=dark] .colab-df-convert:hover {\n",
              "      background-color: #434B5C;\n",
              "      box-shadow: 0px 1px 3px 1px rgba(0, 0, 0, 0.15);\n",
              "      filter: drop-shadow(0px 1px 2px rgba(0, 0, 0, 0.3));\n",
              "      fill: #FFFFFF;\n",
              "    }\n",
              "  </style>\n",
              "\n",
              "    <script>\n",
              "      const buttonEl =\n",
              "        document.querySelector('#df-b5a4da51-3c2c-42ce-9704-3c5fed5a8f7c button.colab-df-convert');\n",
              "      buttonEl.style.display =\n",
              "        google.colab.kernel.accessAllowed ? 'block' : 'none';\n",
              "\n",
              "      async function convertToInteractive(key) {\n",
              "        const element = document.querySelector('#df-b5a4da51-3c2c-42ce-9704-3c5fed5a8f7c');\n",
              "        const dataTable =\n",
              "          await google.colab.kernel.invokeFunction('convertToInteractive',\n",
              "                                                    [key], {});\n",
              "        if (!dataTable) return;\n",
              "\n",
              "        const docLinkHtml = 'Like what you see? Visit the ' +\n",
              "          '<a target=\"_blank\" href=https://colab.research.google.com/notebooks/data_table.ipynb>data table notebook</a>'\n",
              "          + ' to learn more about interactive tables.';\n",
              "        element.innerHTML = '';\n",
              "        dataTable['output_type'] = 'display_data';\n",
              "        await google.colab.output.renderOutput(dataTable, element);\n",
              "        const docLink = document.createElement('div');\n",
              "        docLink.innerHTML = docLinkHtml;\n",
              "        element.appendChild(docLink);\n",
              "      }\n",
              "    </script>\n",
              "  </div>\n",
              "\n",
              "\n",
              "<div id=\"df-bb3302a8-1057-4432-a672-ae6e38611abb\">\n",
              "  <button class=\"colab-df-quickchart\" onclick=\"quickchart('df-bb3302a8-1057-4432-a672-ae6e38611abb')\"\n",
              "            title=\"Suggest charts\"\n",
              "            style=\"display:none;\">\n",
              "\n",
              "<svg xmlns=\"http://www.w3.org/2000/svg\" height=\"24px\"viewBox=\"0 0 24 24\"\n",
              "     width=\"24px\">\n",
              "    <g>\n",
              "        <path d=\"M19 3H5c-1.1 0-2 .9-2 2v14c0 1.1.9 2 2 2h14c1.1 0 2-.9 2-2V5c0-1.1-.9-2-2-2zM9 17H7v-7h2v7zm4 0h-2V7h2v10zm4 0h-2v-4h2v4z\"/>\n",
              "    </g>\n",
              "</svg>\n",
              "  </button>\n",
              "\n",
              "<style>\n",
              "  .colab-df-quickchart {\n",
              "      --bg-color: #E8F0FE;\n",
              "      --fill-color: #1967D2;\n",
              "      --hover-bg-color: #E2EBFA;\n",
              "      --hover-fill-color: #174EA6;\n",
              "      --disabled-fill-color: #AAA;\n",
              "      --disabled-bg-color: #DDD;\n",
              "  }\n",
              "\n",
              "  [theme=dark] .colab-df-quickchart {\n",
              "      --bg-color: #3B4455;\n",
              "      --fill-color: #D2E3FC;\n",
              "      --hover-bg-color: #434B5C;\n",
              "      --hover-fill-color: #FFFFFF;\n",
              "      --disabled-bg-color: #3B4455;\n",
              "      --disabled-fill-color: #666;\n",
              "  }\n",
              "\n",
              "  .colab-df-quickchart {\n",
              "    background-color: var(--bg-color);\n",
              "    border: none;\n",
              "    border-radius: 50%;\n",
              "    cursor: pointer;\n",
              "    display: none;\n",
              "    fill: var(--fill-color);\n",
              "    height: 32px;\n",
              "    padding: 0;\n",
              "    width: 32px;\n",
              "  }\n",
              "\n",
              "  .colab-df-quickchart:hover {\n",
              "    background-color: var(--hover-bg-color);\n",
              "    box-shadow: 0 1px 2px rgba(60, 64, 67, 0.3), 0 1px 3px 1px rgba(60, 64, 67, 0.15);\n",
              "    fill: var(--button-hover-fill-color);\n",
              "  }\n",
              "\n",
              "  .colab-df-quickchart-complete:disabled,\n",
              "  .colab-df-quickchart-complete:disabled:hover {\n",
              "    background-color: var(--disabled-bg-color);\n",
              "    fill: var(--disabled-fill-color);\n",
              "    box-shadow: none;\n",
              "  }\n",
              "\n",
              "  .colab-df-spinner {\n",
              "    border: 2px solid var(--fill-color);\n",
              "    border-color: transparent;\n",
              "    border-bottom-color: var(--fill-color);\n",
              "    animation:\n",
              "      spin 1s steps(1) infinite;\n",
              "  }\n",
              "\n",
              "  @keyframes spin {\n",
              "    0% {\n",
              "      border-color: transparent;\n",
              "      border-bottom-color: var(--fill-color);\n",
              "      border-left-color: var(--fill-color);\n",
              "    }\n",
              "    20% {\n",
              "      border-color: transparent;\n",
              "      border-left-color: var(--fill-color);\n",
              "      border-top-color: var(--fill-color);\n",
              "    }\n",
              "    30% {\n",
              "      border-color: transparent;\n",
              "      border-left-color: var(--fill-color);\n",
              "      border-top-color: var(--fill-color);\n",
              "      border-right-color: var(--fill-color);\n",
              "    }\n",
              "    40% {\n",
              "      border-color: transparent;\n",
              "      border-right-color: var(--fill-color);\n",
              "      border-top-color: var(--fill-color);\n",
              "    }\n",
              "    60% {\n",
              "      border-color: transparent;\n",
              "      border-right-color: var(--fill-color);\n",
              "    }\n",
              "    80% {\n",
              "      border-color: transparent;\n",
              "      border-right-color: var(--fill-color);\n",
              "      border-bottom-color: var(--fill-color);\n",
              "    }\n",
              "    90% {\n",
              "      border-color: transparent;\n",
              "      border-bottom-color: var(--fill-color);\n",
              "    }\n",
              "  }\n",
              "</style>\n",
              "\n",
              "  <script>\n",
              "    async function quickchart(key) {\n",
              "      const quickchartButtonEl =\n",
              "        document.querySelector('#' + key + ' button');\n",
              "      quickchartButtonEl.disabled = true;  // To prevent multiple clicks.\n",
              "      quickchartButtonEl.classList.add('colab-df-spinner');\n",
              "      try {\n",
              "        const charts = await google.colab.kernel.invokeFunction(\n",
              "            'suggestCharts', [key], {});\n",
              "      } catch (error) {\n",
              "        console.error('Error during call to suggestCharts:', error);\n",
              "      }\n",
              "      quickchartButtonEl.classList.remove('colab-df-spinner');\n",
              "      quickchartButtonEl.classList.add('colab-df-quickchart-complete');\n",
              "    }\n",
              "    (() => {\n",
              "      let quickchartButtonEl =\n",
              "        document.querySelector('#df-bb3302a8-1057-4432-a672-ae6e38611abb button');\n",
              "      quickchartButtonEl.style.display =\n",
              "        google.colab.kernel.accessAllowed ? 'block' : 'none';\n",
              "    })();\n",
              "  </script>\n",
              "</div>\n",
              "\n",
              "    </div>\n",
              "  </div>\n"
            ],
            "application/vnd.google.colaboratory.intrinsic+json": {
              "type": "dataframe",
              "variable_name": "tienda",
              "summary": "{\n  \"name\": \"tienda\",\n  \"rows\": 2359,\n  \"fields\": [\n    {\n      \"column\": \"Producto\",\n      \"properties\": {\n        \"dtype\": \"category\",\n        \"num_unique_values\": 51,\n        \"samples\": [\n          \"Guitarra ac\\u00fastica\",\n          \"Bal\\u00f3n de baloncesto\",\n          \"Smartwatch\"\n        ],\n        \"semantic_type\": \"\",\n        \"description\": \"\"\n      }\n    },\n    {\n      \"column\": \"Categor\\u00eda del Producto\",\n      \"properties\": {\n        \"dtype\": \"category\",\n        \"num_unique_values\": 8,\n        \"samples\": [\n          \"Muebles\",\n          \"Deportes y diversi\\u00f3n\",\n          \"Electr\\u00f3nicos\"\n        ],\n        \"semantic_type\": \"\",\n        \"description\": \"\"\n      }\n    },\n    {\n      \"column\": \"Precio\",\n      \"properties\": {\n        \"dtype\": \"number\",\n        \"std\": 614686.7653873172,\n        \"min\": 7600.0,\n        \"max\": 2977000.0,\n        \"num_unique_values\": 1937,\n        \"samples\": [\n          2499400.0,\n          14800.0,\n          80500.0\n        ],\n        \"semantic_type\": \"\",\n        \"description\": \"\"\n      }\n    },\n    {\n      \"column\": \"Costo de env\\u00edo\",\n      \"properties\": {\n        \"dtype\": \"number\",\n        \"std\": 32860.0017825605,\n        \"min\": 0.0,\n        \"max\": 160800.0,\n        \"num_unique_values\": 753,\n        \"samples\": [\n          117800.0,\n          54700.0,\n          45600.0\n        ],\n        \"semantic_type\": \"\",\n        \"description\": \"\"\n      }\n    },\n    {\n      \"column\": \"Fecha de Compra\",\n      \"properties\": {\n        \"dtype\": \"object\",\n        \"num_unique_values\": 1018,\n        \"samples\": [\n          \"15/09/2022\",\n          \"03/06/2020\",\n          \"06/11/2021\"\n        ],\n        \"semantic_type\": \"\",\n        \"description\": \"\"\n      }\n    },\n    {\n      \"column\": \"Vendedor\",\n      \"properties\": {\n        \"dtype\": \"category\",\n        \"num_unique_values\": 14,\n        \"samples\": [\n          \"Juliana Costa\",\n          \"Mariana Herrera\",\n          \"Pedro Gomez\"\n        ],\n        \"semantic_type\": \"\",\n        \"description\": \"\"\n      }\n    },\n    {\n      \"column\": \"Lugar de Compra\",\n      \"properties\": {\n        \"dtype\": \"category\",\n        \"num_unique_values\": 19,\n        \"samples\": [\n          \"Bogot\\u00e1\",\n          \"Pereira\",\n          \"Neiva\"\n        ],\n        \"semantic_type\": \"\",\n        \"description\": \"\"\n      }\n    },\n    {\n      \"column\": \"Calificaci\\u00f3n\",\n      \"properties\": {\n        \"dtype\": \"number\",\n        \"std\": 1,\n        \"min\": 1,\n        \"max\": 5,\n        \"num_unique_values\": 5,\n        \"samples\": [\n          1,\n          2,\n          5\n        ],\n        \"semantic_type\": \"\",\n        \"description\": \"\"\n      }\n    },\n    {\n      \"column\": \"M\\u00e9todo de pago\",\n      \"properties\": {\n        \"dtype\": \"category\",\n        \"num_unique_values\": 4,\n        \"samples\": [\n          \"Nequi\",\n          \"Tarjeta de d\\u00e9bito\",\n          \"Tarjeta de cr\\u00e9dito\"\n        ],\n        \"semantic_type\": \"\",\n        \"description\": \"\"\n      }\n    },\n    {\n      \"column\": \"Cantidad de cuotas\",\n      \"properties\": {\n        \"dtype\": \"number\",\n        \"std\": 2,\n        \"min\": 1,\n        \"max\": 24,\n        \"num_unique_values\": 15,\n        \"samples\": [\n          7,\n          14,\n          8\n        ],\n        \"semantic_type\": \"\",\n        \"description\": \"\"\n      }\n    },\n    {\n      \"column\": \"lat\",\n      \"properties\": {\n        \"dtype\": \"number\",\n        \"std\": 2.2874452492678627,\n        \"min\": -4.21528,\n        \"max\": 11.54444,\n        \"num_unique_values\": 19,\n        \"samples\": [\n          4.60971,\n          4.81333,\n          2.9273\n        ],\n        \"semantic_type\": \"\",\n        \"description\": \"\"\n      }\n    },\n    {\n      \"column\": \"lon\",\n      \"properties\": {\n        \"dtype\": \"number\",\n        \"std\": 1.2178272727088486,\n        \"min\": -77.28111,\n        \"max\": -67.9239,\n        \"num_unique_values\": 19,\n        \"samples\": [\n          -74.08175,\n          -75.69611,\n          -75.28189\n        ],\n        \"semantic_type\": \"\",\n        \"description\": \"\"\n      }\n    }\n  ]\n}"
            }
          },
          "metadata": {},
          "execution_count": 29
        }
      ],
      "source": [
        "import pandas as pd\n",
        "\n",
        "url = \"https://raw.githubusercontent.com/alura-es-cursos/challenge1-data-science-latam/refs/heads/main/base-de-datos-challenge1-latam/tienda_1%20.csv\"\n",
        "url2 = \"https://raw.githubusercontent.com/alura-es-cursos/challenge1-data-science-latam/refs/heads/main/base-de-datos-challenge1-latam/tienda_2.csv\"\n",
        "url3 = \"https://raw.githubusercontent.com/alura-es-cursos/challenge1-data-science-latam/refs/heads/main/base-de-datos-challenge1-latam/tienda_3.csv\"\n",
        "url4 = \"https://raw.githubusercontent.com/alura-es-cursos/challenge1-data-science-latam/refs/heads/main/base-de-datos-challenge1-latam/tienda_4.csv\"\n",
        "\n",
        "tienda = pd.read_csv(url)\n",
        "tienda2 = pd.read_csv(url2)\n",
        "tienda3 = pd.read_csv(url3)\n",
        "tienda4 = pd.read_csv(url4)\n",
        "\n",
        "tienda.head()"
      ]
    },
    {
      "cell_type": "markdown",
      "source": [
        "#1. Análisis de facturación\n",
        "\n"
      ],
      "metadata": {
        "id": "X62IW3KFUIYm"
      }
    },
    {
      "cell_type": "code",
      "source": [
        "import pandas as pd # import pandas library and alias it as 'pd'\n",
        "tienda = pd.read_csv(\"https://raw.githubusercontent.com/alura-es-cursos/challenge1-data-science-latam/refs/heads/main/base-de-datos-challenge1-latam/tienda_1%20.csv\")\n",
        "cantidad_tienda = len(tienda['Precio']) # Assuming 'precio' should be a column in 'tienda' DataFrame\n",
        "print(cantidad_tienda)"
      ],
      "metadata": {
        "colab": {
          "base_uri": "https://localhost:8080/"
        },
        "id": "wJ5FluSvRVOs",
        "outputId": "4b3c4471-fd10-4f4e-90f1-e0f2ce6d62c2"
      },
      "execution_count": 30,
      "outputs": [
        {
          "output_type": "stream",
          "name": "stdout",
          "text": [
            "2359\n"
          ]
        }
      ]
    },
    {
      "cell_type": "code",
      "source": [
        "import pandas as pd # import pandas library and alias it as 'pd'\n",
        "tienda2 = pd.read_csv(\"https://raw.githubusercontent.com/alura-es-cursos/challenge1-data-science-latam/refs/heads/main/base-de-datos-challenge1-latam/tienda_2.csv\")\n",
        "cantidad_tienda2 = len(tienda2['Precio']) # Assuming 'precio' should be a column in 'tienda' DataFrame\n",
        "print(cantidad_tienda2)"
      ],
      "metadata": {
        "colab": {
          "base_uri": "https://localhost:8080/"
        },
        "id": "b6_I1Uj5SPwO",
        "outputId": "b37545aa-4d78-4b44-eb5b-04586f906cbb"
      },
      "execution_count": 31,
      "outputs": [
        {
          "output_type": "stream",
          "name": "stdout",
          "text": [
            "2359\n"
          ]
        }
      ]
    },
    {
      "cell_type": "code",
      "source": [
        "import pandas as pd # import pandas library and alias it as 'pd'\n",
        "tienda3 = pd.read_csv(\"https://raw.githubusercontent.com/alura-es-cursos/challenge1-data-science-latam/refs/heads/main/base-de-datos-challenge1-latam/tienda_3.csv\")\n",
        "cantidad_tienda3 = len(tienda3['Precio']) # Assuming 'precio' should be a column in 'tienda' DataFrame\n",
        "print(cantidad_tienda3)"
      ],
      "metadata": {
        "colab": {
          "base_uri": "https://localhost:8080/"
        },
        "id": "YjN8biIBSQTa",
        "outputId": "e95a2c60-525a-4ec7-b8ef-c461064075a7"
      },
      "execution_count": 32,
      "outputs": [
        {
          "output_type": "stream",
          "name": "stdout",
          "text": [
            "2359\n"
          ]
        }
      ]
    },
    {
      "cell_type": "code",
      "source": [
        "import pandas as pd # import pandas library and alias it as 'pd'\n",
        "tienda4 = pd.read_csv(\"https://raw.githubusercontent.com/alura-es-cursos/challenge1-data-science-latam/refs/heads/main/base-de-datos-challenge1-latam/tienda_4.csv\"\n",
        ")\n",
        "cantidad_tienda4 = len(tienda4['Precio']) # Assuming 'precio' should be a column in 'tienda' DataFrame\n",
        "print(cantidad_tienda4)"
      ],
      "metadata": {
        "colab": {
          "base_uri": "https://localhost:8080/"
        },
        "id": "MfYYPzCYSQgE",
        "outputId": "54c9dd3b-fe90-4442-8b13-83b8a68eb5e5"
      },
      "execution_count": 33,
      "outputs": [
        {
          "output_type": "stream",
          "name": "stdout",
          "text": [
            "2358\n"
          ]
        }
      ]
    },
    {
      "cell_type": "code",
      "source": [
        "suma_precio_tienda1=tienda['Precio'].sum()\n",
        "print('El ingreso total en la tienda 1 es de: ',suma_precio_tienda1)\n",
        "suma_precio_tienda2=tienda2['Precio'].sum()\n",
        "print('El ingreso total en la tienda 2 es de: ',suma_precio_tienda2)\n",
        "suma_precio_tienda3=tienda3['Precio'].sum()\n",
        "print('El ingreso total en la tienda 3 es de: ',suma_precio_tienda3)\n",
        "suma_precio_tienda4=tienda4['Precio'].sum()\n",
        "print('El ingreso total en la tienda 4 es de: ',suma_precio_tienda4)\n",
        "\n"
      ],
      "metadata": {
        "colab": {
          "base_uri": "https://localhost:8080/"
        },
        "id": "sKG2QOarTee3",
        "outputId": "746b4388-f46e-4870-9f29-6a862fd82ed4"
      },
      "execution_count": 34,
      "outputs": [
        {
          "output_type": "stream",
          "name": "stdout",
          "text": [
            "El ingreso total en la tienda 1 es de:  1150880400.0\n",
            "El ingreso total en la tienda 2 es de:  1116343500.0\n",
            "El ingreso total en la tienda 3 es de:  1098019600.0\n",
            "El ingreso total en la tienda 4 es de:  1038375700.0\n"
          ]
        }
      ]
    },
    {
      "cell_type": "code",
      "source": [
        "lista_ingresos = [suma_precio_tienda1, suma_precio_tienda2, suma_precio_tienda3,suma_precio_tienda4]\n",
        "lista_tiendas= ['Tienda 1', 'Tienda 2', 'Tienda 3', 'Tienda 4']\n",
        "print(lista_ingresos, lista_tiendas)\n"
      ],
      "metadata": {
        "colab": {
          "base_uri": "https://localhost:8080/"
        },
        "id": "JlTWoaTj-dgO",
        "outputId": "5b38dff7-41bd-402d-e3a0-1c903ebf10ef"
      },
      "execution_count": 35,
      "outputs": [
        {
          "output_type": "stream",
          "name": "stdout",
          "text": [
            "[np.float64(1150880400.0), np.float64(1116343500.0), np.float64(1098019600.0), np.float64(1038375700.0)] ['Tienda 1', 'Tienda 2', 'Tienda 3', 'Tienda 4']\n"
          ]
        }
      ]
    },
    {
      "cell_type": "code",
      "source": [
        "import matplotlib.pyplot as plt\n",
        "import matplotlib.ticker as ticker"
      ],
      "metadata": {
        "id": "4CoVvJbIB7rb"
      },
      "execution_count": 36,
      "outputs": []
    },
    {
      "cell_type": "code",
      "source": [
        "plt.bar(lista_tiendas, lista_ingresos, color=['skyblue', 'magenta', 'lime', 'pink'])\n",
        "plt.xlabel('Tiendas')\n",
        "plt.ylabel('Ingreso Total')\n",
        "plt.title('Ingresos Totales por Tienda')\n",
        "plt.gca().yaxis.set_major_formatter(ticker.StrMethodFormatter('{x:,.0f}'))"
      ],
      "metadata": {
        "colab": {
          "base_uri": "https://localhost:8080/",
          "height": 472
        },
        "id": "ZSWP1HTq6hfc",
        "outputId": "e0d3824c-c62b-4178-d234-56c47993b315"
      },
      "execution_count": 37,
      "outputs": [
        {
          "output_type": "display_data",
          "data": {
            "text/plain": [
              "<Figure size 640x480 with 1 Axes>"
            ],
            "image/png": "[encoded data removed]"
          },
          "metadata": {}
        }
      ]
    },
    {
      "cell_type": "code",
      "source": [],
      "metadata": {
        "id": "r3quJYX9-EMw"
      },
      "execution_count": 37,
      "outputs": []
    },
    {
      "cell_type": "code",
      "source": [
        "facturacion_total = suma_precio_tienda1 + suma_precio_tienda2 + suma_precio_tienda3 + suma_precio_tienda4\n",
        "print(facturacion_total)"
      ],
      "metadata": {
        "colab": {
          "base_uri": "https://localhost:8080/"
        },
        "id": "3oqzbMpaTenp",
        "outputId": "fa726702-34bb-4526-bbd5-f01774873da6"
      },
      "execution_count": 38,
      "outputs": [
        {
          "output_type": "stream",
          "name": "stdout",
          "text": [
            "4403619200.0\n"
          ]
        }
      ]
    },
    {
      "cell_type": "code",
      "source": [
        "plt.pie(lista_ingresos, labels=lista_tiendas, autopct='%1.1f%%', startangle=140)\n",
        "plt.axis('equal')\n",
        "plt.title('Porcentaje de ingresos que aporta cada Tienda')\n",
        "plt.show()\n"
      ],
      "metadata": {
        "colab": {
          "base_uri": "https://localhost:8080/",
          "height": 433
        },
        "id": "B48qDZnuTew6",
        "outputId": "832de0a2-afd4-4533-e3f1-80a56f4bd4a5"
      },
      "execution_count": 39,
      "outputs": [
        {
          "output_type": "display_data",
          "data": {
            "text/plain": [
              "<Figure size 640x480 with 1 Axes>"
            ],
            "image/png": "[encoded data removed]"
          },
          "metadata": {}
        }
      ]
    },
    {
      "cell_type": "code",
      "source": [],
      "metadata": {
        "id": "EPVY8XmzDQXn"
      },
      "execution_count": 39,
      "outputs": []
    },
    {
      "cell_type": "code",
      "source": [],
      "metadata": {
        "id": "6BMGkzhcDQhj"
      },
      "execution_count": 39,
      "outputs": []
    },
    {
      "cell_type": "markdown",
      "source": [
        "# 2. Ventas por categoría"
      ],
      "metadata": {
        "id": "2V_vcAPzWZmR"
      }
    },
    {
      "cell_type": "code",
      "source": [
        "temp = tienda.columns\n",
        "print(temp)\n",
        "temp2 = tienda2.columns\n",
        "print(temp2)\n",
        "temp3 = tienda3.columns\n",
        "print(temp3)\n",
        "temp4 = tienda4.columns\n",
        "print(temp4)\n",
        "\n"
      ],
      "metadata": {
        "colab": {
          "base_uri": "https://localhost:8080/"
        },
        "id": "vXURi9Bcc9uH",
        "outputId": "1b1d4534-8adc-4aa5-ebb7-afe7d45a8133"
      },
      "execution_count": 40,
      "outputs": [
        {
          "output_type": "stream",
          "name": "stdout",
          "text": [
            "Index(['Producto', 'Categoría del Producto', 'Precio', 'Costo de envío',\n",
            "       'Fecha de Compra', 'Vendedor', 'Lugar de Compra', 'Calificación',\n",
            "       'Método de pago', 'Cantidad de cuotas', 'lat', 'lon'],\n",
            "      dtype='object')\n",
            "Index(['Producto', 'Categoría del Producto', 'Precio', 'Costo de envío',\n",
            "       'Fecha de Compra', 'Vendedor', 'Lugar de Compra', 'Calificación',\n",
            "       'Método de pago', 'Cantidad de cuotas', 'lat', 'lon'],\n",
            "      dtype='object')\n",
            "Index(['Producto', 'Categoría del Producto', 'Precio', 'Costo de envío',\n",
            "       'Fecha de Compra', 'Vendedor', 'Lugar de Compra', 'Calificación',\n",
            "       'Método de pago', 'Cantidad de cuotas', 'lat', 'lon'],\n",
            "      dtype='object')\n",
            "Index(['Producto', 'Categoría del Producto', 'Precio', 'Costo de envío',\n",
            "       'Fecha de Compra', 'Vendedor', 'Lugar de Compra', 'Calificación',\n",
            "       'Método de pago', 'Cantidad de cuotas', 'lat', 'lon'],\n",
            "      dtype='object')\n"
          ]
        }
      ]
    },
    {
      "cell_type": "code",
      "source": [],
      "metadata": {
        "id": "bXQ4MUmhUK7U"
      },
      "execution_count": 40,
      "outputs": []
    },
    {
      "cell_type": "code",
      "source": [
        "categorizacion = tienda[['Categoría del Producto']]\n",
        "print(categorizacion)"
      ],
      "metadata": {
        "colab": {
          "base_uri": "https://localhost:8080/"
        },
        "id": "w-znCXp3_4Dn",
        "outputId": "1a332e99-8a63-4f1e-f482-bb5f824f259f"
      },
      "execution_count": 41,
      "outputs": [
        {
          "output_type": "stream",
          "name": "stdout",
          "text": [
            "     Categoría del Producto\n",
            "0              Electrónicos\n",
            "1                   Muebles\n",
            "2                  Juguetes\n",
            "3         Electrodomésticos\n",
            "4                   Muebles\n",
            "...                     ...\n",
            "2354           Electrónicos\n",
            "2355           Electrónicos\n",
            "2356               Juguetes\n",
            "2357                Muebles\n",
            "2358           Electrónicos\n",
            "\n",
            "[2359 rows x 1 columns]\n"
          ]
        }
      ]
    },
    {
      "cell_type": "code",
      "source": [
        "categorizacion=tienda['Categoría del Producto'].unique()\n",
        "print(categorizacion)"
      ],
      "metadata": {
        "colab": {
          "base_uri": "https://localhost:8080/"
        },
        "id": "qaQ07CfYCQO0",
        "outputId": "6b7074e1-694d-4242-f9b9-823b9d58a949"
      },
      "execution_count": 42,
      "outputs": [
        {
          "output_type": "stream",
          "name": "stdout",
          "text": [
            "['Electrónicos' 'Muebles' 'Juguetes' 'Electrodomésticos'\n",
            " 'Artículos para el hogar' 'Deportes y diversión' 'Libros'\n",
            " 'Instrumentos musicales']\n"
          ]
        }
      ]
    },
    {
      "cell_type": "code",
      "source": [
        "#Tienda 1\n",
        "conteo_electronicos = tienda['Categoría del Producto'].value_counts()['Electrónicos']\n",
        "conteo_muebles = tienda['Categoría del Producto'].value_counts()['Muebles']\n",
        "conteo_juguetes = tienda['Categoría del Producto'].value_counts()['Juguetes']\n",
        "conteo_electrodomesticos = tienda['Categoría del Producto'].value_counts()['Electrodomésticos']\n",
        "conteo_hogar = tienda['Categoría del Producto'].value_counts()['Artículos para el hogar']\n",
        "conteo_deportes = tienda['Categoría del Producto'].value_counts()['Deportes y diversión']\n",
        "conteo_libros = tienda['Categoría del Producto'].value_counts()['Libros']\n",
        "conteo_instrumentos = tienda['Categoría del Producto'].value_counts()['Instrumentos musicales']\n",
        "print(conteo_electronicos,conteo_muebles,conteo_juguetes,conteo_electrodomesticos,conteo_hogar,conteo_deportes,conteo_libros,conteo_instrumentos)\n",
        "#Tienda 2\n",
        "conteo_electronicos2 = tienda2['Categoría del Producto'].value_counts()['Electrónicos']\n",
        "conteo_muebles2 = tienda2['Categoría del Producto'].value_counts()['Muebles']\n",
        "conteo_juguetes2 = tienda2['Categoría del Producto'].value_counts()['Juguetes']\n",
        "conteo_electrodomesticos2 = tienda2['Categoría del Producto'].value_counts()['Electrodomésticos']\n",
        "conteo_hogar2 = tienda2['Categoría del Producto'].value_counts()['Artículos para el hogar']\n",
        "conteo_deportes2 = tienda2['Categoría del Producto'].value_counts()['Deportes y diversión']\n",
        "conteo_libros2 = tienda2['Categoría del Producto'].value_counts()['Libros']\n",
        "conteo_instrumentos2 = tienda2['Categoría del Producto'].value_counts()['Instrumentos musicales']\n",
        "print(conteo_electronicos2,conteo_muebles2,conteo_juguetes2,conteo_electrodomesticos2,conteo_hogar2,conteo_deportes2,conteo_libros2,conteo_instrumentos2)\n",
        "#Tienda 3\n",
        "conteo_electronicos3 = tienda3['Categoría del Producto'].value_counts()['Electrónicos']\n",
        "conteo_muebles3 = tienda3['Categoría del Producto'].value_counts()['Muebles']\n",
        "conteo_juguetes3 = tienda3['Categoría del Producto'].value_counts()['Juguetes']\n",
        "conteo_electrodomesticos3 = tienda3['Categoría del Producto'].value_counts()['Electrodomésticos']\n",
        "conteo_hogar3 = tienda3['Categoría del Producto'].value_counts()['Artículos para el hogar']\n",
        "conteo_deportes3 = tienda3['Categoría del Producto'].value_counts()['Deportes y diversión']\n",
        "conteo_libros3 = tienda3['Categoría del Producto'].value_counts()['Libros']\n",
        "conteo_instrumentos3 = tienda3['Categoría del Producto'].value_counts()['Instrumentos musicales']\n",
        "print(conteo_electronicos3,conteo_muebles3,conteo_juguetes3,conteo_electrodomesticos3,conteo_hogar3,conteo_deportes3,conteo_libros3,conteo_instrumentos3)\n",
        "#Tienda 4\n",
        "conteo_electronicos4 = tienda4['Categoría del Producto'].value_counts()['Electrónicos']\n",
        "conteo_muebles4 = tienda4['Categoría del Producto'].value_counts()['Muebles']\n",
        "conteo_juguetes4 = tienda4['Categoría del Producto'].value_counts()['Juguetes']\n",
        "conteo_electrodomesticos4 = tienda4['Categoría del Producto'].value_counts()['Electrodomésticos']\n",
        "conteo_hogar4 = tienda4['Categoría del Producto'].value_counts()['Artículos para el hogar']\n",
        "conteo_deportes4 = tienda4['Categoría del Producto'].value_counts()['Deportes y diversión']\n",
        "conteo_libros4 = tienda4['Categoría del Producto'].value_counts()['Libros']\n",
        "conteo_instrumentos4 = tienda4['Categoría del Producto'].value_counts()['Instrumentos musicales']\n",
        "print(conteo_electronicos4,conteo_muebles4,conteo_juguetes4,conteo_electrodomesticos4,conteo_hogar4,conteo_deportes4,conteo_libros4,conteo_instrumentos4)\n",
        "\n"
      ],
      "metadata": {
        "colab": {
          "base_uri": "https://localhost:8080/"
        },
        "id": "8tY9vu3OO5Y-",
        "outputId": "b2ff5a0e-0076-4da3-9ad3-9a7195aba06b"
      },
      "execution_count": 43,
      "outputs": [
        {
          "output_type": "stream",
          "name": "stdout",
          "text": [
            "448 465 324 312 171 284 173 182\n",
            "422 442 313 305 181 275 197 224\n",
            "451 499 315 278 177 277 185 177\n",
            "451 480 338 254 201 277 187 170\n"
          ]
        }
      ]
    },
    {
      "cell_type": "code",
      "source": [
        "\n",
        "resultados_tienda1 = {'Electronicos': int(conteo_electronicos)\n",
        "                       ,'Muebles': int(conteo_muebles)\n",
        "                       ,'Juguetes': int(conteo_juguetes)\n",
        "                       ,'Electrodomesticos': int(conteo_electrodomesticos)\n",
        "                       ,'Articulos para el hogar': int(conteo_hogar)\n",
        "                       ,'Deportes y diversión': int(conteo_deportes)\n",
        "                       ,'Libros': int(conteo_libros)\n",
        "                       ,'Instrumentos musicales': int(conteo_instrumentos)\n",
        "\n",
        "                      }\n",
        "\n",
        "print(resultados_tienda1)\n",
        "\n",
        "#diccionario Tienda 2\n",
        "resultados_tienda2 = {'Electronicos': int(conteo_electronicos2)\n",
        "                       ,'Muebles': int(conteo_muebles2)\n",
        "                       ,'Juguetes': int(conteo_juguetes2)\n",
        "                       ,'Electrodomesticos': int(conteo_electrodomesticos2)\n",
        "                       ,'Articulos para el hogar': int(conteo_hogar2)\n",
        "                       ,'Deportes y diversión': int(conteo_deportes2)\n",
        "                       ,'Libros': int(conteo_libros2)\n",
        "                       ,'Instrumentos musicales': int(conteo_instrumentos2)\n",
        "\n",
        "                      }\n",
        "\n",
        "print(resultados_tienda2)\n",
        "\n",
        "#diccionario Tienda 3\n",
        "resultados_tienda3 = {'Electronicos': int(conteo_electronicos3)\n",
        "                       ,'Muebles': int(conteo_muebles3)\n",
        "                       ,'Juguetes': int(conteo_juguetes3)\n",
        "                       ,'Electrodomesticos': int(conteo_electrodomesticos3)\n",
        "                       ,'Articulos para el hogar': int(conteo_hogar3)\n",
        "                       ,'Deportes y diversión': int(conteo_deportes3)\n",
        "                       ,'Libros': int(conteo_libros3)\n",
        "                       ,'Instrumentos musicales': int(conteo_instrumentos3)\n",
        "\n",
        "                      }\n",
        "\n",
        "print(resultados_tienda3)\n",
        "\n",
        "#diccionario Tienda 4\n",
        "resultados_tienda4 = {'Electronicos': int(conteo_electronicos4)\n",
        "                       ,'Muebles': int(conteo_muebles4)\n",
        "                       ,'Juguetes': int(conteo_juguetes4)\n",
        "                       ,'Electrodomesticos': int(conteo_electrodomesticos4)\n",
        "                       ,'Articulos para el hogar': int(conteo_hogar4)\n",
        "                       ,'Deportes y diversión': int(conteo_deportes4)\n",
        "                       ,'Libros': int(conteo_libros4)\n",
        "                       ,'Instrumentos musicales': int(conteo_instrumentos4)\n",
        "\n",
        "                      }\n",
        "\n",
        "print(resultados_tienda4)\n",
        ""
      ],
      "metadata": {
        "colab": {
          "base_uri": "https://localhost:8080/"
        },
        "id": "5zDgExNuR5YV",
        "outputId": "d6aba421-4df7-455e-bf70-d381cce3405c"
      },
      "execution_count": 44,
      "outputs": [
        {
          "output_type": "stream",
          "name": "stdout",
          "text": [
            "{'Electronicos': 448, 'Muebles': 465, 'Juguetes': 324, 'Electrodomesticos': 312, 'Articulos para el hogar': 171, 'Deportes y diversión': 284, 'Libros': 173, 'Instrumentos musicales': 182}\n",
            "{'Electronicos': 422, 'Muebles': 442, 'Juguetes': 313, 'Electrodomesticos': 305, 'Articulos para el hogar': 181, 'Deportes y diversión': 275, 'Libros': 197, 'Instrumentos musicales': 224}\n",
            "{'Electronicos': 451, 'Muebles': 499, 'Juguetes': 315, 'Electrodomesticos': 278, 'Articulos para el hogar': 177, 'Deportes y diversión': 277, 'Libros': 185, 'Instrumentos musicales': 177}\n",
            "{'Electronicos': 451, 'Muebles': 480, 'Juguetes': 338, 'Electrodomesticos': 254, 'Articulos para el hogar': 201, 'Deportes y diversión': 277, 'Libros': 187, 'Instrumentos musicales': 170}\n"
          ]
        }
      ]
    },
    {
      "cell_type": "code",
      "source": [],
      "metadata": {
        "id": "SLhAGfLDFNzt"
      },
      "execution_count": 44,
      "outputs": []
    },
    {
      "cell_type": "code",
      "source": [],
      "metadata": {
        "id": "5C8NANniFOXW"
      },
      "execution_count": 44,
      "outputs": []
    },
    {
      "cell_type": "code",
      "source": [
        "\n",
        "producto_vendido1 = max(resultados_tienda1.values())\n",
        "producto_vendido2 = max(resultados_tienda2.values())\n",
        "producto_vendido3 = max(resultados_tienda3.values())\n",
        "producto_vendido4 = max(resultados_tienda4.values())\n",
        "\n",
        "# Encuentra el nombre del artículo correspondiente al valor máximo\n",
        "articulo_maximo = [articulo for articulo, conteo in resultados_tienda1.items() if conteo == producto_vendido1]\n",
        "articulo_maximo2 = [articulo for articulo, conteo in resultados_tienda2.items() if conteo == producto_vendido2]\n",
        "articulo_maximo3 = [articulo for articulo, conteo in resultados_tienda3.items() if conteo == producto_vendido3]\n",
        "articulo_maximo4 = [articulo for articulo, conteo in resultados_tienda4.items() if conteo == producto_vendido4]\n",
        "\n",
        "# Imprime el resultado\n",
        "resultado = f\"El artículo más vendido de la Tienda 1 es: {articulo_maximo[0]} con {producto_vendido1} unidades.\"\n",
        "print(resultado)\n",
        "resultado2 = f\"El artículo más vendido de la Tienda 2 es: {articulo_maximo2[0]} con {producto_vendido2} unidades.\"\n",
        "print(resultado2)\n",
        "resultado3 = f\"El artículo más vendido de la Tienda 3 es: {articulo_maximo3[0]} con {producto_vendido3} unidades.\"\n",
        "print(resultado3)\n",
        "resultado4 = f\"El artículo más vendido de la Tienda 4 es: {articulo_maximo4[0]} con {producto_vendido4} unidades.\"\n",
        "print(resultado4)"
      ],
      "metadata": {
        "colab": {
          "base_uri": "https://localhost:8080/"
        },
        "id": "fzk26obtcxlP",
        "outputId": "9c17b2b7-bba7-49eb-ecc1-7da59c8aad29"
      },
      "execution_count": 45,
      "outputs": [
        {
          "output_type": "stream",
          "name": "stdout",
          "text": [
            "El artículo más vendido de la Tienda 1 es: Muebles con 465 unidades.\n",
            "El artículo más vendido de la Tienda 2 es: Muebles con 442 unidades.\n",
            "El artículo más vendido de la Tienda 3 es: Muebles con 499 unidades.\n",
            "El artículo más vendido de la Tienda 4 es: Muebles con 480 unidades.\n"
          ]
        }
      ]
    },
    {
      "cell_type": "code",
      "source": [],
      "metadata": {
        "id": "9D5NRhs2TeOC"
      },
      "execution_count": 45,
      "outputs": []
    },
    {
      "cell_type": "markdown",
      "source": [
        "# 3. Calificación promedio de la tienda\n"
      ],
      "metadata": {
        "id": "Rq6tU_xSY3jk"
      }
    },
    {
      "cell_type": "code",
      "source": [
        "rating = tienda[['Calificación']]\n",
        "print(rating)"
      ],
      "metadata": {
        "id": "bh3jjjJwY5MU",
        "colab": {
          "base_uri": "https://localhost:8080/"
        },
        "outputId": "54308864-72ee-4bf2-e6c9-bf2e58cc73d1"
      },
      "execution_count": 46,
      "outputs": [
        {
          "output_type": "stream",
          "name": "stdout",
          "text": [
            "      Calificación\n",
            "0                4\n",
            "1                1\n",
            "2                1\n",
            "3                4\n",
            "4                5\n",
            "...            ...\n",
            "2354             1\n",
            "2355             5\n",
            "2356             5\n",
            "2357             1\n",
            "2358             4\n",
            "\n",
            "[2359 rows x 1 columns]\n"
          ]
        }
      ]
    },
    {
      "cell_type": "code",
      "source": [
        "sumatoria_calificacion = len(tienda['Calificación'])\n",
        "print(sumatoria_calificacion)\n"
      ],
      "metadata": {
        "id": "I0KkjPoTY88F",
        "colab": {
          "base_uri": "https://localhost:8080/"
        },
        "outputId": "1bc4791b-3de6-4a68-b4f4-b3054e07b792"
      },
      "execution_count": 47,
      "outputs": [
        {
          "output_type": "stream",
          "name": "stdout",
          "text": [
            "2359\n"
          ]
        }
      ]
    },
    {
      "cell_type": "code",
      "source": [
        "#Tienda 1\n",
        "calific_tienda1 = tienda['Calificación'].sum()\n",
        "print(calific_tienda1)\n",
        "\n",
        "#Tienda 2\n",
        "calific_tienda2 = tienda2['Calificación'].sum()\n",
        "print(calific_tienda2)\n",
        "\n",
        "#Tienda 3\n",
        "calific_tienda3 = tienda3['Calificación'].sum()\n",
        "print(calific_tienda3)\n",
        "\n",
        "#Tienda 4\n",
        "calific_tienda4 = tienda4['Calificación'].sum()\n",
        "print(calific_tienda4)"
      ],
      "metadata": {
        "colab": {
          "base_uri": "https://localhost:8080/"
        },
        "id": "pLPo-5nkpQyX",
        "outputId": "f630f8f8-b690-4b27-de74-0b13681dbf6b"
      },
      "execution_count": 48,
      "outputs": [
        {
          "output_type": "stream",
          "name": "stdout",
          "text": [
            "9381\n",
            "9524\n",
            "9550\n",
            "9422\n"
          ]
        }
      ]
    },
    {
      "cell_type": "code",
      "source": [
        "#promedio de los clientes Tienda 1\n",
        "promedio_tienda1=(calific_tienda1/len(tienda['Calificación']))\n",
        "print('La calificacion promedio en la Tienda 1 es de: ', promedio_tienda1)\n",
        "\n",
        "#promedio de los clientes Tienda 2\n",
        "promedio_tienda2=(calific_tienda2/len(tienda2['Calificación']))\n",
        "print('La calificacion promedio en la Tienda 2 es de: ', promedio_tienda2)\n",
        "\n",
        "#promedio de los clientes Tienda 3\n",
        "promedio_tienda3=(calific_tienda3/len(tienda3['Calificación']))\n",
        "print('La calificacion promedio en la Tienda 3 es de: ', promedio_tienda3)\n",
        "\n",
        "#promedio de los clientes Tienda 4\n",
        "promedio_tienda4=(calific_tienda4/len(tienda4['Calificación']))\n",
        "print('La calificacion promedio en la Tienda 4 es de: ', promedio_tienda4)"
      ],
      "metadata": {
        "colab": {
          "base_uri": "https://localhost:8080/"
        },
        "id": "IyhJcClEpQ1y",
        "outputId": "9c46eada-2f1a-4f80-8cbe-b11b272e1bf5"
      },
      "execution_count": 49,
      "outputs": [
        {
          "output_type": "stream",
          "name": "stdout",
          "text": [
            "La calificacion promedio en la Tienda 1 es de:  3.976685036032217\n",
            "La calificacion promedio en la Tienda 2 es de:  4.037303942348453\n",
            "La calificacion promedio en la Tienda 3 es de:  4.048325561678677\n",
            "La calificacion promedio en la Tienda 4 es de:  3.9957591178965224\n"
          ]
        }
      ]
    },
    {
      "cell_type": "code",
      "source": [],
      "metadata": {
        "id": "z6vmjTUdpQ93"
      },
      "execution_count": 49,
      "outputs": []
    },
    {
      "cell_type": "markdown",
      "source": [
        "# 4. Productos más y menos vendidos"
      ],
      "metadata": {
        "id": "DmNp1KPBZCm-"
      }
    },
    {
      "cell_type": "code",
      "source": [
        "print(resultados_tienda1)"
      ],
      "metadata": {
        "id": "qoyjqijQZHfF",
        "colab": {
          "base_uri": "https://localhost:8080/"
        },
        "outputId": "44bc96a6-3b4a-4f78-f432-1384f421d21d"
      },
      "execution_count": 50,
      "outputs": [
        {
          "output_type": "stream",
          "name": "stdout",
          "text": [
            "{'Electronicos': 448, 'Muebles': 465, 'Juguetes': 324, 'Electrodomesticos': 312, 'Articulos para el hogar': 171, 'Deportes y diversión': 284, 'Libros': 173, 'Instrumentos musicales': 182}\n"
          ]
        }
      ]
    },
    {
      "cell_type": "code",
      "source": [
        "productos_populares = tienda[['Producto']]\n",
        "print(productos_populares)"
      ],
      "metadata": {
        "colab": {
          "base_uri": "https://localhost:8080/"
        },
        "id": "gQsh2cRJEDwM",
        "outputId": "cbd372eb-8d4e-4471-f543-54f0239f0e15"
      },
      "execution_count": 51,
      "outputs": [
        {
          "output_type": "stream",
          "name": "stdout",
          "text": [
            "               Producto\n",
            "0     Asistente virtual\n",
            "1       Mesa de comedor\n",
            "2         Juego de mesa\n",
            "3            Microondas\n",
            "4      Silla de oficina\n",
            "...                 ...\n",
            "2354          Iphone 15\n",
            "2355          Impresora\n",
            "2356      Juego de mesa\n",
            "2357           Cama box\n",
            "2358         Smartwatch\n",
            "\n",
            "[2359 rows x 1 columns]\n"
          ]
        }
      ]
    },
    {
      "cell_type": "code",
      "source": [
        "productos_tienda=tienda['Producto'].unique()\n",
        "print(productos_tienda)"
      ],
      "metadata": {
        "colab": {
          "base_uri": "https://localhost:8080/"
        },
        "id": "rbdG57EvED8h",
        "outputId": "b06e94d1-94b9-4665-c0a6-a2e2b773eb00"
      },
      "execution_count": 52,
      "outputs": [
        {
          "output_type": "stream",
          "name": "stdout",
          "text": [
            "['Asistente virtual' 'Mesa de comedor' 'Juego de mesa' 'Microondas'\n",
            " 'Silla de oficina' 'Bloques de construcción' 'Muñeca bebé' 'Lavavajillas'\n",
            " 'Lavadora de ropa' 'Carrito de control remoto' 'Refrigerador'\n",
            " 'Auriculares' 'Olla de presión' 'Bicicleta' 'Ciencia de datos con Python'\n",
            " 'Balón de voleibol' 'Ajedrez de madera' 'TV LED UHD 4K' 'Vaso térmico'\n",
            " 'Kit de bancas' 'Dashboards con Power BI' 'Cubertería' 'Set de ollas'\n",
            " 'Batería' 'Cuerda para saltar' 'Estufa' 'Cama box' 'Impresora'\n",
            " 'Mesa de noche' 'Armario' 'Dinosaurio Rex' 'Guitarra eléctrica'\n",
            " 'Secadora de ropa' 'Sofá reclinable' 'Tablet ABXY' 'Cubo mágico 8x8'\n",
            " 'Set de vasos' 'Modelado predictivo' 'Iphone 15' 'Mochila'\n",
            " 'Balón de baloncesto' 'Auriculares con micrófono' 'Sillón'\n",
            " 'Guitarra acústica' 'Iniciando en programación' 'Celular ABXY'\n",
            " 'Smartwatch' 'Mesa de centro' 'Cama king' 'Smart TV' 'Pandereta']\n"
          ]
        }
      ]
    },
    {
      "cell_type": "code",
      "source": [
        "conteo_productos=tienda['Producto'].value_counts()\n",
        "lista_conteo_productos=list(conteo_productos)\n",
        "lista_nombres_conteo=list(conteo_productos.index)\n",
        "for x in range(len(lista_nombres_conteo)):\n",
        "    print(lista_nombres_conteo[x], lista_conteo_productos[x])\n",
        "\n",
        "\n"
      ],
      "metadata": {
        "colab": {
          "base_uri": "https://localhost:8080/"
        },
        "id": "sC45HDAfEEBo",
        "outputId": "e11844f9-8d67-4d30-e5a2-4f5f7d333151"
      },
      "execution_count": 84,
      "outputs": [
        {
          "output_type": "stream",
          "name": "stdout",
          "text": [
            "Microondas 60\n",
            "TV LED UHD 4K 60\n",
            "Armario 60\n",
            "Secadora de ropa 58\n",
            "Mesa de noche 56\n",
            "Bloques de construcción 56\n",
            "Balón de baloncesto 55\n",
            "Bicicleta 54\n",
            "Vaso térmico 54\n",
            "Refrigerador 54\n",
            "Impresora 54\n",
            "Batería 53\n",
            "Cubertería 52\n",
            "Carrito de control remoto 52\n",
            "Modelado predictivo 51\n",
            "Auriculares 50\n",
            "Ajedrez de madera 49\n",
            "Iphone 15 49\n",
            "Lavavajillas 48\n",
            "Lavadora de ropa 47\n",
            "Guitarra eléctrica 47\n",
            "Guitarra acústica 46\n",
            "Sofá reclinable 46\n",
            "Silla de oficina 46\n",
            "Estufa 45\n",
            "Cama box 44\n",
            "Kit de bancas 44\n",
            "Smart TV 44\n",
            "Cama king 44\n",
            "Cubo mágico 8x8 44\n",
            "Mesa de centro 44\n",
            "Set de ollas 43\n",
            "Smartwatch 43\n",
            "Juego de mesa 43\n",
            "Balón de voleibol 42\n",
            "Dashboards con Power BI 42\n",
            "Tablet ABXY 42\n",
            "Sillón 41\n",
            "Iniciando en programación 41\n",
            "Set de vasos 41\n",
            "Asistente virtual 40\n",
            "Muñeca bebé 40\n",
            "Mesa de comedor 40\n",
            "Dinosaurio Rex 40\n",
            "Cuerda para saltar 40\n",
            "Mochila 39\n",
            "Ciencia de datos con Python 39\n",
            "Pandereta 36\n",
            "Olla de presión 35\n",
            "Auriculares con micrófono 33\n",
            "Celular ABXY 33\n"
          ]
        }
      ]
    },
    {
      "cell_type": "code",
      "source": [
        "conteo_productos2 = tienda2['Producto'].value_counts()\n",
        "lista_conteo_productos2 = list(conteo_productos2)\n",
        "lista_nombres_conteo2 = list(conteo_productos2.index)\n",
        "for x in range(len(lista_nombres_conteo2)):\n",
        "    print(lista_nombres_conteo2[x], lista_conteo_productos2[x])"
      ],
      "metadata": {
        "colab": {
          "base_uri": "https://localhost:8080/"
        },
        "id": "n8Lc_JqKlB2q",
        "outputId": "9f2b1007-d1a1-459c-daed-059d3ef2ac97"
      },
      "execution_count": 96,
      "outputs": [
        {
          "output_type": "stream",
          "name": "stdout",
          "text": [
            "Iniciando en programación 65\n",
            "Microondas 62\n",
            "Batería 61\n",
            "Guitarra acústica 58\n",
            "Pandereta 58\n",
            "Secadora de ropa 57\n",
            "Iphone 15 55\n",
            "Bloques de construcción 54\n",
            "Armario 54\n",
            "Set de ollas 52\n",
            "Cuerda para saltar 50\n",
            "Lavadora de ropa 49\n",
            "Silla de oficina 49\n",
            "Refrigerador 49\n",
            "Muñeca bebé 48\n",
            "Carrito de control remoto 47\n",
            "Guitarra eléctrica 47\n",
            "Cama box 47\n",
            "Vaso térmico 47\n",
            "Modelado predictivo 46\n",
            "Balón de voleibol 46\n",
            "Set de vasos 46\n",
            "Lavavajillas 46\n",
            "Kit de bancas 45\n",
            "Cama king 45\n",
            "Bicicleta 45\n",
            "Mochila 45\n",
            "Cubo mágico 8x8 45\n",
            "Ajedrez de madera 45\n",
            "Mesa de centro 45\n",
            "TV LED UHD 4K 45\n",
            "Tablet ABXY 44\n",
            "Smartwatch 44\n",
            "Mesa de noche 44\n",
            "Olla de presión 44\n",
            "Auriculares con micrófono 44\n",
            "Sofá reclinable 44\n",
            "Dashboards con Power BI 43\n",
            "Ciencia de datos con Python 43\n",
            "Balón de baloncesto 42\n",
            "Estufa 42\n",
            "Dinosaurio Rex 42\n",
            "Celular ABXY 41\n",
            "Smart TV 40\n",
            "Cubertería 39\n",
            "Asistente virtual 38\n",
            "Auriculares 37\n",
            "Sillón 35\n",
            "Mesa de comedor 34\n",
            "Impresora 34\n",
            "Juego de mesa 32\n"
          ]
        }
      ]
    },
    {
      "cell_type": "code",
      "source": [
        "conteo_productos3 = tienda3['Producto'].value_counts()\n",
        "lista_conteo_productos3 = list(conteo_productos3)\n",
        "lista_nombres_conteo3 = list(conteo_productos3.index)\n",
        "for x in range(len(lista_nombres_conteo3)):\n",
        "    print(lista_nombres_conteo3[x], lista_conteo_productos3[x])"
      ],
      "metadata": {
        "colab": {
          "base_uri": "https://localhost:8080/"
        },
        "id": "3gSDmn5glW-E",
        "outputId": "72348a39-d08c-42b7-9d4b-b665e888ae5f"
      },
      "execution_count": 97,
      "outputs": [
        {
          "output_type": "stream",
          "name": "stdout",
          "text": [
            "Kit de bancas 57\n",
            "Mesa de comedor 56\n",
            "Cama king 56\n",
            "Set de ollas 55\n",
            "Mesa de noche 55\n",
            "Smart TV 54\n",
            "Estufa 53\n",
            "Cuerda para saltar 53\n",
            "Modelado predictivo 53\n",
            "Carrito de control remoto 52\n",
            "Lavavajillas 52\n",
            "Bicicleta 52\n",
            "Juego de mesa 52\n",
            "Pandereta 51\n",
            "Impresora 50\n",
            "Refrigerador 50\n",
            "Balón de baloncesto 50\n",
            "Armario 49\n",
            "Balón de voleibol 48\n",
            "Tablet ABXY 48\n",
            "Sillón 47\n",
            "Guitarra acústica 47\n",
            "Olla de presión 47\n",
            "Ajedrez de madera 47\n",
            "Ciencia de datos con Python 46\n",
            "Iphone 15 46\n",
            "Dinosaurio Rex 46\n",
            "Silla de oficina 46\n",
            "Smartwatch 46\n",
            "Cama box 46\n",
            "Iniciando en programación 46\n",
            "Secadora de ropa 45\n",
            "Sofá reclinable 45\n",
            "Celular ABXY 44\n",
            "Cubo mágico 8x8 44\n",
            "Auriculares 43\n",
            "TV LED UHD 4K 42\n",
            "Mesa de centro 42\n",
            "Lavadora de ropa 42\n",
            "Batería 41\n",
            "Dashboards con Power BI 40\n",
            "Cubertería 39\n",
            "Muñeca bebé 39\n",
            "Auriculares con micrófono 39\n",
            "Asistente virtual 39\n",
            "Vaso térmico 38\n",
            "Guitarra eléctrica 38\n",
            "Set de vasos 36\n",
            "Mochila 36\n",
            "Microondas 36\n",
            "Bloques de construcción 35\n"
          ]
        }
      ]
    },
    {
      "cell_type": "code",
      "source": [
        "conteo_productos4 = tienda4['Producto'].value_counts()\n",
        "lista_conteo_productos4 = list(conteo_productos4)\n",
        "lista_nombres_conteo4 = list(conteo_productos4.index)\n",
        "for x in range(len(lista_nombres_conteo4)):\n",
        "    print(lista_nombres_conteo4[x], lista_conteo_productos4[x])"
      ],
      "metadata": {
        "colab": {
          "base_uri": "https://localhost:8080/"
        },
        "id": "jMrdIrPJlgdG",
        "outputId": "969d96cc-0296-47b8-e453-e59524224646"
      },
      "execution_count": 98,
      "outputs": [
        {
          "output_type": "stream",
          "name": "stdout",
          "text": [
            "Cama box 62\n",
            "Cubertería 59\n",
            "Dashboards con Power BI 56\n",
            "Cama king 56\n",
            "Carrito de control remoto 55\n",
            "Mesa de comedor 55\n",
            "Mesa de noche 55\n",
            "Smart TV 54\n",
            "Bloques de construcción 54\n",
            "Pandereta 52\n",
            "Impresora 50\n",
            "Modelado predictivo 50\n",
            "Asistente virtual 50\n",
            "Set de ollas 50\n",
            "Balón de baloncesto 50\n",
            "Vaso térmico 48\n",
            "Iphone 15 48\n",
            "Muñeca bebé 48\n",
            "Batería 48\n",
            "Balón de voleibol 48\n",
            "Juego de mesa 48\n",
            "Microondas 48\n",
            "Estufa 47\n",
            "Cubo mágico 8x8 47\n",
            "Sofá reclinable 47\n",
            "Dinosaurio Rex 47\n",
            "Olla de presión 46\n",
            "Set de vasos 46\n",
            "Tablet ABXY 45\n",
            "Sillón 45\n",
            "Bicicleta 45\n",
            "Mesa de centro 44\n",
            "Auriculares 44\n",
            "Lavavajillas 43\n",
            "Cuerda para saltar 43\n",
            "Iniciando en programación 43\n",
            "Mochila 43\n",
            "Auriculares con micrófono 42\n",
            "Kit de bancas 42\n",
            "TV LED UHD 4K 40\n",
            "Secadora de ropa 40\n",
            "Silla de oficina 40\n",
            "Celular ABXY 39\n",
            "Ajedrez de madera 39\n",
            "Smartwatch 39\n",
            "Lavadora de ropa 38\n",
            "Refrigerador 38\n",
            "Ciencia de datos con Python 38\n",
            "Guitarra acústica 37\n",
            "Armario 34\n",
            "Guitarra eléctrica 33\n"
          ]
        }
      ]
    },
    {
      "cell_type": "code",
      "source": [
        "productos_repetidos={\n",
        "    'Producto': lista_nombres_conteo,\n",
        "    'Cantidad': lista_conteo_productos\n",
        "}\n",
        "lista_productos_repetidos = pd.DataFrame(productos_repetidos)\n",
        "print(lista_productos_repetidos)\n",
        "#imprimir el maximo vendido\n",
        "\n",
        "producto_mas_vendido = lista_productos_repetidos['Cantidad'].max()\n",
        "#condicion para ver valores repetidos\n",
        "if producto_mas_vendido > 1:\n",
        "   print('El producto más vendido es: ', producto_mas_vendido)\n",
        "   print('El producto menos vendido es: ', lista_productos_repetidos['Cantidad'].min())\n",
        "\n",
        "producto_menos_vendido = lista_productos_repetidos['Cantidad'].min()\n",
        "\n"
      ],
      "metadata": {
        "colab": {
          "base_uri": "https://localhost:8080/"
        },
        "id": "nENBoQgAxZk0",
        "outputId": "19effca0-05be-4a54-a4b3-ee0f008aa159"
      },
      "execution_count": 108,
      "outputs": [
        {
          "output_type": "stream",
          "name": "stdout",
          "text": [
            "                       Producto  Cantidad\n",
            "0                    Microondas        60\n",
            "1                 TV LED UHD 4K        60\n",
            "2                       Armario        60\n",
            "3              Secadora de ropa        58\n",
            "4                 Mesa de noche        56\n",
            "5       Bloques de construcción        56\n",
            "6           Balón de baloncesto        55\n",
            "7                     Bicicleta        54\n",
            "8                  Vaso térmico        54\n",
            "9                  Refrigerador        54\n",
            "10                    Impresora        54\n",
            "11                      Batería        53\n",
            "12                   Cubertería        52\n",
            "13    Carrito de control remoto        52\n",
            "14          Modelado predictivo        51\n",
            "15                  Auriculares        50\n",
            "16            Ajedrez de madera        49\n",
            "17                    Iphone 15        49\n",
            "18                 Lavavajillas        48\n",
            "19             Lavadora de ropa        47\n",
            "20           Guitarra eléctrica        47\n",
            "21            Guitarra acústica        46\n",
            "22              Sofá reclinable        46\n",
            "23             Silla de oficina        46\n",
            "24                       Estufa        45\n",
            "25                     Cama box        44\n",
            "26                Kit de bancas        44\n",
            "27                     Smart TV        44\n",
            "28                    Cama king        44\n",
            "29              Cubo mágico 8x8        44\n",
            "30               Mesa de centro        44\n",
            "31                 Set de ollas        43\n",
            "32                   Smartwatch        43\n",
            "33                Juego de mesa        43\n",
            "34            Balón de voleibol        42\n",
            "35      Dashboards con Power BI        42\n",
            "36                  Tablet ABXY        42\n",
            "37                       Sillón        41\n",
            "38    Iniciando en programación        41\n",
            "39                 Set de vasos        41\n",
            "40            Asistente virtual        40\n",
            "41                  Muñeca bebé        40\n",
            "42              Mesa de comedor        40\n",
            "43               Dinosaurio Rex        40\n",
            "44           Cuerda para saltar        40\n",
            "45                      Mochila        39\n",
            "46  Ciencia de datos con Python        39\n",
            "47                    Pandereta        36\n",
            "48              Olla de presión        35\n",
            "49    Auriculares con micrófono        33\n",
            "50                 Celular ABXY        33\n",
            "El producto más vendido es:  60\n",
            "El producto menos vendido es:  33\n"
          ]
        }
      ]
    },
    {
      "cell_type": "code",
      "source": [],
      "metadata": {
        "id": "AYcerESGoBIW"
      },
      "execution_count": null,
      "outputs": []
    },
    {
      "cell_type": "code",
      "source": [
        "#Tienda 1\n",
        "print('Resultados del analisis en Tienda 1: ')\n",
        "for articulo, conteo in resultados_tienda1.items():\n",
        "    print(f\"{articulo}: {conteo} unidades\")\n",
        "print(\"\"\" \"\"\")\n",
        "\n",
        "#Tienda 2\n",
        "print('Resultados del analisis en Tienda 2: ')\n",
        "for articulo, conteo in resultados_tienda2.items():\n",
        "    print(f\"{articulo}: {conteo} unidades\")\n",
        "print(\"\"\" \"\"\")\n",
        "\n",
        "#Tienda 3\n",
        "print('Resultados del analisis en Tienda 3: ')\n",
        "for articulo, conteo in resultados_tienda3.items():\n",
        "    print(f\"{articulo}: {conteo} unidades\")\n",
        "print(\"\"\" \"\"\")\n",
        "\n",
        "#Tienda 4\n",
        "print('Resultados del analisis en Tienda 4: ')\n",
        "for articulo, conteo in resultados_tienda4.items():\n",
        "    print(f\"{articulo}: {conteo} unidades\")\n",
        "print(\"\"\" \"\"\")"
      ],
      "metadata": {
        "colab": {
          "base_uri": "https://localhost:8080/"
        },
        "id": "Wo8yKd64t9wR",
        "outputId": "0217186c-6c93-4dcd-eefd-03e51f1be4c9"
      },
      "execution_count": 56,
      "outputs": [
        {
          "output_type": "stream",
          "name": "stdout",
          "text": [
            "Resultados del analisis en Tienda 1: \n",
            "Electronicos: 448 unidades\n",
            "Muebles: 465 unidades\n",
            "Juguetes: 324 unidades\n",
            "Electrodomesticos: 312 unidades\n",
            "Articulos para el hogar: 171 unidades\n",
            "Deportes y diversión: 284 unidades\n",
            "Libros: 173 unidades\n",
            "Instrumentos musicales: 182 unidades\n",
            " \n",
            "Resultados del analisis en Tienda 2: \n",
            "Electronicos: 422 unidades\n",
            "Muebles: 442 unidades\n",
            "Juguetes: 313 unidades\n",
            "Electrodomesticos: 305 unidades\n",
            "Articulos para el hogar: 181 unidades\n",
            "Deportes y diversión: 275 unidades\n",
            "Libros: 197 unidades\n",
            "Instrumentos musicales: 224 unidades\n",
            " \n",
            "Resultados del analisis en Tienda 3: \n",
            "Electronicos: 451 unidades\n",
            "Muebles: 499 unidades\n",
            "Juguetes: 315 unidades\n",
            "Electrodomesticos: 278 unidades\n",
            "Articulos para el hogar: 177 unidades\n",
            "Deportes y diversión: 277 unidades\n",
            "Libros: 185 unidades\n",
            "Instrumentos musicales: 177 unidades\n",
            " \n",
            "Resultados del analisis en Tienda 4: \n",
            "Electronicos: 451 unidades\n",
            "Muebles: 480 unidades\n",
            "Juguetes: 338 unidades\n",
            "Electrodomesticos: 254 unidades\n",
            "Articulos para el hogar: 201 unidades\n",
            "Deportes y diversión: 277 unidades\n",
            "Libros: 187 unidades\n",
            "Instrumentos musicales: 170 unidades\n",
            " \n"
          ]
        }
      ]
    },
    {
      "cell_type": "code",
      "source": [
        "import matplotlib.pyplot as plt"
      ],
      "metadata": {
        "id": "MLrYKIfe2mmI"
      },
      "execution_count": 57,
      "outputs": []
    },
    {
      "cell_type": "code",
      "source": [
        "#graficar los valores de las categorias tienda 1\n",
        "plt.bar(resultados_tienda1.keys(), resultados_tienda1.values(), color='skyblue')\n",
        "plt.xlabel('Categoria', fontsize=10)\n",
        "plt.ylabel('Cantidad Vendida')\n",
        "plt.title('Artículos más Vendidos en la Tienda 1')\n",
        "plt.setp(plt.gca().get_xticklabels(), rotation=90)\n",
        "plt.savefig('grafico_tienda1.png')\n",
        "plt.show()\n"
      ],
      "metadata": {
        "colab": {
          "base_uri": "https://localhost:8080/",
          "height": 623
        },
        "id": "UAKC7ahD2mzM",
        "outputId": "09e75bec-3a28-4389-b1d5-334f8964806f"
      },
      "execution_count": 58,
      "outputs": [
        {
          "output_type": "display_data",
          "data": {
            "text/plain": [
              "<Figure size 640x480 with 1 Axes>"
            ],
            "image/png": "[encoded data removed]"
          },
          "metadata": {}
        }
      ]
    },
    {
      "cell_type": "code",
      "source": [
        "from google.colab import files\n",
        "files.download('grafico_tienda1.png')"
      ],
      "metadata": {
        "colab": {
          "base_uri": "https://localhost:8080/",
          "height": 17
        },
        "id": "zKh3TQJT2rDI",
        "outputId": "dbd25155-b1dd-4abf-bfe3-cd968769ace0"
      },
      "execution_count": 59,
      "outputs": [
        {
          "output_type": "display_data",
          "data": {
            "text/plain": [
              "<IPython.core.display.Javascript object>"
            ],
            "application/javascript": [
              "\n",
              "    async function download(id, filename, size) {\n",
              "      if (!google.colab.kernel.accessAllowed) {\n",
              "        return;\n",
              "      }\n",
              "      const div = document.createElement('div');\n",
              "      const label = document.createElement('label');\n",
              "      label.textContent = `Downloading \"${filename}\": `;\n",
              "      div.appendChild(label);\n",
              "      const progress = document.createElement('progress');\n",
              "      progress.max = size;\n",
              "      div.appendChild(progress);\n",
              "      document.body.appendChild(div);\n",
              "\n",
              "      const buffers = [];\n",
              "      let downloaded = 0;\n",
              "\n",
              "      const channel = await google.colab.kernel.comms.open(id);\n",
              "      // Send a message to notify the kernel that we're ready.\n",
              "      channel.send({})\n",
              "\n",
              "      for await (const message of channel.messages) {\n",
              "        // Send a message to notify the kernel that we're ready.\n",
              "        channel.send({})\n",
              "        if (message.buffers) {\n",
              "          for (const buffer of message.buffers) {\n",
              "            buffers.push(buffer);\n",
              "            downloaded += buffer.byteLength;\n",
              "            progress.value = downloaded;\n",
              "          }\n",
              "        }\n",
              "      }\n",
              "      const blob = new Blob(buffers, {type: 'application/binary'});\n",
              "      const a = document.createElement('a');\n",
              "      a.href = window.URL.createObjectURL(blob);\n",
              "      a.download = filename;\n",
              "      div.appendChild(a);\n",
              "      a.click();\n",
              "      div.remove();\n",
              "    }\n",
              "  "
            ]
          },
          "metadata": {}
        },
        {
          "output_type": "display_data",
          "data": {
            "text/plain": [
              "<IPython.core.display.Javascript object>"
            ],
            "application/javascript": [
              "download(\"download_271d085f-2172-4e52-9801-529f8920e953\", \"grafico_tienda1.png\", 21402)"
            ]
          },
          "metadata": {}
        }
      ]
    },
    {
      "cell_type": "code",
      "source": [
        "#graficar los valores de las categorias tienda 2\n",
        "plt.bar(resultados_tienda2.keys(), resultados_tienda2.values(), color='magenta')\n",
        "plt.xlabel('Categoria', fontsize=10)\n",
        "plt.ylabel('Cantidad Vendida')\n",
        "plt.title('Artículos más Vendidos en la Tienda 2')\n",
        "plt.setp(plt.gca().get_xticklabels(), rotation=90)\n",
        "plt.savefig('grafico_tienda2.png')\n",
        "plt.show()"
      ],
      "metadata": {
        "colab": {
          "base_uri": "https://localhost:8080/",
          "height": 623
        },
        "id": "NsjUNv4L3nPI",
        "outputId": "3b099e85-d461-43e3-c63f-1467f2c750f5"
      },
      "execution_count": 60,
      "outputs": [
        {
          "output_type": "display_data",
          "data": {
            "text/plain": [
              "<Figure size 640x480 with 1 Axes>"
            ],
            "image/png": "[encoded data removed]"
          },
          "metadata": {}
        }
      ]
    },
    {
      "cell_type": "code",
      "source": [
        "from google.colab import files\n",
        "files.download('grafico_tienda2.png')"
      ],
      "metadata": {
        "colab": {
          "base_uri": "https://localhost:8080/",
          "height": 17
        },
        "id": "LUBkXkA33qYF",
        "outputId": "911e3486-f011-45b4-8eac-848d96207709"
      },
      "execution_count": 61,
      "outputs": [
        {
          "output_type": "display_data",
          "data": {
            "text/plain": [
              "<IPython.core.display.Javascript object>"
            ],
            "application/javascript": [
              "\n",
              "    async function download(id, filename, size) {\n",
              "      if (!google.colab.kernel.accessAllowed) {\n",
              "        return;\n",
              "      }\n",
              "      const div = document.createElement('div');\n",
              "      const label = document.createElement('label');\n",
              "      label.textContent = `Downloading \"${filename}\": `;\n",
              "      div.appendChild(label);\n",
              "      const progress = document.createElement('progress');\n",
              "      progress.max = size;\n",
              "      div.appendChild(progress);\n",
              "      document.body.appendChild(div);\n",
              "\n",
              "      const buffers = [];\n",
              "      let downloaded = 0;\n",
              "\n",
              "      const channel = await google.colab.kernel.comms.open(id);\n",
              "      // Send a message to notify the kernel that we're ready.\n",
              "      channel.send({})\n",
              "\n",
              "      for await (const message of channel.messages) {\n",
              "        // Send a message to notify the kernel that we're ready.\n",
              "        channel.send({})\n",
              "        if (message.buffers) {\n",
              "          for (const buffer of message.buffers) {\n",
              "            buffers.push(buffer);\n",
              "            downloaded += buffer.byteLength;\n",
              "            progress.value = downloaded;\n",
              "          }\n",
              "        }\n",
              "      }\n",
              "      const blob = new Blob(buffers, {type: 'application/binary'});\n",
              "      const a = document.createElement('a');\n",
              "      a.href = window.URL.createObjectURL(blob);\n",
              "      a.download = filename;\n",
              "      div.appendChild(a);\n",
              "      a.click();\n",
              "      div.remove();\n",
              "    }\n",
              "  "
            ]
          },
          "metadata": {}
        },
        {
          "output_type": "display_data",
          "data": {
            "text/plain": [
              "<IPython.core.display.Javascript object>"
            ],
            "application/javascript": [
              "download(\"download_189c988d-0c38-4492-a017-c6197b9ba850\", \"grafico_tienda2.png\", 21868)"
            ]
          },
          "metadata": {}
        }
      ]
    },
    {
      "cell_type": "code",
      "source": [
        "\n",
        "#graficar los valores de las categorias tienda 3\n",
        "plt.bar(resultados_tienda3.keys(), resultados_tienda3.values(), color='lime')\n",
        "plt.xlabel('Categoria', fontsize=10)\n",
        "plt.ylabel('Cantidad Vendida')\n",
        "plt.title('Artículos más Vendidos en la Tienda 3')\n",
        "plt.setp(plt.gca().get_xticklabels(), rotation=90)\n",
        "plt.savefig('grafico_tienda3.png')\n",
        "plt.show()"
      ],
      "metadata": {
        "colab": {
          "base_uri": "https://localhost:8080/",
          "height": 623
        },
        "id": "o4hnpi6Y3q2F",
        "outputId": "1395840a-2d9d-4a7b-84b7-ed10fb8bfc23"
      },
      "execution_count": 62,
      "outputs": [
        {
          "output_type": "display_data",
          "data": {
            "text/plain": [
              "<Figure size 640x480 with 1 Axes>"
            ],
            "image/png": "[encoded data removed]"
          },
          "metadata": {}
        }
      ]
    },
    {
      "cell_type": "code",
      "source": [
        "from google.colab import files\n",
        "files.download('grafico_tienda3.png')"
      ],
      "metadata": {
        "colab": {
          "base_uri": "https://localhost:8080/",
          "height": 17
        },
        "id": "Dn0s2Jho3q-n",
        "outputId": "17bc4eec-bb2d-488c-b89a-61d0c659e650"
      },
      "execution_count": 63,
      "outputs": [
        {
          "output_type": "display_data",
          "data": {
            "text/plain": [
              "<IPython.core.display.Javascript object>"
            ],
            "application/javascript": [
              "\n",
              "    async function download(id, filename, size) {\n",
              "      if (!google.colab.kernel.accessAllowed) {\n",
              "        return;\n",
              "      }\n",
              "      const div = document.createElement('div');\n",
              "      const label = document.createElement('label');\n",
              "      label.textContent = `Downloading \"${filename}\": `;\n",
              "      div.appendChild(label);\n",
              "      const progress = document.createElement('progress');\n",
              "      progress.max = size;\n",
              "      div.appendChild(progress);\n",
              "      document.body.appendChild(div);\n",
              "\n",
              "      const buffers = [];\n",
              "      let downloaded = 0;\n",
              "\n",
              "      const channel = await google.colab.kernel.comms.open(id);\n",
              "      // Send a message to notify the kernel that we're ready.\n",
              "      channel.send({})\n",
              "\n",
              "      for await (const message of channel.messages) {\n",
              "        // Send a message to notify the kernel that we're ready.\n",
              "        channel.send({})\n",
              "        if (message.buffers) {\n",
              "          for (const buffer of message.buffers) {\n",
              "            buffers.push(buffer);\n",
              "            downloaded += buffer.byteLength;\n",
              "            progress.value = downloaded;\n",
              "          }\n",
              "        }\n",
              "      }\n",
              "      const blob = new Blob(buffers, {type: 'application/binary'});\n",
              "      const a = document.createElement('a');\n",
              "      a.href = window.URL.createObjectURL(blob);\n",
              "      a.download = filename;\n",
              "      div.appendChild(a);\n",
              "      a.click();\n",
              "      div.remove();\n",
              "    }\n",
              "  "
            ]
          },
          "metadata": {}
        },
        {
          "output_type": "display_data",
          "data": {
            "text/plain": [
              "<IPython.core.display.Javascript object>"
            ],
            "application/javascript": [
              "download(\"download_30a57f33-4164-4a6a-9c86-4b3c84f5a1b2\", \"grafico_tienda3.png\", 22536)"
            ]
          },
          "metadata": {}
        }
      ]
    },
    {
      "cell_type": "code",
      "source": [
        "\n",
        "#graficar los valores de las categorias tienda 4\n",
        "plt.bar(resultados_tienda4.keys(), resultados_tienda4.values(), color='pink')\n",
        "plt.xlabel('Categoria', fontsize=10)\n",
        "plt.ylabel('Cantidad Vendida')\n",
        "plt.title('Artículos más Vendidos en la Tienda 4')\n",
        "plt.setp(plt.gca().get_xticklabels(), rotation=90)\n",
        "plt.savefig('grafico_tienda4.png')\n",
        "plt.show()"
      ],
      "metadata": {
        "colab": {
          "base_uri": "https://localhost:8080/",
          "height": 623
        },
        "id": "chN4t6FX35ci",
        "outputId": "ca5cdcf6-a71f-4d11-b607-b04103226273"
      },
      "execution_count": 64,
      "outputs": [
        {
          "output_type": "display_data",
          "data": {
            "text/plain": [
              "<Figure size 640x480 with 1 Axes>"
            ],
            "image/png": "[encoded data removed]"
          },
          "metadata": {}
        }
      ]
    },
    {
      "cell_type": "code",
      "source": [
        "from google.colab import files\n",
        "files.download('grafico_tienda4.png')"
      ],
      "metadata": {
        "colab": {
          "base_uri": "https://localhost:8080/",
          "height": 17
        },
        "id": "97nrzPzr4NLL",
        "outputId": "1046345a-774b-4dbd-fe37-616bf76bf5bc"
      },
      "execution_count": 65,
      "outputs": [
        {
          "output_type": "display_data",
          "data": {
            "text/plain": [
              "<IPython.core.display.Javascript object>"
            ],
            "application/javascript": [
              "\n",
              "    async function download(id, filename, size) {\n",
              "      if (!google.colab.kernel.accessAllowed) {\n",
              "        return;\n",
              "      }\n",
              "      const div = document.createElement('div');\n",
              "      const label = document.createElement('label');\n",
              "      label.textContent = `Downloading \"${filename}\": `;\n",
              "      div.appendChild(label);\n",
              "      const progress = document.createElement('progress');\n",
              "      progress.max = size;\n",
              "      div.appendChild(progress);\n",
              "      document.body.appendChild(div);\n",
              "\n",
              "      const buffers = [];\n",
              "      let downloaded = 0;\n",
              "\n",
              "      const channel = await google.colab.kernel.comms.open(id);\n",
              "      // Send a message to notify the kernel that we're ready.\n",
              "      channel.send({})\n",
              "\n",
              "      for await (const message of channel.messages) {\n",
              "        // Send a message to notify the kernel that we're ready.\n",
              "        channel.send({})\n",
              "        if (message.buffers) {\n",
              "          for (const buffer of message.buffers) {\n",
              "            buffers.push(buffer);\n",
              "            downloaded += buffer.byteLength;\n",
              "            progress.value = downloaded;\n",
              "          }\n",
              "        }\n",
              "      }\n",
              "      const blob = new Blob(buffers, {type: 'application/binary'});\n",
              "      const a = document.createElement('a');\n",
              "      a.href = window.URL.createObjectURL(blob);\n",
              "      a.download = filename;\n",
              "      div.appendChild(a);\n",
              "      a.click();\n",
              "      div.remove();\n",
              "    }\n",
              "  "
            ]
          },
          "metadata": {}
        },
        {
          "output_type": "display_data",
          "data": {
            "text/plain": [
              "<IPython.core.display.Javascript object>"
            ],
            "application/javascript": [
              "download(\"download_b187970b-a7db-4e0d-96cc-72e62667a87b\", \"grafico_tienda4.png\", 22216)"
            ]
          },
          "metadata": {}
        }
      ]
    },
    {
      "cell_type": "code",
      "source": [
        "#articulos mas vendidos y menos vendidos en la tienda 1\n",
        "producto_vendido = max(resultados_tienda1.values())\n",
        "articulo_maximo = [articulo for articulo, conteo in resultados_tienda1.items() if conteo == producto_vendido]\n",
        "resultado = f\"El artículo más vendido en la Tienda 1 es: {articulo_maximo[0]} con {producto_vendido} unidades.\"\n",
        "print(resultado)\n",
        "producto_menos_vendio= min(resultados_tienda1.values())\n",
        "articulo_minimo = [articulo for articulo, conteo in resultados_tienda1.items() if conteo == producto_menos_vendio]\n",
        "resultado_minimo = f\"El artículo menos vendido de la Tienda 1 es: {articulo_minimo[0]} con {producto_menos_vendio} unidades.\"\n",
        "\n",
        "if len(articulo_minimo) > 1:\n",
        "    articulos = \", \".join(articulo_minimo)\n",
        "    print(f\"Los artículos menos vendidos en la Tienda 1 con: {producto_menos_vendio} unidades son: {articulos}.\")\n",
        "else:\n",
        "    print(f\"El artículo menos vendido en la Tienda 1 es: {articulo_minimo[0]} con {producto_menos_vendio} unidades.\")\n",
        "print(\"\"\" \"\"\")\n",
        "\n",
        "#articulo mas vendido y menos vendido en la tienda 2\n",
        "producto_vendido2 = max(resultados_tienda2.values())\n",
        "articulo_maximo2 = [articulo for articulo, conteo in resultados_tienda2.items() if conteo == producto_vendido2]\n",
        "resultado2 = f\"El artículo más vendido de la Tienda 2 es: {articulo_maximo2[0]} con {producto_vendido2} unidades.\"\n",
        "print(resultado2)\n",
        "producto_menos_vendio2= min(resultados_tienda2.values())\n",
        "articulo_minimo2 = [articulo for articulo, conteo in resultados_tienda2.items() if conteo == producto_menos_vendio2]\n",
        "resultado_minimo2 = f\"El artículo menos vendido de la Tienda 2 es: {articulo_minimo2[0]} con {producto_menos_vendio2} unidades.\"\n",
        "\n",
        "if len(articulo_minimo2) > 1:\n",
        "    articulos2 = \", \".join(articulo_minimo2)\n",
        "    print(f\"Los artículos menos vendidos en la Tienda 2 con: {producto_menos_vendio2} unidades son: {articulos2}.\")\n",
        "else:\n",
        "    print(f\"El artículo menos vendido en la Tienda 2 es: {articulo_minimo2[0]} con {producto_menos_vendio2} unidades.\")\n",
        "print(\"\"\" \"\"\")\n",
        "\n",
        "\n",
        "#articulo mas vendido y menos vendido en la tienda 3\n",
        "producto_vendido3 = max(resultados_tienda3.values())\n",
        "articulo_maximo3 = [articulo for articulo, conteo in resultados_tienda3.items() if conteo == producto_vendido3]\n",
        "resultado3 = f\"El artículo más vendido de la Tienda 3 es: {articulo_maximo3[0]} con {producto_vendido3} unidades.\"\n",
        "print(resultado3)\n",
        "producto_menos_vendio3= min(resultados_tienda3.values())\n",
        "articulo_minimo3 = [articulo for articulo, conteo in resultados_tienda3.items() if conteo == producto_menos_vendio3]\n",
        "resultado_minimo3 = f\"El artículo menos vendido de la Tienda 3 es: {articulo_minimo3[0]} con {producto_menos_vendio3} unidades.\"\n",
        "\n",
        "if len(articulo_minimo3) > 1:\n",
        "    articulos3 = \", \".join(articulo_minimo3)\n",
        "    print(f\"Los artículos menos vendidos en la Tienda 3 con: {producto_menos_vendio3} unidades son: {articulos3}.\")\n",
        "else:\n",
        "    print(f\"El artículo menos vendido en la Tienda 3 es: {articulo_minimo3[0]} con {producto_menos_vendio3} unidades.\")\n",
        "print(\"\"\" \"\"\")\n",
        "\n",
        "\n",
        "#articulo mas vendido y menos vendido en la tienda 4\n",
        "producto_vendido4 = max(resultados_tienda4.values())\n",
        "articulo_maximo4 = [articulo for articulo, conteo in resultados_tienda4.items() if conteo == producto_vendido4]\n",
        "resultado4 = f\"El artículo más vendido de la Tienda 4 es: {articulo_maximo4[0]} con {producto_vendido4} unidades.\"\n",
        "print(resultado4)\n",
        "producto_menos_vendio4= min(resultados_tienda4.values())\n",
        "articulo_minimo4 = [articulo for articulo, conteo in resultados_tienda4.items() if conteo == producto_menos_vendio4]\n",
        "resultado_minimo4 = f\"El artículo menos vendido de la Tienda 4 es: {articulo_minimo4[0]} con {producto_menos_vendio4} unidades.\"\n",
        "\n",
        "if len(articulo_minimo4) > 1:\n",
        "    articulos4 = \", \".join(articulo_minimo4)\n",
        "    print(f\"Los artículos menos vendidos en la Tienda 4 con: {producto_menos_vendio4} unidades son: {articulos4}.\")\n",
        "else:\n",
        "    print(f\"El artículo menos vendido en la Tienda 4 es: {articulo_minimo4[0]} con {producto_menos_vendio4} unidades.\")\n",
        "print(\"\"\" \"\"\")\n",
        "\n"
      ],
      "metadata": {
        "id": "0Sw3sd4IZIGW",
        "colab": {
          "base_uri": "https://localhost:8080/"
        },
        "outputId": "5ef59d0f-d1b3-4ee2-cb8d-77e22ba4da45"
      },
      "execution_count": 66,
      "outputs": [
        {
          "output_type": "stream",
          "name": "stdout",
          "text": [
            "El artículo más vendido en la Tienda 1 es: Muebles con 465 unidades.\n",
            "El artículo menos vendido en la Tienda 1 es: Articulos para el hogar con 171 unidades.\n",
            " \n",
            "El artículo más vendido de la Tienda 2 es: Muebles con 442 unidades.\n",
            "El artículo menos vendido en la Tienda 2 es: Articulos para el hogar con 181 unidades.\n",
            " \n",
            "El artículo más vendido de la Tienda 3 es: Muebles con 499 unidades.\n",
            "Los artículos menos vendidos en la Tienda 3 con: 177 unidades son: Articulos para el hogar, Instrumentos musicales.\n",
            " \n",
            "El artículo más vendido de la Tienda 4 es: Muebles con 480 unidades.\n",
            "El artículo menos vendido en la Tienda 4 es: Instrumentos musicales con 170 unidades.\n",
            " \n"
          ]
        }
      ]
    },
    {
      "cell_type": "code",
      "source": [],
      "metadata": {
        "id": "SrwYBCOCx9SH"
      },
      "execution_count": 66,
      "outputs": []
    },
    {
      "cell_type": "code",
      "source": [],
      "metadata": {
        "id": "okERGrOg03JY"
      },
      "execution_count": 66,
      "outputs": []
    },
    {
      "cell_type": "markdown",
      "source": [
        "# 5. Envío promedio por tienda"
      ],
      "metadata": {
        "id": "Fl0cGi3bZKqU"
      }
    },
    {
      "cell_type": "code",
      "source": [
        "temp = tienda.columns\n",
        "print(temp)"
      ],
      "metadata": {
        "id": "0tSdCie9ZQlt",
        "colab": {
          "base_uri": "https://localhost:8080/"
        },
        "outputId": "0a340bdf-d67c-4d81-e3b6-e0a27408ad3a"
      },
      "execution_count": 67,
      "outputs": [
        {
          "output_type": "stream",
          "name": "stdout",
          "text": [
            "Index(['Producto', 'Categoría del Producto', 'Precio', 'Costo de envío',\n",
            "       'Fecha de Compra', 'Vendedor', 'Lugar de Compra', 'Calificación',\n",
            "       'Método de pago', 'Cantidad de cuotas', 'lat', 'lon'],\n",
            "      dtype='object')\n"
          ]
        }
      ]
    },
    {
      "cell_type": "code",
      "source": [
        "#suma total de los envios en T1\n",
        "total_envio_tienda1 = tienda['Costo de envío'].sum()\n",
        "print('La suma total del Costo de envío en la tienda 1 es de: ', total_envio_tienda1)\n",
        "\n",
        "#suma total de los envios en T2\n",
        "total_envio_tienda2 = tienda2['Costo de envío'].sum()\n",
        "print('La suma total del Costo de envío en la tienda 2 es de: ', total_envio_tienda2)\n",
        "\n",
        "#suma total de los envios en T3\n",
        "total_envio_tienda3 = tienda3['Costo de envío'].sum()\n",
        "print('La suma total del Costo de envío en la tienda 3 es de: ',total_envio_tienda3)\n",
        "\n",
        "#suma total de los envios en T4\n",
        "total_envio_tienda4 = tienda4['Costo de envío'].sum()\n",
        "print('La suma total del Costo de envío en la tienda 4 es de: ',total_envio_tienda4)"
      ],
      "metadata": {
        "colab": {
          "base_uri": "https://localhost:8080/"
        },
        "id": "ae-vrZbjYtD8",
        "outputId": "71524026-a823-40cd-c628-d31e52ba3738"
      },
      "execution_count": 68,
      "outputs": [
        {
          "output_type": "stream",
          "name": "stdout",
          "text": [
            "La suma total del Costo de envío en la tienda 1 es de:  61377900.0\n",
            "La suma total del Costo de envío en la tienda 2 es de:  59485100.0\n",
            "La suma total del Costo de envío en la tienda 3 es de:  58516600.0\n",
            "La suma total del Costo de envío en la tienda 4 es de:  55317400.0\n"
          ]
        }
      ]
    },
    {
      "cell_type": "code",
      "source": [
        "#Valor promedio de Costo de envío en la tienda 1\n",
        "promedio_envio_tienda1=(total_envio_tienda1/len(tienda['Costo de envío']))\n",
        "print('El promedio del Costo de envío en la tienda 1 es de: ', promedio_envio_tienda1)\n",
        "print(\"\"\" \"\"\")\n",
        "\n",
        "#Valor promedio de Costo de envío en la tienda 2\n",
        "promedio_envio_tienda2=(total_envio_tienda2/len(tienda2['Costo de envío']))\n",
        "print('El promedio del Costo de envío en la tienda 2 es de: ', promedio_envio_tienda2)\n",
        "print(\"\"\" \"\"\")\n",
        "\n",
        "#Valor promedio de Costo de envío en la tienda 3\n",
        "promedio_envio_tienda3=(total_envio_tienda3/len(tienda3['Costo de envío']))\n",
        "print('El promedio del Costo de envío en la tienda 3 es de: ', promedio_envio_tienda3)\n",
        "print(\"\"\" \"\"\")\n",
        "\n",
        "#Valor promedio de Costo de envío en la tienda 3\n",
        "promedio_envio_tienda3=(total_envio_tienda3/len(tienda3['Costo de envío']))\n",
        "\n",
        "#Valor promedio de Costo de envío en la tienda 4\n",
        "promedio_envio_tienda4=(total_envio_tienda4/len(tienda4['Costo de envío']))\n",
        "print('El promedio del Costo de envío en la tienda 4 es de: ', promedio_envio_tienda4)\n",
        "print(\"\"\" \"\"\")\n"
      ],
      "metadata": {
        "colab": {
          "base_uri": "https://localhost:8080/"
        },
        "id": "o0QofK2eZ_1v",
        "outputId": "442b67ea-56b3-41f0-a82f-ce7cd27215de"
      },
      "execution_count": 69,
      "outputs": [
        {
          "output_type": "stream",
          "name": "stdout",
          "text": [
            "El promedio del Costo de envío en la tienda 1 es de:  26018.60958033065\n",
            " \n",
            "El promedio del Costo de envío en la tienda 2 es de:  25216.235693090293\n",
            " \n",
            "El promedio del Costo de envío en la tienda 3 es de:  24805.680373039424\n",
            " \n",
            "El promedio del Costo de envío en la tienda 4 es de:  23459.457167090754\n",
            " \n"
          ]
        }
      ]
    },
    {
      "cell_type": "code",
      "source": [
        "lista_promedio_envios = [promedio_envio_tienda1, promedio_envio_tienda2, promedio_envio_tienda3, promedio_envio_tienda4]\n",
        "lista_tiendas = ['Tienda 1', 'Tienda 2', 'Tienda 3', 'Tienda 4']\n",
        "\n",
        "# Crear un gráfico de barras\n",
        "plt.bar(lista_tiendas, lista_promedio_envios, color=['blue', 'orange', 'green', 'red'])\n",
        "\n",
        "# Añadir título y etiquetas\n",
        "plt.title('Valor promedio de envios por Tienda')\n",
        "plt.xlabel('Tiendas')\n",
        "plt.ylabel('valor promedio de envios')\n",
        "\n",
        "# Formatear el eje Y para que no use notación científica\n",
        "plt.gca().yaxis.set_major_formatter(ticker.StrMethodFormatter('{x:,.0f}'))\n",
        "\n",
        "# Mostrar el gráfico\n",
        "plt.show()"
      ],
      "metadata": {
        "colab": {
          "base_uri": "https://localhost:8080/",
          "height": 472
        },
        "id": "0B71AqZeKPr9",
        "outputId": "fe3f840c-6737-4066-81c6-0a3d6caed1d6"
      },
      "execution_count": 70,
      "outputs": [
        {
          "output_type": "display_data",
          "data": {
            "text/plain": [
              "<Figure size 640x480 with 1 Axes>"
            ],
            "image/png": "[encoded data removed]"
          },
          "metadata": {}
        }
      ]
    },
    {
      "cell_type": "code",
      "source": [
        "plt.pie(lista_promedio_envios, labels=lista_tiendas, autopct='%1.1f%%', startangle=140)\n",
        "plt.axis('equal')\n",
        "plt.title('Costo Totales de envios')\n",
        "plt.show()"
      ],
      "metadata": {
        "colab": {
          "base_uri": "https://localhost:8080/",
          "height": 433
        },
        "id": "SRJr0u5B3da9",
        "outputId": "43f4bff3-4e80-4154-e4a2-2ef0b450b58f"
      },
      "execution_count": 71,
      "outputs": [
        {
          "output_type": "display_data",
          "data": {
            "text/plain": [
              "<Figure size 640x480 with 1 Axes>"
            ],
            "image/png": "[encoded data removed]"
          },
          "metadata": {}
        }
      ]
    },
    {
      "cell_type": "code",
      "source": [],
      "metadata": {
        "id": "LmCGMgJY3dlJ"
      },
      "execution_count": 71,
      "outputs": []
    },
    {
      "cell_type": "markdown",
      "source": [
        "#Objetivo: Evaluar el desempeño de cada tienda, obteniendo los resultados a través del análisis y visualización de datos.\n",
        "\n",
        "Se tomaron en cuenta los siguientes aspectos:\n",
        "\n",
        "*   El ingreso total en cada tienda.\n",
        "*   Las categorías de productos más populares.\n",
        "\n",
        "*   El nivel de satisfacción de los clientes promediando las calificaciones por tienda.\n",
        "*   Los productos con más y menos ventas.\n",
        "\n",
        "*   El coste de envío promedio para cada tienda.\n",
        "\n",
        "\n",
        "\n",
        "\n",
        "La tienda 1 representa el 26.1% de los ingresos totales, esta sucursal tiene como debilidad la atención al cliente, razón importante para corregirlo, considerando que es la tienda que aporta más rendimiento.\n",
        "\n",
        "Con respecto a las sucursales Tienda 2 y Tienda 3 son la mejor opción para mantenerlas en circulación y continuar las operaciones, el nivel de satisfacción de los clientes indican una gran fortaleza.\n",
        "\n",
        "La tienda 4 muestra un menor numero de ventas, menor rendimiento y baja satisfacción del cliente, por lo que se sugiere que esta sea la tienda que se venda.\n",
        "\n",
        "\n",
        "\n",
        "\n"
      ],
      "metadata": {
        "id": "_VqeXY2LZ94v"
      }
    },
    {
      "cell_type": "code",
      "source": [],
      "metadata": {
        "id": "xmTK0tJIdq-t"
      },
      "execution_count": null,
      "outputs": []
    }
  ]
}